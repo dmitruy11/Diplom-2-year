{
  "cells": [
    {
      "cell_type": "markdown",
      "metadata": {
        "id": "view-in-github",
        "colab_type": "text"
      },
      "source": [
        "<a href=\"https://colab.research.google.com/github/dmitruy11/Diplom-2-year/blob/main/model2.ipynb\" target=\"_parent\"><img src=\"https://colab.research.google.com/assets/colab-badge.svg\" alt=\"Open In Colab\"/></a>"
      ]
    },
    {
      "cell_type": "code",
      "execution_count": 97,
      "metadata": {
        "colab": {
          "base_uri": "https://localhost:8080/"
        },
        "id": "2TktWr6BEu2K",
        "outputId": "9de45158-1dd3-493c-82be-e67957dde293"
      },
      "outputs": [
        {
          "output_type": "stream",
          "name": "stderr",
          "text": [
            "/usr/local/lib/python3.10/dist-packages/ipykernel/ipkernel.py:283: DeprecationWarning: `should_run_async` will not call `transform_cell` automatically in the future. Please pass the result to `transformed_cell` argument and any exception that happen during thetransform in `preprocessing_exc_tuple` in IPython 7.17 and above.\n",
            "  and should_run_async(code)\n"
          ]
        },
        {
          "output_type": "stream",
          "name": "stdout",
          "text": [
            "Requirement already satisfied: implicit in /usr/local/lib/python3.10/dist-packages (0.7.2)\n",
            "Requirement already satisfied: numpy>=1.17.0 in /usr/local/lib/python3.10/dist-packages (from implicit) (1.25.2)\n",
            "Requirement already satisfied: scipy>=0.16 in /usr/local/lib/python3.10/dist-packages (from implicit) (1.11.4)\n",
            "Requirement already satisfied: tqdm>=4.27 in /usr/local/lib/python3.10/dist-packages (from implicit) (4.66.4)\n",
            "Requirement already satisfied: threadpoolctl in /usr/local/lib/python3.10/dist-packages (from implicit) (3.5.0)\n"
          ]
        }
      ],
      "source": [
        "pip install implicit"
      ]
    },
    {
      "cell_type": "code",
      "execution_count": 98,
      "metadata": {
        "colab": {
          "base_uri": "https://localhost:8080/"
        },
        "id": "KLwwKVzB1c1T",
        "outputId": "8a9ce72e-7e91-4792-800b-b5dc635946a1"
      },
      "outputs": [
        {
          "output_type": "stream",
          "name": "stderr",
          "text": [
            "/usr/local/lib/python3.10/dist-packages/ipykernel/ipkernel.py:283: DeprecationWarning: `should_run_async` will not call `transform_cell` automatically in the future. Please pass the result to `transformed_cell` argument and any exception that happen during thetransform in `preprocessing_exc_tuple` in IPython 7.17 and above.\n",
            "  and should_run_async(code)\n"
          ]
        },
        {
          "output_type": "stream",
          "name": "stdout",
          "text": [
            "Requirement already satisfied: catboost in /usr/local/lib/python3.10/dist-packages (1.2.5)\n",
            "Requirement already satisfied: graphviz in /usr/local/lib/python3.10/dist-packages (from catboost) (0.20.3)\n",
            "Requirement already satisfied: matplotlib in /usr/local/lib/python3.10/dist-packages (from catboost) (3.7.1)\n",
            "Requirement already satisfied: numpy>=1.16.0 in /usr/local/lib/python3.10/dist-packages (from catboost) (1.25.2)\n",
            "Requirement already satisfied: pandas>=0.24 in /usr/local/lib/python3.10/dist-packages (from catboost) (2.0.3)\n",
            "Requirement already satisfied: scipy in /usr/local/lib/python3.10/dist-packages (from catboost) (1.11.4)\n",
            "Requirement already satisfied: plotly in /usr/local/lib/python3.10/dist-packages (from catboost) (5.15.0)\n",
            "Requirement already satisfied: six in /usr/local/lib/python3.10/dist-packages (from catboost) (1.16.0)\n",
            "Requirement already satisfied: python-dateutil>=2.8.2 in /usr/local/lib/python3.10/dist-packages (from pandas>=0.24->catboost) (2.8.2)\n",
            "Requirement already satisfied: pytz>=2020.1 in /usr/local/lib/python3.10/dist-packages (from pandas>=0.24->catboost) (2023.4)\n",
            "Requirement already satisfied: tzdata>=2022.1 in /usr/local/lib/python3.10/dist-packages (from pandas>=0.24->catboost) (2024.1)\n",
            "Requirement already satisfied: contourpy>=1.0.1 in /usr/local/lib/python3.10/dist-packages (from matplotlib->catboost) (1.2.1)\n",
            "Requirement already satisfied: cycler>=0.10 in /usr/local/lib/python3.10/dist-packages (from matplotlib->catboost) (0.12.1)\n",
            "Requirement already satisfied: fonttools>=4.22.0 in /usr/local/lib/python3.10/dist-packages (from matplotlib->catboost) (4.51.0)\n",
            "Requirement already satisfied: kiwisolver>=1.0.1 in /usr/local/lib/python3.10/dist-packages (from matplotlib->catboost) (1.4.5)\n",
            "Requirement already satisfied: packaging>=20.0 in /usr/local/lib/python3.10/dist-packages (from matplotlib->catboost) (24.0)\n",
            "Requirement already satisfied: pillow>=6.2.0 in /usr/local/lib/python3.10/dist-packages (from matplotlib->catboost) (9.4.0)\n",
            "Requirement already satisfied: pyparsing>=2.3.1 in /usr/local/lib/python3.10/dist-packages (from matplotlib->catboost) (3.1.2)\n",
            "Requirement already satisfied: tenacity>=6.2.0 in /usr/local/lib/python3.10/dist-packages (from plotly->catboost) (8.3.0)\n"
          ]
        }
      ],
      "source": [
        "pip install catboost"
      ]
    },
    {
      "cell_type": "code",
      "execution_count": 99,
      "metadata": {
        "colab": {
          "base_uri": "https://localhost:8080/"
        },
        "id": "yEUKZgu6tAnJ",
        "outputId": "62d15c23-ec4c-4de2-a02b-2f103d58367b"
      },
      "outputs": [
        {
          "output_type": "stream",
          "name": "stderr",
          "text": [
            "/usr/local/lib/python3.10/dist-packages/ipykernel/ipkernel.py:283: DeprecationWarning: `should_run_async` will not call `transform_cell` automatically in the future. Please pass the result to `transformed_cell` argument and any exception that happen during thetransform in `preprocessing_exc_tuple` in IPython 7.17 and above.\n",
            "  and should_run_async(code)\n"
          ]
        },
        {
          "output_type": "stream",
          "name": "stdout",
          "text": [
            "Requirement already satisfied: LightFM in /usr/local/lib/python3.10/dist-packages (1.17)\n",
            "Requirement already satisfied: numpy in /usr/local/lib/python3.10/dist-packages (from LightFM) (1.25.2)\n",
            "Requirement already satisfied: scipy>=0.17.0 in /usr/local/lib/python3.10/dist-packages (from LightFM) (1.11.4)\n",
            "Requirement already satisfied: requests in /usr/local/lib/python3.10/dist-packages (from LightFM) (2.31.0)\n",
            "Requirement already satisfied: scikit-learn in /usr/local/lib/python3.10/dist-packages (from LightFM) (1.2.2)\n",
            "Requirement already satisfied: charset-normalizer<4,>=2 in /usr/local/lib/python3.10/dist-packages (from requests->LightFM) (3.3.2)\n",
            "Requirement already satisfied: idna<4,>=2.5 in /usr/local/lib/python3.10/dist-packages (from requests->LightFM) (3.7)\n",
            "Requirement already satisfied: urllib3<3,>=1.21.1 in /usr/local/lib/python3.10/dist-packages (from requests->LightFM) (2.0.7)\n",
            "Requirement already satisfied: certifi>=2017.4.17 in /usr/local/lib/python3.10/dist-packages (from requests->LightFM) (2024.2.2)\n",
            "Requirement already satisfied: joblib>=1.1.1 in /usr/local/lib/python3.10/dist-packages (from scikit-learn->LightFM) (1.4.2)\n",
            "Requirement already satisfied: threadpoolctl>=2.0.0 in /usr/local/lib/python3.10/dist-packages (from scikit-learn->LightFM) (3.5.0)\n"
          ]
        }
      ],
      "source": [
        "pip install  LightFM"
      ]
    },
    {
      "cell_type": "code",
      "execution_count": 100,
      "metadata": {
        "id": "rizzuYZ-EVvb",
        "colab": {
          "base_uri": "https://localhost:8080/"
        },
        "outputId": "3e640d2d-9509-427d-a4bb-02d0c8170703"
      },
      "outputs": [
        {
          "output_type": "stream",
          "name": "stderr",
          "text": [
            "/usr/local/lib/python3.10/dist-packages/ipykernel/ipkernel.py:283: DeprecationWarning: `should_run_async` will not call `transform_cell` automatically in the future. Please pass the result to `transformed_cell` argument and any exception that happen during thetransform in `preprocessing_exc_tuple` in IPython 7.17 and above.\n",
            "  and should_run_async(code)\n"
          ]
        }
      ],
      "source": [
        "import pandas as pd\n",
        "import numpy as np\n",
        "from lightfm.evaluation import precision_at_k\n",
        "from lightfm.data import Dataset\n",
        "from lightfm import LightFM\n",
        "import datetime\n",
        "import time\n",
        "from catboost import CatBoostClassifier\n",
        "import warnings\n",
        "warnings.filterwarnings('ignore')\n",
        "\n",
        "%matplotlib inline\n",
        "import matplotlib.pyplot as plt\n",
        "import seaborn as sns\n",
        "\n",
        "from   xgboost  import XGBClassifier\n",
        "from sklearn import metrics\n",
        "\n",
        "from scipy.sparse import csr_matrix\n",
        "\n",
        "from sklearn.model_selection import train_test_split\n",
        "from sklearn.linear_model import LogisticRegression\n",
        "from sklearn import metrics\n",
        "\n",
        "from mlxtend.preprocessing import TransactionEncoder\n",
        "from mlxtend.frequent_patterns import apriori, association_rules\n",
        "\n",
        "\n",
        "from scipy.sparse import coo_matrix\n",
        "import scipy.sparse as sparse\n",
        "from sklearn import preprocessing\n",
        "\n",
        "from implicit.als import AlternatingLeastSquares\n",
        "from implicit.evaluation import mean_average_precision_at_k\n",
        "import pickle\n",
        "from lightfm.evaluation import precision_at_k, auc_score"
      ]
    },
    {
      "cell_type": "code",
      "execution_count": 101,
      "metadata": {
        "colab": {
          "base_uri": "https://localhost:8080/"
        },
        "id": "Q0uMghCzjDck",
        "outputId": "a064f00d-2053-4aa7-dcb4-f27a96c8a439"
      },
      "outputs": [
        {
          "output_type": "stream",
          "name": "stdout",
          "text": [
            "2.0.3\n"
          ]
        }
      ],
      "source": [
        "import pandas as pd\n",
        "print(pd.__version__)"
      ]
    },
    {
      "cell_type": "code",
      "execution_count": 102,
      "metadata": {
        "id": "lf4TArBHOlVM"
      },
      "outputs": [],
      "source": [
        "import pickle\n",
        "from google.colab import files"
      ]
    },
    {
      "cell_type": "markdown",
      "metadata": {
        "id": "Ajqw0ke0gSDN"
      },
      "source": [
        "Python\n",
        "\n",
        "\n",
        "from google.colab import drive\n",
        "drive.mount('/content/drive')\n",
        "\n",
        "После выполнения этого кода вам будет предложено перейти по ссылке и аутентифицироваться в своей учетной записи Google. После успешной аутентификации вы получите доступ к своему Google Drive в Colab.\n",
        "\n",
        "2. Получение пути к файлу на Google Drive\n",
        "\n",
        "Теперь вы должны получить путь к файлу data.pickle на вашем Google Drive. Предположим, что файл находится в папке my_folder в корневой директории Google Drive. Вы можете получить полный путь к файлу следующим образом:\n",
        "\n",
        "Python\n",
        "\n",
        "\n",
        "file_path = '/content/drive/MyDrive/my_folder/data.pickle'\n",
        "\n",
        "Замените my_folder на название соответствующей папки, в которой находится ваш файл data.pickle."
      ]
    },
    {
      "cell_type": "code",
      "execution_count": 103,
      "metadata": {
        "colab": {
          "base_uri": "https://localhost:8080/"
        },
        "id": "XZBU9Oq0f9Jc",
        "outputId": "1224c053-f0b4-4066-8095-631194b70c27"
      },
      "outputs": [
        {
          "output_type": "stream",
          "name": "stdout",
          "text": [
            "Drive already mounted at /content/drive; to attempt to forcibly remount, call drive.mount(\"/content/drive\", force_remount=True).\n"
          ]
        }
      ],
      "source": [
        "from google.colab import drive\n",
        "drive.mount('/content/drive')"
      ]
    },
    {
      "cell_type": "code",
      "execution_count": 104,
      "metadata": {
        "id": "nH94ET35fWwl"
      },
      "outputs": [],
      "source": [
        "file_path = '/content/drive/MyDrive/diploma/data.pickle'"
      ]
    },
    {
      "cell_type": "code",
      "execution_count": 105,
      "metadata": {
        "id": "xSziDSRYfsSH"
      },
      "outputs": [],
      "source": [
        "import pickle\n",
        "\n",
        "with open(file_path, 'rb') as f:\n",
        "    data = pickle.load(f)"
      ]
    },
    {
      "cell_type": "code",
      "execution_count": 106,
      "metadata": {
        "colab": {
          "base_uri": "https://localhost:8080/",
          "height": 424
        },
        "id": "9OFM4WA3gH70",
        "outputId": "56428ab0-87e0-4887-e752-129a9ab87d58"
      },
      "outputs": [
        {
          "output_type": "execute_result",
          "data": {
            "text/plain": [
              "         visitorid event  itemid  transactionid                    data  hour  \\\n",
              "0           257597  view  355908            NaN 2015-06-02 05:02:12.117     5   \n",
              "1           992329  view  248676            NaN 2015-06-02 05:50:14.164     5   \n",
              "2           111016  view  318965            NaN 2015-06-02 05:13:19.827     5   \n",
              "3           483717  view  253185            NaN 2015-06-02 05:12:35.914     5   \n",
              "4           951259  view  367447            NaN 2015-06-02 05:02:17.106     5   \n",
              "...            ...   ...     ...            ...                     ...   ...   \n",
              "2755636     591435  view  261427            NaN 2015-08-01 03:13:05.939     3   \n",
              "2755637     762376  view  115946            NaN 2015-08-01 03:30:13.142     3   \n",
              "2755638    1251746  view   78144            NaN 2015-08-01 02:57:00.527     2   \n",
              "2755639    1184451  view  283392            NaN 2015-08-01 03:08:50.703     3   \n",
              "2755640     199536  view  152913            NaN 2015-08-01 03:36:03.914     3   \n",
              "\n",
              "         month  day_of_week  is_weekend  is_holiday time_of_day property  \\\n",
              "0            6            1           0           0       Night      NaN   \n",
              "1            6            1           0           0       Night      NaN   \n",
              "2            6            1           0           0       Night      NaN   \n",
              "3            6            1           0           0       Night      NaN   \n",
              "4            6            1           0           0       Night      NaN   \n",
              "...        ...          ...         ...         ...         ...      ...   \n",
              "2755636      8            5           1           0       Night      NaN   \n",
              "2755637      8            5           1           0       Night      NaN   \n",
              "2755638      8            5           1           0       Night      NaN   \n",
              "2755639      8            5           1           0       Night      NaN   \n",
              "2755640      8            5           1           0       Night      NaN   \n",
              "\n",
              "        value  categoryid  parentid  \n",
              "0         NaN         NaN       NaN  \n",
              "1         NaN         NaN       NaN  \n",
              "2         NaN         NaN       NaN  \n",
              "3         NaN         NaN       NaN  \n",
              "4         NaN         NaN       NaN  \n",
              "...       ...         ...       ...  \n",
              "2755636   NaN         NaN       NaN  \n",
              "2755637   NaN         NaN       NaN  \n",
              "2755638   NaN         NaN       NaN  \n",
              "2755639   NaN         NaN       NaN  \n",
              "2755640   NaN         NaN       NaN  \n",
              "\n",
              "[2755641 rows x 15 columns]"
            ],
            "text/html": [
              "\n",
              "  <div id=\"df-205379ff-7c5a-4b9a-aac2-5f3b99a83849\" class=\"colab-df-container\">\n",
              "    <div>\n",
              "<style scoped>\n",
              "    .dataframe tbody tr th:only-of-type {\n",
              "        vertical-align: middle;\n",
              "    }\n",
              "\n",
              "    .dataframe tbody tr th {\n",
              "        vertical-align: top;\n",
              "    }\n",
              "\n",
              "    .dataframe thead th {\n",
              "        text-align: right;\n",
              "    }\n",
              "</style>\n",
              "<table border=\"1\" class=\"dataframe\">\n",
              "  <thead>\n",
              "    <tr style=\"text-align: right;\">\n",
              "      <th></th>\n",
              "      <th>visitorid</th>\n",
              "      <th>event</th>\n",
              "      <th>itemid</th>\n",
              "      <th>transactionid</th>\n",
              "      <th>data</th>\n",
              "      <th>hour</th>\n",
              "      <th>month</th>\n",
              "      <th>day_of_week</th>\n",
              "      <th>is_weekend</th>\n",
              "      <th>is_holiday</th>\n",
              "      <th>time_of_day</th>\n",
              "      <th>property</th>\n",
              "      <th>value</th>\n",
              "      <th>categoryid</th>\n",
              "      <th>parentid</th>\n",
              "    </tr>\n",
              "  </thead>\n",
              "  <tbody>\n",
              "    <tr>\n",
              "      <th>0</th>\n",
              "      <td>257597</td>\n",
              "      <td>view</td>\n",
              "      <td>355908</td>\n",
              "      <td>NaN</td>\n",
              "      <td>2015-06-02 05:02:12.117</td>\n",
              "      <td>5</td>\n",
              "      <td>6</td>\n",
              "      <td>1</td>\n",
              "      <td>0</td>\n",
              "      <td>0</td>\n",
              "      <td>Night</td>\n",
              "      <td>NaN</td>\n",
              "      <td>NaN</td>\n",
              "      <td>NaN</td>\n",
              "      <td>NaN</td>\n",
              "    </tr>\n",
              "    <tr>\n",
              "      <th>1</th>\n",
              "      <td>992329</td>\n",
              "      <td>view</td>\n",
              "      <td>248676</td>\n",
              "      <td>NaN</td>\n",
              "      <td>2015-06-02 05:50:14.164</td>\n",
              "      <td>5</td>\n",
              "      <td>6</td>\n",
              "      <td>1</td>\n",
              "      <td>0</td>\n",
              "      <td>0</td>\n",
              "      <td>Night</td>\n",
              "      <td>NaN</td>\n",
              "      <td>NaN</td>\n",
              "      <td>NaN</td>\n",
              "      <td>NaN</td>\n",
              "    </tr>\n",
              "    <tr>\n",
              "      <th>2</th>\n",
              "      <td>111016</td>\n",
              "      <td>view</td>\n",
              "      <td>318965</td>\n",
              "      <td>NaN</td>\n",
              "      <td>2015-06-02 05:13:19.827</td>\n",
              "      <td>5</td>\n",
              "      <td>6</td>\n",
              "      <td>1</td>\n",
              "      <td>0</td>\n",
              "      <td>0</td>\n",
              "      <td>Night</td>\n",
              "      <td>NaN</td>\n",
              "      <td>NaN</td>\n",
              "      <td>NaN</td>\n",
              "      <td>NaN</td>\n",
              "    </tr>\n",
              "    <tr>\n",
              "      <th>3</th>\n",
              "      <td>483717</td>\n",
              "      <td>view</td>\n",
              "      <td>253185</td>\n",
              "      <td>NaN</td>\n",
              "      <td>2015-06-02 05:12:35.914</td>\n",
              "      <td>5</td>\n",
              "      <td>6</td>\n",
              "      <td>1</td>\n",
              "      <td>0</td>\n",
              "      <td>0</td>\n",
              "      <td>Night</td>\n",
              "      <td>NaN</td>\n",
              "      <td>NaN</td>\n",
              "      <td>NaN</td>\n",
              "      <td>NaN</td>\n",
              "    </tr>\n",
              "    <tr>\n",
              "      <th>4</th>\n",
              "      <td>951259</td>\n",
              "      <td>view</td>\n",
              "      <td>367447</td>\n",
              "      <td>NaN</td>\n",
              "      <td>2015-06-02 05:02:17.106</td>\n",
              "      <td>5</td>\n",
              "      <td>6</td>\n",
              "      <td>1</td>\n",
              "      <td>0</td>\n",
              "      <td>0</td>\n",
              "      <td>Night</td>\n",
              "      <td>NaN</td>\n",
              "      <td>NaN</td>\n",
              "      <td>NaN</td>\n",
              "      <td>NaN</td>\n",
              "    </tr>\n",
              "    <tr>\n",
              "      <th>...</th>\n",
              "      <td>...</td>\n",
              "      <td>...</td>\n",
              "      <td>...</td>\n",
              "      <td>...</td>\n",
              "      <td>...</td>\n",
              "      <td>...</td>\n",
              "      <td>...</td>\n",
              "      <td>...</td>\n",
              "      <td>...</td>\n",
              "      <td>...</td>\n",
              "      <td>...</td>\n",
              "      <td>...</td>\n",
              "      <td>...</td>\n",
              "      <td>...</td>\n",
              "      <td>...</td>\n",
              "    </tr>\n",
              "    <tr>\n",
              "      <th>2755636</th>\n",
              "      <td>591435</td>\n",
              "      <td>view</td>\n",
              "      <td>261427</td>\n",
              "      <td>NaN</td>\n",
              "      <td>2015-08-01 03:13:05.939</td>\n",
              "      <td>3</td>\n",
              "      <td>8</td>\n",
              "      <td>5</td>\n",
              "      <td>1</td>\n",
              "      <td>0</td>\n",
              "      <td>Night</td>\n",
              "      <td>NaN</td>\n",
              "      <td>NaN</td>\n",
              "      <td>NaN</td>\n",
              "      <td>NaN</td>\n",
              "    </tr>\n",
              "    <tr>\n",
              "      <th>2755637</th>\n",
              "      <td>762376</td>\n",
              "      <td>view</td>\n",
              "      <td>115946</td>\n",
              "      <td>NaN</td>\n",
              "      <td>2015-08-01 03:30:13.142</td>\n",
              "      <td>3</td>\n",
              "      <td>8</td>\n",
              "      <td>5</td>\n",
              "      <td>1</td>\n",
              "      <td>0</td>\n",
              "      <td>Night</td>\n",
              "      <td>NaN</td>\n",
              "      <td>NaN</td>\n",
              "      <td>NaN</td>\n",
              "      <td>NaN</td>\n",
              "    </tr>\n",
              "    <tr>\n",
              "      <th>2755638</th>\n",
              "      <td>1251746</td>\n",
              "      <td>view</td>\n",
              "      <td>78144</td>\n",
              "      <td>NaN</td>\n",
              "      <td>2015-08-01 02:57:00.527</td>\n",
              "      <td>2</td>\n",
              "      <td>8</td>\n",
              "      <td>5</td>\n",
              "      <td>1</td>\n",
              "      <td>0</td>\n",
              "      <td>Night</td>\n",
              "      <td>NaN</td>\n",
              "      <td>NaN</td>\n",
              "      <td>NaN</td>\n",
              "      <td>NaN</td>\n",
              "    </tr>\n",
              "    <tr>\n",
              "      <th>2755639</th>\n",
              "      <td>1184451</td>\n",
              "      <td>view</td>\n",
              "      <td>283392</td>\n",
              "      <td>NaN</td>\n",
              "      <td>2015-08-01 03:08:50.703</td>\n",
              "      <td>3</td>\n",
              "      <td>8</td>\n",
              "      <td>5</td>\n",
              "      <td>1</td>\n",
              "      <td>0</td>\n",
              "      <td>Night</td>\n",
              "      <td>NaN</td>\n",
              "      <td>NaN</td>\n",
              "      <td>NaN</td>\n",
              "      <td>NaN</td>\n",
              "    </tr>\n",
              "    <tr>\n",
              "      <th>2755640</th>\n",
              "      <td>199536</td>\n",
              "      <td>view</td>\n",
              "      <td>152913</td>\n",
              "      <td>NaN</td>\n",
              "      <td>2015-08-01 03:36:03.914</td>\n",
              "      <td>3</td>\n",
              "      <td>8</td>\n",
              "      <td>5</td>\n",
              "      <td>1</td>\n",
              "      <td>0</td>\n",
              "      <td>Night</td>\n",
              "      <td>NaN</td>\n",
              "      <td>NaN</td>\n",
              "      <td>NaN</td>\n",
              "      <td>NaN</td>\n",
              "    </tr>\n",
              "  </tbody>\n",
              "</table>\n",
              "<p>2755641 rows × 15 columns</p>\n",
              "</div>\n",
              "    <div class=\"colab-df-buttons\">\n",
              "\n",
              "  <div class=\"colab-df-container\">\n",
              "    <button class=\"colab-df-convert\" onclick=\"convertToInteractive('df-205379ff-7c5a-4b9a-aac2-5f3b99a83849')\"\n",
              "            title=\"Convert this dataframe to an interactive table.\"\n",
              "            style=\"display:none;\">\n",
              "\n",
              "  <svg xmlns=\"http://www.w3.org/2000/svg\" height=\"24px\" viewBox=\"0 -960 960 960\">\n",
              "    <path d=\"M120-120v-720h720v720H120Zm60-500h600v-160H180v160Zm220 220h160v-160H400v160Zm0 220h160v-160H400v160ZM180-400h160v-160H180v160Zm440 0h160v-160H620v160ZM180-180h160v-160H180v160Zm440 0h160v-160H620v160Z\"/>\n",
              "  </svg>\n",
              "    </button>\n",
              "\n",
              "  <style>\n",
              "    .colab-df-container {\n",
              "      display:flex;\n",
              "      gap: 12px;\n",
              "    }\n",
              "\n",
              "    .colab-df-convert {\n",
              "      background-color: #E8F0FE;\n",
              "      border: none;\n",
              "      border-radius: 50%;\n",
              "      cursor: pointer;\n",
              "      display: none;\n",
              "      fill: #1967D2;\n",
              "      height: 32px;\n",
              "      padding: 0 0 0 0;\n",
              "      width: 32px;\n",
              "    }\n",
              "\n",
              "    .colab-df-convert:hover {\n",
              "      background-color: #E2EBFA;\n",
              "      box-shadow: 0px 1px 2px rgba(60, 64, 67, 0.3), 0px 1px 3px 1px rgba(60, 64, 67, 0.15);\n",
              "      fill: #174EA6;\n",
              "    }\n",
              "\n",
              "    .colab-df-buttons div {\n",
              "      margin-bottom: 4px;\n",
              "    }\n",
              "\n",
              "    [theme=dark] .colab-df-convert {\n",
              "      background-color: #3B4455;\n",
              "      fill: #D2E3FC;\n",
              "    }\n",
              "\n",
              "    [theme=dark] .colab-df-convert:hover {\n",
              "      background-color: #434B5C;\n",
              "      box-shadow: 0px 1px 3px 1px rgba(0, 0, 0, 0.15);\n",
              "      filter: drop-shadow(0px 1px 2px rgba(0, 0, 0, 0.3));\n",
              "      fill: #FFFFFF;\n",
              "    }\n",
              "  </style>\n",
              "\n",
              "    <script>\n",
              "      const buttonEl =\n",
              "        document.querySelector('#df-205379ff-7c5a-4b9a-aac2-5f3b99a83849 button.colab-df-convert');\n",
              "      buttonEl.style.display =\n",
              "        google.colab.kernel.accessAllowed ? 'block' : 'none';\n",
              "\n",
              "      async function convertToInteractive(key) {\n",
              "        const element = document.querySelector('#df-205379ff-7c5a-4b9a-aac2-5f3b99a83849');\n",
              "        const dataTable =\n",
              "          await google.colab.kernel.invokeFunction('convertToInteractive',\n",
              "                                                    [key], {});\n",
              "        if (!dataTable) return;\n",
              "\n",
              "        const docLinkHtml = 'Like what you see? Visit the ' +\n",
              "          '<a target=\"_blank\" href=https://colab.research.google.com/notebooks/data_table.ipynb>data table notebook</a>'\n",
              "          + ' to learn more about interactive tables.';\n",
              "        element.innerHTML = '';\n",
              "        dataTable['output_type'] = 'display_data';\n",
              "        await google.colab.output.renderOutput(dataTable, element);\n",
              "        const docLink = document.createElement('div');\n",
              "        docLink.innerHTML = docLinkHtml;\n",
              "        element.appendChild(docLink);\n",
              "      }\n",
              "    </script>\n",
              "  </div>\n",
              "\n",
              "\n",
              "<div id=\"df-a51c4231-be53-482a-a734-ce512355753f\">\n",
              "  <button class=\"colab-df-quickchart\" onclick=\"quickchart('df-a51c4231-be53-482a-a734-ce512355753f')\"\n",
              "            title=\"Suggest charts\"\n",
              "            style=\"display:none;\">\n",
              "\n",
              "<svg xmlns=\"http://www.w3.org/2000/svg\" height=\"24px\"viewBox=\"0 0 24 24\"\n",
              "     width=\"24px\">\n",
              "    <g>\n",
              "        <path d=\"M19 3H5c-1.1 0-2 .9-2 2v14c0 1.1.9 2 2 2h14c1.1 0 2-.9 2-2V5c0-1.1-.9-2-2-2zM9 17H7v-7h2v7zm4 0h-2V7h2v10zm4 0h-2v-4h2v4z\"/>\n",
              "    </g>\n",
              "</svg>\n",
              "  </button>\n",
              "\n",
              "<style>\n",
              "  .colab-df-quickchart {\n",
              "      --bg-color: #E8F0FE;\n",
              "      --fill-color: #1967D2;\n",
              "      --hover-bg-color: #E2EBFA;\n",
              "      --hover-fill-color: #174EA6;\n",
              "      --disabled-fill-color: #AAA;\n",
              "      --disabled-bg-color: #DDD;\n",
              "  }\n",
              "\n",
              "  [theme=dark] .colab-df-quickchart {\n",
              "      --bg-color: #3B4455;\n",
              "      --fill-color: #D2E3FC;\n",
              "      --hover-bg-color: #434B5C;\n",
              "      --hover-fill-color: #FFFFFF;\n",
              "      --disabled-bg-color: #3B4455;\n",
              "      --disabled-fill-color: #666;\n",
              "  }\n",
              "\n",
              "  .colab-df-quickchart {\n",
              "    background-color: var(--bg-color);\n",
              "    border: none;\n",
              "    border-radius: 50%;\n",
              "    cursor: pointer;\n",
              "    display: none;\n",
              "    fill: var(--fill-color);\n",
              "    height: 32px;\n",
              "    padding: 0;\n",
              "    width: 32px;\n",
              "  }\n",
              "\n",
              "  .colab-df-quickchart:hover {\n",
              "    background-color: var(--hover-bg-color);\n",
              "    box-shadow: 0 1px 2px rgba(60, 64, 67, 0.3), 0 1px 3px 1px rgba(60, 64, 67, 0.15);\n",
              "    fill: var(--button-hover-fill-color);\n",
              "  }\n",
              "\n",
              "  .colab-df-quickchart-complete:disabled,\n",
              "  .colab-df-quickchart-complete:disabled:hover {\n",
              "    background-color: var(--disabled-bg-color);\n",
              "    fill: var(--disabled-fill-color);\n",
              "    box-shadow: none;\n",
              "  }\n",
              "\n",
              "  .colab-df-spinner {\n",
              "    border: 2px solid var(--fill-color);\n",
              "    border-color: transparent;\n",
              "    border-bottom-color: var(--fill-color);\n",
              "    animation:\n",
              "      spin 1s steps(1) infinite;\n",
              "  }\n",
              "\n",
              "  @keyframes spin {\n",
              "    0% {\n",
              "      border-color: transparent;\n",
              "      border-bottom-color: var(--fill-color);\n",
              "      border-left-color: var(--fill-color);\n",
              "    }\n",
              "    20% {\n",
              "      border-color: transparent;\n",
              "      border-left-color: var(--fill-color);\n",
              "      border-top-color: var(--fill-color);\n",
              "    }\n",
              "    30% {\n",
              "      border-color: transparent;\n",
              "      border-left-color: var(--fill-color);\n",
              "      border-top-color: var(--fill-color);\n",
              "      border-right-color: var(--fill-color);\n",
              "    }\n",
              "    40% {\n",
              "      border-color: transparent;\n",
              "      border-right-color: var(--fill-color);\n",
              "      border-top-color: var(--fill-color);\n",
              "    }\n",
              "    60% {\n",
              "      border-color: transparent;\n",
              "      border-right-color: var(--fill-color);\n",
              "    }\n",
              "    80% {\n",
              "      border-color: transparent;\n",
              "      border-right-color: var(--fill-color);\n",
              "      border-bottom-color: var(--fill-color);\n",
              "    }\n",
              "    90% {\n",
              "      border-color: transparent;\n",
              "      border-bottom-color: var(--fill-color);\n",
              "    }\n",
              "  }\n",
              "</style>\n",
              "\n",
              "  <script>\n",
              "    async function quickchart(key) {\n",
              "      const quickchartButtonEl =\n",
              "        document.querySelector('#' + key + ' button');\n",
              "      quickchartButtonEl.disabled = true;  // To prevent multiple clicks.\n",
              "      quickchartButtonEl.classList.add('colab-df-spinner');\n",
              "      try {\n",
              "        const charts = await google.colab.kernel.invokeFunction(\n",
              "            'suggestCharts', [key], {});\n",
              "      } catch (error) {\n",
              "        console.error('Error during call to suggestCharts:', error);\n",
              "      }\n",
              "      quickchartButtonEl.classList.remove('colab-df-spinner');\n",
              "      quickchartButtonEl.classList.add('colab-df-quickchart-complete');\n",
              "    }\n",
              "    (() => {\n",
              "      let quickchartButtonEl =\n",
              "        document.querySelector('#df-a51c4231-be53-482a-a734-ce512355753f button');\n",
              "      quickchartButtonEl.style.display =\n",
              "        google.colab.kernel.accessAllowed ? 'block' : 'none';\n",
              "    })();\n",
              "  </script>\n",
              "</div>\n",
              "    </div>\n",
              "  </div>\n"
            ],
            "application/vnd.google.colaboratory.intrinsic+json": {
              "type": "dataframe",
              "variable_name": "data"
            }
          },
          "metadata": {},
          "execution_count": 106
        }
      ],
      "source": [
        "data"
      ]
    },
    {
      "cell_type": "code",
      "execution_count": 107,
      "metadata": {
        "id": "cx8oAzP9EVvc"
      },
      "outputs": [],
      "source": [
        "need_cols =  ['data', 'itemid', 'visitorid', 'event']\n",
        "df = data[need_cols]"
      ]
    },
    {
      "cell_type": "markdown",
      "metadata": {
        "id": "QTJPvUVjEVvc"
      },
      "source": [
        "Валидационный датасет\n",
        "Создадим валидационный датасет, разбив данные по времени. Для этого возьмем последние семь дней данных в качестве валидационного периода."
      ]
    },
    {
      "cell_type": "code",
      "execution_count": 108,
      "metadata": {
        "id": "wwTF13py-ohC"
      },
      "outputs": [],
      "source": [
        "validation_period = data['data'].max() - pd.DateOffset(days=7)\n",
        "\n",
        "# Разделим данные на тренировочный и валидационный датасеты\n",
        "train     = data[data['data'] < validation_period]\n",
        "test = data[data['data'] >= validation_period]"
      ]
    },
    {
      "cell_type": "code",
      "execution_count": 109,
      "metadata": {
        "id": "d4tZPX4aEVvc"
      },
      "outputs": [],
      "source": [
        "#train = data[pd.to_datetime(df['data'], unit='ms') < pd.Timestamp('2015-08-15 00:00:00.000000')]\n",
        "#test = data[pd.to_datetime(df['data'], unit='ms') >= pd.Timestamp('2015-08-15 00:00:00.000000')]"
      ]
    },
    {
      "cell_type": "code",
      "execution_count": 110,
      "metadata": {
        "colab": {
          "base_uri": "https://localhost:8080/"
        },
        "id": "doGeVW_2EVvc",
        "outputId": "1d22e43b-9a17-4240-9090-f2f3475996e6"
      },
      "outputs": [
        {
          "output_type": "stream",
          "name": "stdout",
          "text": [
            "train : (2640903, 15)\n",
            "test: (114738, 15)\n"
          ]
        }
      ],
      "source": [
        "print(f'train : {train.shape}')\n",
        "print(f'test: {test.shape}')"
      ]
    },
    {
      "cell_type": "markdown",
      "metadata": {
        "id": "uLJmCLF9EVvc"
      },
      "source": [
        "# XGBoost\n"
      ]
    },
    {
      "cell_type": "markdown",
      "metadata": {
        "id": "SaLRSP5qEVvc"
      },
      "source": [
        "## Для решения задачи классификации добавим в наши данные таргет - 1 при наличии тразакции и 0, если транзакции не было."
      ]
    },
    {
      "cell_type": "code",
      "execution_count": 111,
      "metadata": {
        "id": "O66cjrcAEVvc"
      },
      "outputs": [],
      "source": [
        "train['target'] = train['event'].apply(lambda x: 1 if  x=='transaction' else 0)\n",
        "test['target'] = test['event'].apply(lambda x: 1 if  x=='transaction' else 0)"
      ]
    },
    {
      "cell_type": "code",
      "execution_count": 112,
      "metadata": {
        "id": "M_DZlEcQEVvd"
      },
      "outputs": [],
      "source": [
        "cat_features = ['visitorid', 'itemid', 'day_of_week',\n",
        "       'Month', 'Day', 'Hour', 'minute', 'target']"
      ]
    },
    {
      "cell_type": "code",
      "execution_count": 113,
      "metadata": {
        "colab": {
          "base_uri": "https://localhost:8080/"
        },
        "id": "7IMLLeT2EVvd",
        "outputId": "444a1169-e518-495c-96e0-632a7375d748"
      },
      "outputs": [
        {
          "output_type": "execute_result",
          "data": {
            "text/plain": [
              "['visitorid',\n",
              " 'itemid',\n",
              " 'day_of_week',\n",
              " 'Month',\n",
              " 'Day',\n",
              " 'Hour',\n",
              " 'minute',\n",
              " 'target']"
            ]
          },
          "metadata": {},
          "execution_count": 113
        }
      ],
      "source": [
        "cat_features"
      ]
    },
    {
      "cell_type": "code",
      "execution_count": 114,
      "metadata": {
        "id": "hpEI-rJqEVvd"
      },
      "outputs": [],
      "source": [
        "# Случайная неполная выборка (нахождение класса большинства и его неполная выборка)\n",
        "def random_under(df:pd.DataFrame, feature):\n",
        "\n",
        "    target = df[feature].value_counts()\n",
        "\n",
        "    if target.values[0]<target.values[1]:\n",
        "        under = target.index.values[1]\n",
        "\n",
        "    else:\n",
        "        under = target.index.values[0]\n",
        "\n",
        "    df_0 = df[df[feature] != under]\n",
        "    df_1 = df[df[feature] == under]\n",
        "\n",
        "    df_treatment_under = df_1.sample(len(df_0))\n",
        "    df_1 = pd.concat([df_treatment_under, df_0], axis=0)\n",
        "\n",
        "    return df_1\n",
        "\n",
        "\n",
        "def create_dataframe(visitor):\n",
        "\n",
        "    visitor_df_array = []\n",
        "\n",
        "    for x in visitor:\n",
        "\n",
        "        #Создание массива, содержащего все данные о посетителе, кроме id\n",
        "        v_df = data[data.visitorid == x]\n",
        "        #Создание временного массива для хранения всех атрибутов посетителей\n",
        "        temp = []\n",
        "        #Заполнение первого элемента массива текущим индексом\n",
        "        temp.append(x)\n",
        "        #Заполнение массива количеством уникальных товаров, просмотренных посетителем (num_uniq_items_viewed)\n",
        "        temp.append(v_df[v_df.event == 'view'].itemid.unique().size)\n",
        "        # Заполнение массива количеством просмотров товаров посетителем независимо от того, тот же это продукт или нет (num_views_total)\n",
        "        temp.append(v_df[v_df.event == 'view'].event.count())\n",
        "        number_of_items_bought = v_df[v_df.event == 'transaction'].event.count()\n",
        "        temp.append(number_of_items_bought)\n",
        "\n",
        "        # если посетитель купил хотя бы 1 товар, атрибуту присваивается значение 1, если посетитель ничего не купил, присваивается значение 0\n",
        "        if(number_of_items_bought == 0):\n",
        "            temp.append(0)\n",
        "        else:\n",
        "            temp.append(1)\n",
        "\n",
        "        visitor_df_array.append(temp)\n",
        "\n",
        "    return pd.DataFrame(visitor_df_array, columns=['visitorid', 'num_uniq_items_viewed', 'num_views_total', 'bought_count', 'purchased'])"
      ]
    },
    {
      "cell_type": "code",
      "execution_count": 115,
      "metadata": {
        "id": "P2KKZDX-EVvd"
      },
      "outputs": [],
      "source": [
        "train = random_under(train, 'target')"
      ]
    },
    {
      "cell_type": "code",
      "execution_count": 116,
      "metadata": {
        "colab": {
          "base_uri": "https://localhost:8080/",
          "height": 639
        },
        "id": "ZdRCd9AVEVvd",
        "outputId": "d4be4c8f-660b-4790-f939-e7c35a819805"
      },
      "outputs": [
        {
          "output_type": "stream",
          "name": "stdout",
          "text": [
            "Class 0: 21571\n",
            "Class 1: 21571\n",
            "Proportion: 1 : 1\n"
          ]
        },
        {
          "output_type": "execute_result",
          "data": {
            "text/plain": [
              "(array([0, 1]), [Text(0, 0, '0'), Text(1, 0, '1')])"
            ]
          },
          "metadata": {},
          "execution_count": 116
        },
        {
          "output_type": "display_data",
          "data": {
            "text/plain": [
              "<Figure size 1000x600 with 1 Axes>"
            ],
            "image/png": "[encoded data removed]"
          },
          "metadata": {}
        }
      ],
      "source": [
        "fig = plt.figure(figsize = (10,6))\n",
        "new_target_count = train['target'].value_counts()\n",
        "print('Class 0:', new_target_count[0])\n",
        "print('Class 1:', new_target_count[1])\n",
        "print('Proportion:', int(round(new_target_count[0] / new_target_count[1])), ': 1')\n",
        "new_target_count.plot(kind='bar', title='Target Class Distribution', color=['#2077B4', '#FF7F0E'], fontsize = 15)\n",
        "plt.xticks(rotation=0)"
      ]
    },
    {
      "cell_type": "code",
      "execution_count": 117,
      "metadata": {
        "id": "26sIvjYQEVvd"
      },
      "outputs": [],
      "source": [
        "X_train = train[['visitorid', 'itemid', 'day_of_week','month', 'hour']]\n",
        "X_test = test[['visitorid', 'itemid', 'day_of_week','month', 'hour']]\n",
        "y_train = train['target']\n",
        "y_test = test['target']"
      ]
    },
    {
      "cell_type": "code",
      "execution_count": 118,
      "metadata": {
        "colab": {
          "base_uri": "https://localhost:8080/",
          "height": 248
        },
        "id": "WvwuCwsuEVvd",
        "outputId": "1e741c98-5855-4f8f-9b13-fe9805942ada"
      },
      "outputs": [
        {
          "output_type": "execute_result",
          "data": {
            "text/plain": [
              "XGBClassifier(base_score=None, booster=None, callbacks=None,\n",
              "              colsample_bylevel=None, colsample_bynode=None,\n",
              "              colsample_bytree=None, device=None, early_stopping_rounds=None,\n",
              "              enable_categorical=False, eval_metric=None, feature_types=None,\n",
              "              gamma=None, grow_policy=None, importance_type=None,\n",
              "              interaction_constraints=None, learning_rate=None, max_bin=None,\n",
              "              max_cat_threshold=None, max_cat_to_onehot=None,\n",
              "              max_delta_step=None, max_depth=None, max_leaves=None,\n",
              "              min_child_weight=None, missing=nan, monotone_constraints=None,\n",
              "              multi_strategy=None, n_estimators=None, n_jobs=None,\n",
              "              num_parallel_tree=None, random_state=None, ...)"
            ],
            "text/html": [
              "<style>#sk-container-id-2 {color: black;background-color: white;}#sk-container-id-2 pre{padding: 0;}#sk-container-id-2 div.sk-toggleable {background-color: white;}#sk-container-id-2 label.sk-toggleable__label {cursor: pointer;display: block;width: 100%;margin-bottom: 0;padding: 0.3em;box-sizing: border-box;text-align: center;}#sk-container-id-2 label.sk-toggleable__label-arrow:before {content: \"▸\";float: left;margin-right: 0.25em;color: #696969;}#sk-container-id-2 label.sk-toggleable__label-arrow:hover:before {color: black;}#sk-container-id-2 div.sk-estimator:hover label.sk-toggleable__label-arrow:before {color: black;}#sk-container-id-2 div.sk-toggleable__content {max-height: 0;max-width: 0;overflow: hidden;text-align: left;background-color: #f0f8ff;}#sk-container-id-2 div.sk-toggleable__content pre {margin: 0.2em;color: black;border-radius: 0.25em;background-color: #f0f8ff;}#sk-container-id-2 input.sk-toggleable__control:checked~div.sk-toggleable__content {max-height: 200px;max-width: 100%;overflow: auto;}#sk-container-id-2 input.sk-toggleable__control:checked~label.sk-toggleable__label-arrow:before {content: \"▾\";}#sk-container-id-2 div.sk-estimator input.sk-toggleable__control:checked~label.sk-toggleable__label {background-color: #d4ebff;}#sk-container-id-2 div.sk-label input.sk-toggleable__control:checked~label.sk-toggleable__label {background-color: #d4ebff;}#sk-container-id-2 input.sk-hidden--visually {border: 0;clip: rect(1px 1px 1px 1px);clip: rect(1px, 1px, 1px, 1px);height: 1px;margin: -1px;overflow: hidden;padding: 0;position: absolute;width: 1px;}#sk-container-id-2 div.sk-estimator {font-family: monospace;background-color: #f0f8ff;border: 1px dotted black;border-radius: 0.25em;box-sizing: border-box;margin-bottom: 0.5em;}#sk-container-id-2 div.sk-estimator:hover {background-color: #d4ebff;}#sk-container-id-2 div.sk-parallel-item::after {content: \"\";width: 100%;border-bottom: 1px solid gray;flex-grow: 1;}#sk-container-id-2 div.sk-label:hover label.sk-toggleable__label {background-color: #d4ebff;}#sk-container-id-2 div.sk-serial::before {content: \"\";position: absolute;border-left: 1px solid gray;box-sizing: border-box;top: 0;bottom: 0;left: 50%;z-index: 0;}#sk-container-id-2 div.sk-serial {display: flex;flex-direction: column;align-items: center;background-color: white;padding-right: 0.2em;padding-left: 0.2em;position: relative;}#sk-container-id-2 div.sk-item {position: relative;z-index: 1;}#sk-container-id-2 div.sk-parallel {display: flex;align-items: stretch;justify-content: center;background-color: white;position: relative;}#sk-container-id-2 div.sk-item::before, #sk-container-id-2 div.sk-parallel-item::before {content: \"\";position: absolute;border-left: 1px solid gray;box-sizing: border-box;top: 0;bottom: 0;left: 50%;z-index: -1;}#sk-container-id-2 div.sk-parallel-item {display: flex;flex-direction: column;z-index: 1;position: relative;background-color: white;}#sk-container-id-2 div.sk-parallel-item:first-child::after {align-self: flex-end;width: 50%;}#sk-container-id-2 div.sk-parallel-item:last-child::after {align-self: flex-start;width: 50%;}#sk-container-id-2 div.sk-parallel-item:only-child::after {width: 0;}#sk-container-id-2 div.sk-dashed-wrapped {border: 1px dashed gray;margin: 0 0.4em 0.5em 0.4em;box-sizing: border-box;padding-bottom: 0.4em;background-color: white;}#sk-container-id-2 div.sk-label label {font-family: monospace;font-weight: bold;display: inline-block;line-height: 1.2em;}#sk-container-id-2 div.sk-label-container {text-align: center;}#sk-container-id-2 div.sk-container {/* jupyter's `normalize.less` sets `[hidden] { display: none; }` but bootstrap.min.css set `[hidden] { display: none !important; }` so we also need the `!important` here to be able to override the default hidden behavior on the sphinx rendered scikit-learn.org. See: https://github.com/scikit-learn/scikit-learn/issues/21755 */display: inline-block !important;position: relative;}#sk-container-id-2 div.sk-text-repr-fallback {display: none;}</style><div id=\"sk-container-id-2\" class=\"sk-top-container\"><div class=\"sk-text-repr-fallback\"><pre>XGBClassifier(base_score=None, booster=None, callbacks=None,\n",
              "              colsample_bylevel=None, colsample_bynode=None,\n",
              "              colsample_bytree=None, device=None, early_stopping_rounds=None,\n",
              "              enable_categorical=False, eval_metric=None, feature_types=None,\n",
              "              gamma=None, grow_policy=None, importance_type=None,\n",
              "              interaction_constraints=None, learning_rate=None, max_bin=None,\n",
              "              max_cat_threshold=None, max_cat_to_onehot=None,\n",
              "              max_delta_step=None, max_depth=None, max_leaves=None,\n",
              "              min_child_weight=None, missing=nan, monotone_constraints=None,\n",
              "              multi_strategy=None, n_estimators=None, n_jobs=None,\n",
              "              num_parallel_tree=None, random_state=None, ...)</pre><b>In a Jupyter environment, please rerun this cell to show the HTML representation or trust the notebook. <br />On GitHub, the HTML representation is unable to render, please try loading this page with nbviewer.org.</b></div><div class=\"sk-container\" hidden><div class=\"sk-item\"><div class=\"sk-estimator sk-toggleable\"><input class=\"sk-toggleable__control sk-hidden--visually\" id=\"sk-estimator-id-2\" type=\"checkbox\" checked><label for=\"sk-estimator-id-2\" class=\"sk-toggleable__label sk-toggleable__label-arrow\">XGBClassifier</label><div class=\"sk-toggleable__content\"><pre>XGBClassifier(base_score=None, booster=None, callbacks=None,\n",
              "              colsample_bylevel=None, colsample_bynode=None,\n",
              "              colsample_bytree=None, device=None, early_stopping_rounds=None,\n",
              "              enable_categorical=False, eval_metric=None, feature_types=None,\n",
              "              gamma=None, grow_policy=None, importance_type=None,\n",
              "              interaction_constraints=None, learning_rate=None, max_bin=None,\n",
              "              max_cat_threshold=None, max_cat_to_onehot=None,\n",
              "              max_delta_step=None, max_depth=None, max_leaves=None,\n",
              "              min_child_weight=None, missing=nan, monotone_constraints=None,\n",
              "              multi_strategy=None, n_estimators=None, n_jobs=None,\n",
              "              num_parallel_tree=None, random_state=None, ...)</pre></div></div></div></div></div>"
            ]
          },
          "metadata": {},
          "execution_count": 118
        }
      ],
      "source": [
        "xgb = XGBClassifier()\n",
        "xgb.fit(X_train, y_train)"
      ]
    },
    {
      "cell_type": "code",
      "execution_count": 119,
      "metadata": {
        "id": "DFZWdOUXEVvd"
      },
      "outputs": [],
      "source": [
        "preds = xgb.predict(X_test)"
      ]
    },
    {
      "cell_type": "code",
      "execution_count": 120,
      "metadata": {
        "colab": {
          "base_uri": "https://localhost:8080/"
        },
        "id": "FGkCU-asEVve",
        "outputId": "d4af5db7-51af-4a46-ca16-0fe184a02390"
      },
      "outputs": [
        {
          "output_type": "stream",
          "name": "stdout",
          "text": [
            "precision_score =  0.0119\n",
            "recall_score =  0.5260\n",
            "f1_score =  0.0233\n",
            "accuracy =  0.6589\n"
          ]
        }
      ],
      "source": [
        "print('precision_score = {:7.4f}'.format(metrics.precision_score(y_test, preds)))\n",
        "print('recall_score = {:7.4f}'.format(metrics.recall_score(y_test, preds)))\n",
        "print('f1_score = {:7.4f}'.format(metrics.f1_score(y_test, preds)))\n",
        "print('accuracy = {:7.4f}'.format(metrics.accuracy_score(y_test, preds)))"
      ]
    },
    {
      "cell_type": "markdown",
      "metadata": {
        "id": "l4sHv9kaLVqD"
      },
      "source": [
        "#CatBoostClassifier - это реализация алгоритма градиентного бустинга над решающими деревьями для задач классификации в библиотеке CatBoost."
      ]
    },
    {
      "cell_type": "code",
      "execution_count": 121,
      "metadata": {
        "id": "L6-lVZGkK5sl"
      },
      "outputs": [],
      "source": [
        "from catboost import CatBoostClassifier"
      ]
    },
    {
      "cell_type": "code",
      "execution_count": 122,
      "metadata": {
        "colab": {
          "base_uri": "https://localhost:8080/"
        },
        "id": "RURnArp0L1gM",
        "outputId": "74b33172-c3e9-4428-f538-26d9d0509586"
      },
      "outputs": [
        {
          "output_type": "stream",
          "name": "stdout",
          "text": [
            "Learning rate set to 0.051409\n",
            "0:\tlearn: 0.6920091\ttotal: 61.4ms\tremaining: 1m 1s\n",
            "1:\tlearn: 0.6909636\ttotal: 74.9ms\tremaining: 37.4s\n",
            "2:\tlearn: 0.6899011\ttotal: 92.5ms\tremaining: 30.8s\n",
            "3:\tlearn: 0.6891207\ttotal: 112ms\tremaining: 27.8s\n",
            "4:\tlearn: 0.6877441\ttotal: 139ms\tremaining: 27.7s\n",
            "5:\tlearn: 0.6869631\ttotal: 181ms\tremaining: 30s\n",
            "6:\tlearn: 0.6862354\ttotal: 233ms\tremaining: 33s\n",
            "7:\tlearn: 0.6853130\ttotal: 248ms\tremaining: 30.8s\n",
            "8:\tlearn: 0.6846871\ttotal: 261ms\tremaining: 28.8s\n",
            "9:\tlearn: 0.6840508\ttotal: 273ms\tremaining: 27.1s\n",
            "10:\tlearn: 0.6836122\ttotal: 291ms\tremaining: 26.2s\n",
            "11:\tlearn: 0.6830951\ttotal: 303ms\tremaining: 24.9s\n",
            "12:\tlearn: 0.6826914\ttotal: 324ms\tremaining: 24.6s\n",
            "13:\tlearn: 0.6823478\ttotal: 351ms\tremaining: 24.7s\n",
            "14:\tlearn: 0.6820238\ttotal: 385ms\tremaining: 25.3s\n",
            "15:\tlearn: 0.6816262\ttotal: 426ms\tremaining: 26.2s\n",
            "16:\tlearn: 0.6813228\ttotal: 468ms\tremaining: 27.1s\n",
            "17:\tlearn: 0.6809534\ttotal: 502ms\tremaining: 27.4s\n",
            "18:\tlearn: 0.6804677\ttotal: 530ms\tremaining: 27.4s\n",
            "19:\tlearn: 0.6802116\ttotal: 560ms\tremaining: 27.5s\n",
            "20:\tlearn: 0.6798598\ttotal: 588ms\tremaining: 27.4s\n",
            "21:\tlearn: 0.6793285\ttotal: 618ms\tremaining: 27.5s\n",
            "22:\tlearn: 0.6790972\ttotal: 649ms\tremaining: 27.5s\n",
            "23:\tlearn: 0.6787203\ttotal: 673ms\tremaining: 27.4s\n",
            "24:\tlearn: 0.6784219\ttotal: 697ms\tremaining: 27.2s\n",
            "25:\tlearn: 0.6780459\ttotal: 726ms\tremaining: 27.2s\n",
            "26:\tlearn: 0.6777828\ttotal: 758ms\tremaining: 27.3s\n",
            "27:\tlearn: 0.6776179\ttotal: 794ms\tremaining: 27.5s\n",
            "28:\tlearn: 0.6774886\ttotal: 824ms\tremaining: 27.6s\n",
            "29:\tlearn: 0.6773089\ttotal: 853ms\tremaining: 27.6s\n",
            "30:\tlearn: 0.6771526\ttotal: 879ms\tremaining: 27.5s\n",
            "31:\tlearn: 0.6770416\ttotal: 890ms\tremaining: 26.9s\n",
            "32:\tlearn: 0.6766716\ttotal: 925ms\tremaining: 27.1s\n",
            "33:\tlearn: 0.6762693\ttotal: 949ms\tremaining: 27s\n",
            "34:\tlearn: 0.6761680\ttotal: 965ms\tremaining: 26.6s\n",
            "35:\tlearn: 0.6759739\ttotal: 976ms\tremaining: 26.1s\n",
            "36:\tlearn: 0.6758694\ttotal: 989ms\tremaining: 25.7s\n",
            "37:\tlearn: 0.6757555\ttotal: 1s\tremaining: 25.4s\n",
            "38:\tlearn: 0.6755278\ttotal: 1.01s\tremaining: 25s\n",
            "39:\tlearn: 0.6752399\ttotal: 1.04s\tremaining: 24.9s\n",
            "40:\tlearn: 0.6750888\ttotal: 1.05s\tremaining: 24.6s\n",
            "41:\tlearn: 0.6749674\ttotal: 1.07s\tremaining: 24.4s\n",
            "42:\tlearn: 0.6746190\ttotal: 1.09s\tremaining: 24.2s\n",
            "43:\tlearn: 0.6745153\ttotal: 1.1s\tremaining: 23.9s\n",
            "44:\tlearn: 0.6742127\ttotal: 1.11s\tremaining: 23.6s\n",
            "45:\tlearn: 0.6740966\ttotal: 1.13s\tremaining: 23.5s\n",
            "46:\tlearn: 0.6739658\ttotal: 1.15s\tremaining: 23.3s\n",
            "47:\tlearn: 0.6737889\ttotal: 1.19s\tremaining: 23.5s\n",
            "48:\tlearn: 0.6734483\ttotal: 1.21s\tremaining: 23.5s\n",
            "49:\tlearn: 0.6733194\ttotal: 1.23s\tremaining: 23.4s\n",
            "50:\tlearn: 0.6732073\ttotal: 1.25s\tremaining: 23.2s\n",
            "51:\tlearn: 0.6730506\ttotal: 1.26s\tremaining: 23s\n",
            "52:\tlearn: 0.6729517\ttotal: 1.3s\tremaining: 23.3s\n",
            "53:\tlearn: 0.6728898\ttotal: 1.33s\tremaining: 23.3s\n",
            "54:\tlearn: 0.6727710\ttotal: 1.36s\tremaining: 23.4s\n",
            "55:\tlearn: 0.6724754\ttotal: 1.4s\tremaining: 23.6s\n",
            "56:\tlearn: 0.6722979\ttotal: 1.44s\tremaining: 23.9s\n",
            "57:\tlearn: 0.6720489\ttotal: 1.48s\tremaining: 24.1s\n",
            "58:\tlearn: 0.6718775\ttotal: 1.56s\tremaining: 24.8s\n",
            "59:\tlearn: 0.6717934\ttotal: 1.58s\tremaining: 24.8s\n",
            "60:\tlearn: 0.6716893\ttotal: 1.61s\tremaining: 24.8s\n",
            "61:\tlearn: 0.6714976\ttotal: 1.67s\tremaining: 25.3s\n",
            "62:\tlearn: 0.6712502\ttotal: 1.71s\tremaining: 25.4s\n",
            "63:\tlearn: 0.6711176\ttotal: 1.72s\tremaining: 25.2s\n",
            "64:\tlearn: 0.6709938\ttotal: 1.73s\tremaining: 24.9s\n",
            "65:\tlearn: 0.6707097\ttotal: 1.75s\tremaining: 24.7s\n",
            "66:\tlearn: 0.6704927\ttotal: 1.79s\tremaining: 25s\n",
            "67:\tlearn: 0.6704057\ttotal: 1.82s\tremaining: 25s\n",
            "68:\tlearn: 0.6703015\ttotal: 1.85s\tremaining: 25s\n",
            "69:\tlearn: 0.6700961\ttotal: 1.89s\tremaining: 25.2s\n",
            "70:\tlearn: 0.6700213\ttotal: 1.92s\tremaining: 25.2s\n",
            "71:\tlearn: 0.6699153\ttotal: 1.95s\tremaining: 25.2s\n",
            "72:\tlearn: 0.6698296\ttotal: 1.98s\tremaining: 25.2s\n",
            "73:\tlearn: 0.6696551\ttotal: 2.02s\tremaining: 25.3s\n",
            "74:\tlearn: 0.6694856\ttotal: 2.06s\tremaining: 25.4s\n",
            "75:\tlearn: 0.6693780\ttotal: 2.08s\tremaining: 25.4s\n",
            "76:\tlearn: 0.6691807\ttotal: 2.11s\tremaining: 25.3s\n",
            "77:\tlearn: 0.6690745\ttotal: 2.15s\tremaining: 25.4s\n",
            "78:\tlearn: 0.6690067\ttotal: 2.18s\tremaining: 25.4s\n",
            "79:\tlearn: 0.6689535\ttotal: 2.2s\tremaining: 25.4s\n",
            "80:\tlearn: 0.6688691\ttotal: 2.24s\tremaining: 25.4s\n",
            "81:\tlearn: 0.6688119\ttotal: 2.27s\tremaining: 25.4s\n",
            "82:\tlearn: 0.6687249\ttotal: 2.29s\tremaining: 25.4s\n",
            "83:\tlearn: 0.6686662\ttotal: 2.33s\tremaining: 25.4s\n",
            "84:\tlearn: 0.6686025\ttotal: 2.37s\tremaining: 25.5s\n",
            "85:\tlearn: 0.6684514\ttotal: 2.42s\tremaining: 25.7s\n",
            "86:\tlearn: 0.6682489\ttotal: 2.46s\tremaining: 25.8s\n",
            "87:\tlearn: 0.6680644\ttotal: 2.5s\tremaining: 25.9s\n",
            "88:\tlearn: 0.6677741\ttotal: 2.52s\tremaining: 25.8s\n",
            "89:\tlearn: 0.6676078\ttotal: 2.54s\tremaining: 25.6s\n",
            "90:\tlearn: 0.6675355\ttotal: 2.56s\tremaining: 25.5s\n",
            "91:\tlearn: 0.6674399\ttotal: 2.59s\tremaining: 25.5s\n",
            "92:\tlearn: 0.6672765\ttotal: 2.63s\tremaining: 25.6s\n",
            "93:\tlearn: 0.6671084\ttotal: 2.68s\tremaining: 25.9s\n",
            "94:\tlearn: 0.6670383\ttotal: 2.72s\tremaining: 25.9s\n",
            "95:\tlearn: 0.6669614\ttotal: 2.77s\tremaining: 26.1s\n",
            "96:\tlearn: 0.6668322\ttotal: 2.83s\tremaining: 26.3s\n",
            "97:\tlearn: 0.6666056\ttotal: 2.89s\tremaining: 26.6s\n",
            "98:\tlearn: 0.6664975\ttotal: 2.94s\tremaining: 26.8s\n",
            "99:\tlearn: 0.6664040\ttotal: 2.98s\tremaining: 26.8s\n",
            "100:\tlearn: 0.6663005\ttotal: 3.01s\tremaining: 26.8s\n",
            "101:\tlearn: 0.6661804\ttotal: 3.05s\tremaining: 26.9s\n",
            "102:\tlearn: 0.6659766\ttotal: 3.09s\tremaining: 26.9s\n",
            "103:\tlearn: 0.6658392\ttotal: 3.12s\tremaining: 26.9s\n",
            "104:\tlearn: 0.6656933\ttotal: 3.15s\tremaining: 26.9s\n",
            "105:\tlearn: 0.6654329\ttotal: 3.18s\tremaining: 26.8s\n",
            "106:\tlearn: 0.6651941\ttotal: 3.22s\tremaining: 26.9s\n",
            "107:\tlearn: 0.6650096\ttotal: 3.27s\tremaining: 27s\n",
            "108:\tlearn: 0.6648816\ttotal: 3.31s\tremaining: 27s\n",
            "109:\tlearn: 0.6648250\ttotal: 3.33s\tremaining: 27s\n",
            "110:\tlearn: 0.6648023\ttotal: 3.35s\tremaining: 26.8s\n",
            "111:\tlearn: 0.6646970\ttotal: 3.37s\tremaining: 26.7s\n",
            "112:\tlearn: 0.6646095\ttotal: 3.4s\tremaining: 26.7s\n",
            "113:\tlearn: 0.6644604\ttotal: 3.42s\tremaining: 26.6s\n",
            "114:\tlearn: 0.6642794\ttotal: 3.43s\tremaining: 26.4s\n",
            "115:\tlearn: 0.6642294\ttotal: 3.46s\tremaining: 26.3s\n",
            "116:\tlearn: 0.6641309\ttotal: 3.47s\tremaining: 26.2s\n",
            "117:\tlearn: 0.6640480\ttotal: 3.49s\tremaining: 26.1s\n",
            "118:\tlearn: 0.6639058\ttotal: 3.51s\tremaining: 26s\n",
            "119:\tlearn: 0.6638117\ttotal: 3.53s\tremaining: 25.9s\n",
            "120:\tlearn: 0.6636815\ttotal: 3.54s\tremaining: 25.8s\n",
            "121:\tlearn: 0.6636254\ttotal: 3.56s\tremaining: 25.6s\n",
            "122:\tlearn: 0.6635722\ttotal: 3.58s\tremaining: 25.5s\n",
            "123:\tlearn: 0.6634039\ttotal: 3.6s\tremaining: 25.4s\n",
            "124:\tlearn: 0.6633335\ttotal: 3.62s\tremaining: 25.3s\n",
            "125:\tlearn: 0.6632035\ttotal: 3.63s\tremaining: 25.2s\n",
            "126:\tlearn: 0.6631119\ttotal: 3.65s\tremaining: 25.1s\n",
            "127:\tlearn: 0.6630418\ttotal: 3.66s\tremaining: 24.9s\n",
            "128:\tlearn: 0.6629407\ttotal: 3.68s\tremaining: 24.8s\n",
            "129:\tlearn: 0.6628650\ttotal: 3.69s\tremaining: 24.7s\n",
            "130:\tlearn: 0.6627453\ttotal: 3.72s\tremaining: 24.7s\n",
            "131:\tlearn: 0.6626629\ttotal: 3.73s\tremaining: 24.5s\n",
            "132:\tlearn: 0.6626095\ttotal: 3.74s\tremaining: 24.4s\n",
            "133:\tlearn: 0.6625003\ttotal: 3.76s\tremaining: 24.3s\n",
            "134:\tlearn: 0.6624461\ttotal: 3.77s\tremaining: 24.1s\n",
            "135:\tlearn: 0.6623998\ttotal: 3.78s\tremaining: 24s\n",
            "136:\tlearn: 0.6623380\ttotal: 3.79s\tremaining: 23.9s\n",
            "137:\tlearn: 0.6622542\ttotal: 3.83s\tremaining: 23.9s\n",
            "138:\tlearn: 0.6621669\ttotal: 3.84s\tremaining: 23.8s\n",
            "139:\tlearn: 0.6620953\ttotal: 3.88s\tremaining: 23.8s\n",
            "140:\tlearn: 0.6619160\ttotal: 3.9s\tremaining: 23.8s\n",
            "141:\tlearn: 0.6618786\ttotal: 3.94s\tremaining: 23.8s\n",
            "142:\tlearn: 0.6617482\ttotal: 3.97s\tremaining: 23.8s\n",
            "143:\tlearn: 0.6616908\ttotal: 3.99s\tremaining: 23.7s\n",
            "144:\tlearn: 0.6616272\ttotal: 4.02s\tremaining: 23.7s\n",
            "145:\tlearn: 0.6615672\ttotal: 4.04s\tremaining: 23.7s\n",
            "146:\tlearn: 0.6615323\ttotal: 4.06s\tremaining: 23.6s\n",
            "147:\tlearn: 0.6614591\ttotal: 4.07s\tremaining: 23.5s\n",
            "148:\tlearn: 0.6613984\ttotal: 4.09s\tremaining: 23.4s\n",
            "149:\tlearn: 0.6613408\ttotal: 4.11s\tremaining: 23.3s\n",
            "150:\tlearn: 0.6612383\ttotal: 4.12s\tremaining: 23.2s\n",
            "151:\tlearn: 0.6611683\ttotal: 4.15s\tremaining: 23.2s\n",
            "152:\tlearn: 0.6609999\ttotal: 4.18s\tremaining: 23.2s\n",
            "153:\tlearn: 0.6609519\ttotal: 4.2s\tremaining: 23.1s\n",
            "154:\tlearn: 0.6608917\ttotal: 4.21s\tremaining: 23s\n",
            "155:\tlearn: 0.6608646\ttotal: 4.22s\tremaining: 22.9s\n",
            "156:\tlearn: 0.6607760\ttotal: 4.25s\tremaining: 22.8s\n",
            "157:\tlearn: 0.6607048\ttotal: 4.26s\tremaining: 22.7s\n",
            "158:\tlearn: 0.6606428\ttotal: 4.28s\tremaining: 22.6s\n",
            "159:\tlearn: 0.6605171\ttotal: 4.3s\tremaining: 22.6s\n",
            "160:\tlearn: 0.6603986\ttotal: 4.33s\tremaining: 22.5s\n",
            "161:\tlearn: 0.6603326\ttotal: 4.35s\tremaining: 22.5s\n",
            "162:\tlearn: 0.6602649\ttotal: 4.39s\tremaining: 22.6s\n",
            "163:\tlearn: 0.6602330\ttotal: 4.41s\tremaining: 22.5s\n",
            "164:\tlearn: 0.6601645\ttotal: 4.43s\tremaining: 22.4s\n",
            "165:\tlearn: 0.6600479\ttotal: 4.44s\tremaining: 22.3s\n",
            "166:\tlearn: 0.6598807\ttotal: 4.46s\tremaining: 22.2s\n",
            "167:\tlearn: 0.6597526\ttotal: 4.47s\tremaining: 22.1s\n",
            "168:\tlearn: 0.6596958\ttotal: 4.48s\tremaining: 22s\n",
            "169:\tlearn: 0.6596133\ttotal: 4.49s\tremaining: 21.9s\n",
            "170:\tlearn: 0.6595547\ttotal: 4.51s\tremaining: 21.8s\n",
            "171:\tlearn: 0.6595030\ttotal: 4.52s\tremaining: 21.8s\n",
            "172:\tlearn: 0.6594594\ttotal: 4.54s\tremaining: 21.7s\n",
            "173:\tlearn: 0.6593550\ttotal: 4.55s\tremaining: 21.6s\n",
            "174:\tlearn: 0.6592432\ttotal: 4.57s\tremaining: 21.5s\n",
            "175:\tlearn: 0.6592019\ttotal: 4.58s\tremaining: 21.5s\n",
            "176:\tlearn: 0.6590660\ttotal: 4.59s\tremaining: 21.4s\n",
            "177:\tlearn: 0.6589418\ttotal: 4.61s\tremaining: 21.3s\n",
            "178:\tlearn: 0.6588726\ttotal: 4.62s\tremaining: 21.2s\n",
            "179:\tlearn: 0.6588149\ttotal: 4.63s\tremaining: 21.1s\n",
            "180:\tlearn: 0.6586997\ttotal: 4.65s\tremaining: 21s\n",
            "181:\tlearn: 0.6585979\ttotal: 4.66s\tremaining: 20.9s\n",
            "182:\tlearn: 0.6585247\ttotal: 4.7s\tremaining: 21s\n",
            "183:\tlearn: 0.6584845\ttotal: 4.73s\tremaining: 21s\n",
            "184:\tlearn: 0.6584234\ttotal: 4.76s\tremaining: 21s\n",
            "185:\tlearn: 0.6583711\ttotal: 4.77s\tremaining: 20.9s\n",
            "186:\tlearn: 0.6583008\ttotal: 4.79s\tremaining: 20.8s\n",
            "187:\tlearn: 0.6582366\ttotal: 4.81s\tremaining: 20.8s\n",
            "188:\tlearn: 0.6581574\ttotal: 4.82s\tremaining: 20.7s\n",
            "189:\tlearn: 0.6580827\ttotal: 4.85s\tremaining: 20.7s\n",
            "190:\tlearn: 0.6580384\ttotal: 4.86s\tremaining: 20.6s\n",
            "191:\tlearn: 0.6579613\ttotal: 4.87s\tremaining: 20.5s\n",
            "192:\tlearn: 0.6578413\ttotal: 4.89s\tremaining: 20.4s\n",
            "193:\tlearn: 0.6577656\ttotal: 4.9s\tremaining: 20.4s\n",
            "194:\tlearn: 0.6576613\ttotal: 4.92s\tremaining: 20.3s\n",
            "195:\tlearn: 0.6575787\ttotal: 4.93s\tremaining: 20.2s\n",
            "196:\tlearn: 0.6574754\ttotal: 4.95s\tremaining: 20.2s\n",
            "197:\tlearn: 0.6573969\ttotal: 4.96s\tremaining: 20.1s\n",
            "198:\tlearn: 0.6573262\ttotal: 4.97s\tremaining: 20s\n",
            "199:\tlearn: 0.6572465\ttotal: 4.99s\tremaining: 19.9s\n",
            "200:\tlearn: 0.6571188\ttotal: 5s\tremaining: 19.9s\n",
            "201:\tlearn: 0.6570254\ttotal: 5.02s\tremaining: 19.8s\n",
            "202:\tlearn: 0.6568774\ttotal: 5.03s\tremaining: 19.7s\n",
            "203:\tlearn: 0.6567334\ttotal: 5.06s\tremaining: 19.7s\n",
            "204:\tlearn: 0.6566554\ttotal: 5.09s\tremaining: 19.7s\n",
            "205:\tlearn: 0.6564989\ttotal: 5.12s\tremaining: 19.7s\n",
            "206:\tlearn: 0.6564426\ttotal: 5.15s\tremaining: 19.7s\n",
            "207:\tlearn: 0.6563852\ttotal: 5.16s\tremaining: 19.7s\n",
            "208:\tlearn: 0.6562252\ttotal: 5.18s\tremaining: 19.6s\n",
            "209:\tlearn: 0.6561672\ttotal: 5.19s\tremaining: 19.5s\n",
            "210:\tlearn: 0.6560898\ttotal: 5.2s\tremaining: 19.5s\n",
            "211:\tlearn: 0.6559238\ttotal: 5.22s\tremaining: 19.4s\n",
            "212:\tlearn: 0.6558758\ttotal: 5.23s\tremaining: 19.3s\n",
            "213:\tlearn: 0.6558067\ttotal: 5.27s\tremaining: 19.4s\n",
            "214:\tlearn: 0.6557533\ttotal: 5.3s\tremaining: 19.4s\n",
            "215:\tlearn: 0.6556950\ttotal: 5.34s\tremaining: 19.4s\n",
            "216:\tlearn: 0.6556229\ttotal: 5.39s\tremaining: 19.4s\n",
            "217:\tlearn: 0.6555633\ttotal: 5.4s\tremaining: 19.4s\n",
            "218:\tlearn: 0.6554685\ttotal: 5.42s\tremaining: 19.3s\n",
            "219:\tlearn: 0.6554037\ttotal: 5.43s\tremaining: 19.3s\n",
            "220:\tlearn: 0.6553280\ttotal: 5.45s\tremaining: 19.2s\n",
            "221:\tlearn: 0.6552539\ttotal: 5.46s\tremaining: 19.1s\n",
            "222:\tlearn: 0.6551411\ttotal: 5.48s\tremaining: 19.1s\n",
            "223:\tlearn: 0.6550248\ttotal: 5.5s\tremaining: 19.1s\n",
            "224:\tlearn: 0.6549197\ttotal: 5.54s\tremaining: 19.1s\n",
            "225:\tlearn: 0.6548352\ttotal: 5.57s\tremaining: 19.1s\n",
            "226:\tlearn: 0.6547337\ttotal: 5.6s\tremaining: 19.1s\n",
            "227:\tlearn: 0.6546304\ttotal: 5.64s\tremaining: 19.1s\n",
            "228:\tlearn: 0.6545447\ttotal: 5.67s\tremaining: 19.1s\n",
            "229:\tlearn: 0.6545021\ttotal: 5.71s\tremaining: 19.1s\n",
            "230:\tlearn: 0.6544106\ttotal: 5.76s\tremaining: 19.2s\n",
            "231:\tlearn: 0.6543406\ttotal: 5.79s\tremaining: 19.2s\n",
            "232:\tlearn: 0.6542452\ttotal: 5.84s\tremaining: 19.2s\n",
            "233:\tlearn: 0.6541696\ttotal: 5.87s\tremaining: 19.2s\n",
            "234:\tlearn: 0.6540353\ttotal: 5.89s\tremaining: 19.2s\n",
            "235:\tlearn: 0.6539681\ttotal: 5.91s\tremaining: 19.1s\n",
            "236:\tlearn: 0.6538987\ttotal: 5.93s\tremaining: 19.1s\n",
            "237:\tlearn: 0.6538074\ttotal: 5.95s\tremaining: 19s\n",
            "238:\tlearn: 0.6537417\ttotal: 5.98s\tremaining: 19s\n",
            "239:\tlearn: 0.6536363\ttotal: 5.99s\tremaining: 19s\n",
            "240:\tlearn: 0.6534247\ttotal: 6.01s\tremaining: 18.9s\n",
            "241:\tlearn: 0.6533723\ttotal: 6.03s\tremaining: 18.9s\n",
            "242:\tlearn: 0.6533035\ttotal: 6.04s\tremaining: 18.8s\n",
            "243:\tlearn: 0.6531673\ttotal: 6.06s\tremaining: 18.8s\n",
            "244:\tlearn: 0.6529847\ttotal: 6.07s\tremaining: 18.7s\n",
            "245:\tlearn: 0.6529288\ttotal: 6.08s\tremaining: 18.6s\n",
            "246:\tlearn: 0.6527871\ttotal: 6.1s\tremaining: 18.6s\n",
            "247:\tlearn: 0.6526627\ttotal: 6.11s\tremaining: 18.5s\n",
            "248:\tlearn: 0.6525633\ttotal: 6.12s\tremaining: 18.5s\n",
            "249:\tlearn: 0.6524931\ttotal: 6.14s\tremaining: 18.4s\n",
            "250:\tlearn: 0.6523736\ttotal: 6.17s\tremaining: 18.4s\n",
            "251:\tlearn: 0.6522044\ttotal: 6.18s\tremaining: 18.3s\n",
            "252:\tlearn: 0.6520820\ttotal: 6.21s\tremaining: 18.3s\n",
            "253:\tlearn: 0.6519954\ttotal: 6.27s\tremaining: 18.4s\n",
            "254:\tlearn: 0.6517432\ttotal: 6.29s\tremaining: 18.4s\n",
            "255:\tlearn: 0.6516703\ttotal: 6.31s\tremaining: 18.3s\n",
            "256:\tlearn: 0.6516046\ttotal: 6.34s\tremaining: 18.3s\n",
            "257:\tlearn: 0.6515235\ttotal: 6.37s\tremaining: 18.3s\n",
            "258:\tlearn: 0.6513124\ttotal: 6.41s\tremaining: 18.3s\n",
            "259:\tlearn: 0.6511927\ttotal: 6.45s\tremaining: 18.3s\n",
            "260:\tlearn: 0.6510295\ttotal: 6.49s\tremaining: 18.4s\n",
            "261:\tlearn: 0.6509385\ttotal: 6.51s\tremaining: 18.3s\n",
            "262:\tlearn: 0.6508747\ttotal: 6.54s\tremaining: 18.3s\n",
            "263:\tlearn: 0.6508031\ttotal: 6.57s\tremaining: 18.3s\n",
            "264:\tlearn: 0.6507141\ttotal: 6.61s\tremaining: 18.3s\n",
            "265:\tlearn: 0.6506662\ttotal: 6.63s\tremaining: 18.3s\n",
            "266:\tlearn: 0.6505435\ttotal: 6.65s\tremaining: 18.3s\n",
            "267:\tlearn: 0.6504108\ttotal: 6.67s\tremaining: 18.2s\n",
            "268:\tlearn: 0.6502743\ttotal: 6.71s\tremaining: 18.2s\n",
            "269:\tlearn: 0.6502101\ttotal: 6.74s\tremaining: 18.2s\n",
            "270:\tlearn: 0.6500484\ttotal: 6.77s\tremaining: 18.2s\n",
            "271:\tlearn: 0.6500035\ttotal: 6.8s\tremaining: 18.2s\n",
            "272:\tlearn: 0.6499386\ttotal: 6.84s\tremaining: 18.2s\n",
            "273:\tlearn: 0.6498742\ttotal: 6.9s\tremaining: 18.3s\n",
            "274:\tlearn: 0.6497425\ttotal: 6.96s\tremaining: 18.3s\n",
            "275:\tlearn: 0.6496790\ttotal: 7.02s\tremaining: 18.4s\n",
            "276:\tlearn: 0.6495413\ttotal: 7.07s\tremaining: 18.5s\n",
            "277:\tlearn: 0.6494266\ttotal: 7.13s\tremaining: 18.5s\n",
            "278:\tlearn: 0.6493334\ttotal: 7.17s\tremaining: 18.5s\n",
            "279:\tlearn: 0.6492561\ttotal: 7.25s\tremaining: 18.6s\n",
            "280:\tlearn: 0.6490821\ttotal: 7.26s\tremaining: 18.6s\n",
            "281:\tlearn: 0.6489700\ttotal: 7.3s\tremaining: 18.6s\n",
            "282:\tlearn: 0.6489040\ttotal: 7.35s\tremaining: 18.6s\n",
            "283:\tlearn: 0.6487909\ttotal: 7.41s\tremaining: 18.7s\n",
            "284:\tlearn: 0.6486618\ttotal: 7.46s\tremaining: 18.7s\n",
            "285:\tlearn: 0.6485889\ttotal: 7.53s\tremaining: 18.8s\n",
            "286:\tlearn: 0.6484465\ttotal: 7.57s\tremaining: 18.8s\n",
            "287:\tlearn: 0.6483895\ttotal: 7.61s\tremaining: 18.8s\n",
            "288:\tlearn: 0.6482872\ttotal: 7.66s\tremaining: 18.8s\n",
            "289:\tlearn: 0.6481615\ttotal: 7.72s\tremaining: 18.9s\n",
            "290:\tlearn: 0.6480823\ttotal: 7.78s\tremaining: 19s\n",
            "291:\tlearn: 0.6479660\ttotal: 7.85s\tremaining: 19s\n",
            "292:\tlearn: 0.6478413\ttotal: 7.88s\tremaining: 19s\n",
            "293:\tlearn: 0.6477500\ttotal: 7.95s\tremaining: 19.1s\n",
            "294:\tlearn: 0.6476810\ttotal: 7.99s\tremaining: 19.1s\n",
            "295:\tlearn: 0.6476267\ttotal: 8.08s\tremaining: 19.2s\n",
            "296:\tlearn: 0.6475635\ttotal: 8.13s\tremaining: 19.3s\n",
            "297:\tlearn: 0.6475085\ttotal: 8.17s\tremaining: 19.2s\n",
            "298:\tlearn: 0.6474266\ttotal: 8.2s\tremaining: 19.2s\n",
            "299:\tlearn: 0.6473106\ttotal: 8.24s\tremaining: 19.2s\n",
            "300:\tlearn: 0.6472008\ttotal: 8.33s\tremaining: 19.3s\n",
            "301:\tlearn: 0.6471386\ttotal: 8.37s\tremaining: 19.3s\n",
            "302:\tlearn: 0.6470743\ttotal: 8.42s\tremaining: 19.4s\n",
            "303:\tlearn: 0.6470040\ttotal: 8.49s\tremaining: 19.4s\n",
            "304:\tlearn: 0.6469508\ttotal: 8.54s\tremaining: 19.5s\n",
            "305:\tlearn: 0.6468263\ttotal: 8.59s\tremaining: 19.5s\n",
            "306:\tlearn: 0.6467562\ttotal: 8.63s\tremaining: 19.5s\n",
            "307:\tlearn: 0.6466936\ttotal: 8.68s\tremaining: 19.5s\n",
            "308:\tlearn: 0.6466219\ttotal: 8.73s\tremaining: 19.5s\n",
            "309:\tlearn: 0.6465323\ttotal: 8.78s\tremaining: 19.5s\n",
            "310:\tlearn: 0.6464594\ttotal: 8.83s\tremaining: 19.6s\n",
            "311:\tlearn: 0.6463998\ttotal: 8.88s\tremaining: 19.6s\n",
            "312:\tlearn: 0.6463493\ttotal: 8.92s\tremaining: 19.6s\n",
            "313:\tlearn: 0.6462503\ttotal: 9s\tremaining: 19.7s\n",
            "314:\tlearn: 0.6461650\ttotal: 9.03s\tremaining: 19.6s\n",
            "315:\tlearn: 0.6460783\ttotal: 9.08s\tremaining: 19.7s\n",
            "316:\tlearn: 0.6459999\ttotal: 9.16s\tremaining: 19.7s\n",
            "317:\tlearn: 0.6459386\ttotal: 9.22s\tremaining: 19.8s\n",
            "318:\tlearn: 0.6458726\ttotal: 9.28s\tremaining: 19.8s\n",
            "319:\tlearn: 0.6457640\ttotal: 9.33s\tremaining: 19.8s\n",
            "320:\tlearn: 0.6456976\ttotal: 9.37s\tremaining: 19.8s\n",
            "321:\tlearn: 0.6455985\ttotal: 9.42s\tremaining: 19.8s\n",
            "322:\tlearn: 0.6455303\ttotal: 9.49s\tremaining: 19.9s\n",
            "323:\tlearn: 0.6454363\ttotal: 9.55s\tremaining: 19.9s\n",
            "324:\tlearn: 0.6453764\ttotal: 9.58s\tremaining: 19.9s\n",
            "325:\tlearn: 0.6453019\ttotal: 9.6s\tremaining: 19.8s\n",
            "326:\tlearn: 0.6452391\ttotal: 9.65s\tremaining: 19.9s\n",
            "327:\tlearn: 0.6451552\ttotal: 9.69s\tremaining: 19.9s\n",
            "328:\tlearn: 0.6450762\ttotal: 9.73s\tremaining: 19.8s\n",
            "329:\tlearn: 0.6450387\ttotal: 9.76s\tremaining: 19.8s\n",
            "330:\tlearn: 0.6449490\ttotal: 9.79s\tremaining: 19.8s\n",
            "331:\tlearn: 0.6448855\ttotal: 9.84s\tremaining: 19.8s\n",
            "332:\tlearn: 0.6447265\ttotal: 9.86s\tremaining: 19.7s\n",
            "333:\tlearn: 0.6446677\ttotal: 9.88s\tremaining: 19.7s\n",
            "334:\tlearn: 0.6445864\ttotal: 9.91s\tremaining: 19.7s\n",
            "335:\tlearn: 0.6445278\ttotal: 9.92s\tremaining: 19.6s\n",
            "336:\tlearn: 0.6444287\ttotal: 9.94s\tremaining: 19.6s\n",
            "337:\tlearn: 0.6443386\ttotal: 9.98s\tremaining: 19.5s\n",
            "338:\tlearn: 0.6442721\ttotal: 10s\tremaining: 19.6s\n",
            "339:\tlearn: 0.6441980\ttotal: 10.1s\tremaining: 19.5s\n",
            "340:\tlearn: 0.6441402\ttotal: 10.1s\tremaining: 19.5s\n",
            "341:\tlearn: 0.6440862\ttotal: 10.1s\tremaining: 19.4s\n",
            "342:\tlearn: 0.6440077\ttotal: 10.1s\tremaining: 19.4s\n",
            "343:\tlearn: 0.6439681\ttotal: 10.2s\tremaining: 19.4s\n",
            "344:\tlearn: 0.6439247\ttotal: 10.2s\tremaining: 19.4s\n",
            "345:\tlearn: 0.6437919\ttotal: 10.3s\tremaining: 19.5s\n",
            "346:\tlearn: 0.6437263\ttotal: 10.3s\tremaining: 19.5s\n",
            "347:\tlearn: 0.6436616\ttotal: 10.4s\tremaining: 19.5s\n",
            "348:\tlearn: 0.6436001\ttotal: 10.5s\tremaining: 19.6s\n",
            "349:\tlearn: 0.6435067\ttotal: 10.6s\tremaining: 19.6s\n",
            "350:\tlearn: 0.6432505\ttotal: 10.6s\tremaining: 19.6s\n",
            "351:\tlearn: 0.6431977\ttotal: 10.7s\tremaining: 19.6s\n",
            "352:\tlearn: 0.6431356\ttotal: 10.7s\tremaining: 19.7s\n",
            "353:\tlearn: 0.6430820\ttotal: 10.8s\tremaining: 19.7s\n",
            "354:\tlearn: 0.6430459\ttotal: 10.8s\tremaining: 19.7s\n",
            "355:\tlearn: 0.6430033\ttotal: 10.9s\tremaining: 19.7s\n",
            "356:\tlearn: 0.6429401\ttotal: 11s\tremaining: 19.7s\n",
            "357:\tlearn: 0.6429048\ttotal: 11s\tremaining: 19.8s\n",
            "358:\tlearn: 0.6428317\ttotal: 11.1s\tremaining: 19.8s\n",
            "359:\tlearn: 0.6427484\ttotal: 11.1s\tremaining: 19.8s\n",
            "360:\tlearn: 0.6426826\ttotal: 11.2s\tremaining: 19.8s\n",
            "361:\tlearn: 0.6425284\ttotal: 11.3s\tremaining: 19.9s\n",
            "362:\tlearn: 0.6424735\ttotal: 11.3s\tremaining: 19.9s\n",
            "363:\tlearn: 0.6424130\ttotal: 11.4s\tremaining: 19.9s\n",
            "364:\tlearn: 0.6423509\ttotal: 11.4s\tremaining: 19.9s\n",
            "365:\tlearn: 0.6422599\ttotal: 11.5s\tremaining: 19.8s\n",
            "366:\tlearn: 0.6422119\ttotal: 11.5s\tremaining: 19.8s\n",
            "367:\tlearn: 0.6421137\ttotal: 11.5s\tremaining: 19.8s\n",
            "368:\tlearn: 0.6419750\ttotal: 11.6s\tremaining: 19.8s\n",
            "369:\tlearn: 0.6418531\ttotal: 11.6s\tremaining: 19.8s\n",
            "370:\tlearn: 0.6417282\ttotal: 11.7s\tremaining: 19.8s\n",
            "371:\tlearn: 0.6416957\ttotal: 11.7s\tremaining: 19.8s\n",
            "372:\tlearn: 0.6416356\ttotal: 11.7s\tremaining: 19.7s\n",
            "373:\tlearn: 0.6415765\ttotal: 11.8s\tremaining: 19.7s\n",
            "374:\tlearn: 0.6415072\ttotal: 11.8s\tremaining: 19.7s\n",
            "375:\tlearn: 0.6414400\ttotal: 11.8s\tremaining: 19.7s\n",
            "376:\tlearn: 0.6413953\ttotal: 11.9s\tremaining: 19.6s\n",
            "377:\tlearn: 0.6413400\ttotal: 11.9s\tremaining: 19.6s\n",
            "378:\tlearn: 0.6412691\ttotal: 11.9s\tremaining: 19.5s\n",
            "379:\tlearn: 0.6412200\ttotal: 11.9s\tremaining: 19.5s\n",
            "380:\tlearn: 0.6411578\ttotal: 12s\tremaining: 19.5s\n",
            "381:\tlearn: 0.6411117\ttotal: 12s\tremaining: 19.4s\n",
            "382:\tlearn: 0.6410673\ttotal: 12.1s\tremaining: 19.4s\n",
            "383:\tlearn: 0.6409840\ttotal: 12.1s\tremaining: 19.4s\n",
            "384:\tlearn: 0.6409093\ttotal: 12.1s\tremaining: 19.3s\n",
            "385:\tlearn: 0.6408485\ttotal: 12.1s\tremaining: 19.3s\n",
            "386:\tlearn: 0.6407274\ttotal: 12.2s\tremaining: 19.2s\n",
            "387:\tlearn: 0.6406486\ttotal: 12.2s\tremaining: 19.2s\n",
            "388:\tlearn: 0.6406201\ttotal: 12.2s\tremaining: 19.2s\n",
            "389:\tlearn: 0.6405310\ttotal: 12.2s\tremaining: 19.1s\n",
            "390:\tlearn: 0.6404561\ttotal: 12.3s\tremaining: 19.1s\n",
            "391:\tlearn: 0.6403495\ttotal: 12.3s\tremaining: 19.1s\n",
            "392:\tlearn: 0.6402886\ttotal: 12.3s\tremaining: 19.1s\n",
            "393:\tlearn: 0.6402142\ttotal: 12.4s\tremaining: 19s\n",
            "394:\tlearn: 0.6401406\ttotal: 12.4s\tremaining: 19s\n",
            "395:\tlearn: 0.6400423\ttotal: 12.4s\tremaining: 18.9s\n",
            "396:\tlearn: 0.6399784\ttotal: 12.4s\tremaining: 18.9s\n",
            "397:\tlearn: 0.6399135\ttotal: 12.5s\tremaining: 18.9s\n",
            "398:\tlearn: 0.6398711\ttotal: 12.5s\tremaining: 18.8s\n",
            "399:\tlearn: 0.6398226\ttotal: 12.5s\tremaining: 18.8s\n",
            "400:\tlearn: 0.6397111\ttotal: 12.6s\tremaining: 18.8s\n",
            "401:\tlearn: 0.6396178\ttotal: 12.7s\tremaining: 18.8s\n",
            "402:\tlearn: 0.6395461\ttotal: 12.7s\tremaining: 18.8s\n",
            "403:\tlearn: 0.6394836\ttotal: 12.7s\tremaining: 18.8s\n",
            "404:\tlearn: 0.6394162\ttotal: 12.8s\tremaining: 18.8s\n",
            "405:\tlearn: 0.6393608\ttotal: 12.8s\tremaining: 18.7s\n",
            "406:\tlearn: 0.6392200\ttotal: 12.8s\tremaining: 18.7s\n",
            "407:\tlearn: 0.6391418\ttotal: 12.9s\tremaining: 18.7s\n",
            "408:\tlearn: 0.6390863\ttotal: 12.9s\tremaining: 18.7s\n",
            "409:\tlearn: 0.6390266\ttotal: 13s\tremaining: 18.7s\n",
            "410:\tlearn: 0.6389784\ttotal: 13s\tremaining: 18.7s\n",
            "411:\tlearn: 0.6389321\ttotal: 13s\tremaining: 18.6s\n",
            "412:\tlearn: 0.6387832\ttotal: 13.1s\tremaining: 18.6s\n",
            "413:\tlearn: 0.6387257\ttotal: 13.1s\tremaining: 18.6s\n",
            "414:\tlearn: 0.6386613\ttotal: 13.2s\tremaining: 18.6s\n",
            "415:\tlearn: 0.6386028\ttotal: 13.2s\tremaining: 18.5s\n",
            "416:\tlearn: 0.6385168\ttotal: 13.2s\tremaining: 18.5s\n",
            "417:\tlearn: 0.6384213\ttotal: 13.3s\tremaining: 18.5s\n",
            "418:\tlearn: 0.6383731\ttotal: 13.3s\tremaining: 18.4s\n",
            "419:\tlearn: 0.6383035\ttotal: 13.3s\tremaining: 18.4s\n",
            "420:\tlearn: 0.6382562\ttotal: 13.4s\tremaining: 18.4s\n",
            "421:\tlearn: 0.6381879\ttotal: 13.4s\tremaining: 18.4s\n",
            "422:\tlearn: 0.6381480\ttotal: 13.5s\tremaining: 18.4s\n",
            "423:\tlearn: 0.6380878\ttotal: 13.5s\tremaining: 18.3s\n",
            "424:\tlearn: 0.6380485\ttotal: 13.5s\tremaining: 18.3s\n",
            "425:\tlearn: 0.6379885\ttotal: 13.6s\tremaining: 18.3s\n",
            "426:\tlearn: 0.6379309\ttotal: 13.6s\tremaining: 18.2s\n",
            "427:\tlearn: 0.6378615\ttotal: 13.6s\tremaining: 18.2s\n",
            "428:\tlearn: 0.6377760\ttotal: 13.6s\tremaining: 18.2s\n",
            "429:\tlearn: 0.6376959\ttotal: 13.7s\tremaining: 18.1s\n",
            "430:\tlearn: 0.6376313\ttotal: 13.7s\tremaining: 18.1s\n",
            "431:\tlearn: 0.6375914\ttotal: 13.7s\tremaining: 18.1s\n",
            "432:\tlearn: 0.6375402\ttotal: 13.8s\tremaining: 18s\n",
            "433:\tlearn: 0.6374711\ttotal: 13.8s\tremaining: 18s\n",
            "434:\tlearn: 0.6374013\ttotal: 13.8s\tremaining: 18s\n",
            "435:\tlearn: 0.6373450\ttotal: 13.9s\tremaining: 17.9s\n",
            "436:\tlearn: 0.6372755\ttotal: 13.9s\tremaining: 17.9s\n",
            "437:\tlearn: 0.6372027\ttotal: 13.9s\tremaining: 17.9s\n",
            "438:\tlearn: 0.6371328\ttotal: 13.9s\tremaining: 17.8s\n",
            "439:\tlearn: 0.6370999\ttotal: 14s\tremaining: 17.8s\n",
            "440:\tlearn: 0.6369933\ttotal: 14s\tremaining: 17.7s\n",
            "441:\tlearn: 0.6369617\ttotal: 14s\tremaining: 17.7s\n",
            "442:\tlearn: 0.6368896\ttotal: 14s\tremaining: 17.6s\n",
            "443:\tlearn: 0.6368384\ttotal: 14s\tremaining: 17.6s\n",
            "444:\tlearn: 0.6368020\ttotal: 14.1s\tremaining: 17.5s\n",
            "445:\tlearn: 0.6367411\ttotal: 14.1s\tremaining: 17.5s\n",
            "446:\tlearn: 0.6366683\ttotal: 14.1s\tremaining: 17.4s\n",
            "447:\tlearn: 0.6365981\ttotal: 14.1s\tremaining: 17.4s\n",
            "448:\tlearn: 0.6365305\ttotal: 14.1s\tremaining: 17.3s\n",
            "449:\tlearn: 0.6364731\ttotal: 14.2s\tremaining: 17.3s\n",
            "450:\tlearn: 0.6364313\ttotal: 14.2s\tremaining: 17.3s\n",
            "451:\tlearn: 0.6363540\ttotal: 14.2s\tremaining: 17.2s\n",
            "452:\tlearn: 0.6362904\ttotal: 14.2s\tremaining: 17.2s\n",
            "453:\tlearn: 0.6362210\ttotal: 14.3s\tremaining: 17.2s\n",
            "454:\tlearn: 0.6361633\ttotal: 14.3s\tremaining: 17.1s\n",
            "455:\tlearn: 0.6361034\ttotal: 14.4s\tremaining: 17.1s\n",
            "456:\tlearn: 0.6360084\ttotal: 14.4s\tremaining: 17.1s\n",
            "457:\tlearn: 0.6359554\ttotal: 14.4s\tremaining: 17.1s\n",
            "458:\tlearn: 0.6359069\ttotal: 14.5s\tremaining: 17s\n",
            "459:\tlearn: 0.6358635\ttotal: 14.5s\tremaining: 17s\n",
            "460:\tlearn: 0.6358042\ttotal: 14.5s\tremaining: 17s\n",
            "461:\tlearn: 0.6357588\ttotal: 14.5s\tremaining: 16.9s\n",
            "462:\tlearn: 0.6356690\ttotal: 14.6s\tremaining: 16.9s\n",
            "463:\tlearn: 0.6355997\ttotal: 14.7s\tremaining: 16.9s\n",
            "464:\tlearn: 0.6355219\ttotal: 14.7s\tremaining: 16.9s\n",
            "465:\tlearn: 0.6354686\ttotal: 14.7s\tremaining: 16.9s\n",
            "466:\tlearn: 0.6354323\ttotal: 14.8s\tremaining: 16.8s\n",
            "467:\tlearn: 0.6353447\ttotal: 14.8s\tremaining: 16.8s\n",
            "468:\tlearn: 0.6352857\ttotal: 14.8s\tremaining: 16.8s\n",
            "469:\tlearn: 0.6352206\ttotal: 14.8s\tremaining: 16.7s\n",
            "470:\tlearn: 0.6351680\ttotal: 14.9s\tremaining: 16.7s\n",
            "471:\tlearn: 0.6351205\ttotal: 14.9s\tremaining: 16.7s\n",
            "472:\tlearn: 0.6350415\ttotal: 14.9s\tremaining: 16.6s\n",
            "473:\tlearn: 0.6349516\ttotal: 15s\tremaining: 16.6s\n",
            "474:\tlearn: 0.6348836\ttotal: 15s\tremaining: 16.6s\n",
            "475:\tlearn: 0.6348418\ttotal: 15.1s\tremaining: 16.6s\n",
            "476:\tlearn: 0.6347883\ttotal: 15.1s\tremaining: 16.6s\n",
            "477:\tlearn: 0.6347372\ttotal: 15.1s\tremaining: 16.5s\n",
            "478:\tlearn: 0.6346874\ttotal: 15.2s\tremaining: 16.5s\n",
            "479:\tlearn: 0.6346400\ttotal: 15.2s\tremaining: 16.5s\n",
            "480:\tlearn: 0.6345803\ttotal: 15.2s\tremaining: 16.4s\n",
            "481:\tlearn: 0.6345122\ttotal: 15.3s\tremaining: 16.4s\n",
            "482:\tlearn: 0.6344475\ttotal: 15.3s\tremaining: 16.4s\n",
            "483:\tlearn: 0.6343449\ttotal: 15.4s\tremaining: 16.4s\n",
            "484:\tlearn: 0.6342723\ttotal: 15.4s\tremaining: 16.4s\n",
            "485:\tlearn: 0.6342176\ttotal: 15.5s\tremaining: 16.3s\n",
            "486:\tlearn: 0.6341604\ttotal: 15.5s\tremaining: 16.3s\n",
            "487:\tlearn: 0.6341208\ttotal: 15.6s\tremaining: 16.3s\n",
            "488:\tlearn: 0.6340257\ttotal: 15.6s\tremaining: 16.3s\n",
            "489:\tlearn: 0.6339175\ttotal: 15.6s\tremaining: 16.3s\n",
            "490:\tlearn: 0.6338678\ttotal: 15.7s\tremaining: 16.2s\n",
            "491:\tlearn: 0.6337979\ttotal: 15.7s\tremaining: 16.2s\n",
            "492:\tlearn: 0.6336953\ttotal: 15.7s\tremaining: 16.1s\n",
            "493:\tlearn: 0.6336323\ttotal: 15.7s\tremaining: 16.1s\n",
            "494:\tlearn: 0.6335945\ttotal: 15.7s\tremaining: 16s\n",
            "495:\tlearn: 0.6335352\ttotal: 15.7s\tremaining: 16s\n",
            "496:\tlearn: 0.6334492\ttotal: 15.7s\tremaining: 15.9s\n",
            "497:\tlearn: 0.6334008\ttotal: 15.8s\tremaining: 15.9s\n",
            "498:\tlearn: 0.6333459\ttotal: 15.8s\tremaining: 15.8s\n",
            "499:\tlearn: 0.6333067\ttotal: 15.8s\tremaining: 15.8s\n",
            "500:\tlearn: 0.6332473\ttotal: 15.8s\tremaining: 15.8s\n",
            "501:\tlearn: 0.6332045\ttotal: 15.8s\tremaining: 15.7s\n",
            "502:\tlearn: 0.6331316\ttotal: 15.9s\tremaining: 15.7s\n",
            "503:\tlearn: 0.6330604\ttotal: 15.9s\tremaining: 15.7s\n",
            "504:\tlearn: 0.6330241\ttotal: 16s\tremaining: 15.7s\n",
            "505:\tlearn: 0.6329856\ttotal: 16s\tremaining: 15.6s\n",
            "506:\tlearn: 0.6329337\ttotal: 16s\tremaining: 15.6s\n",
            "507:\tlearn: 0.6328767\ttotal: 16s\tremaining: 15.5s\n",
            "508:\tlearn: 0.6328131\ttotal: 16.1s\tremaining: 15.5s\n",
            "509:\tlearn: 0.6327489\ttotal: 16.1s\tremaining: 15.4s\n",
            "510:\tlearn: 0.6327157\ttotal: 16.1s\tremaining: 15.4s\n",
            "511:\tlearn: 0.6326750\ttotal: 16.1s\tremaining: 15.3s\n",
            "512:\tlearn: 0.6326381\ttotal: 16.1s\tremaining: 15.3s\n",
            "513:\tlearn: 0.6325855\ttotal: 16.1s\tremaining: 15.3s\n",
            "514:\tlearn: 0.6325524\ttotal: 16.2s\tremaining: 15.2s\n",
            "515:\tlearn: 0.6324958\ttotal: 16.2s\tremaining: 15.2s\n",
            "516:\tlearn: 0.6324111\ttotal: 16.2s\tremaining: 15.1s\n",
            "517:\tlearn: 0.6323558\ttotal: 16.2s\tremaining: 15.1s\n",
            "518:\tlearn: 0.6322861\ttotal: 16.2s\tremaining: 15s\n",
            "519:\tlearn: 0.6322274\ttotal: 16.2s\tremaining: 15s\n",
            "520:\tlearn: 0.6321894\ttotal: 16.3s\tremaining: 14.9s\n",
            "521:\tlearn: 0.6321557\ttotal: 16.3s\tremaining: 14.9s\n",
            "522:\tlearn: 0.6321070\ttotal: 16.3s\tremaining: 14.9s\n",
            "523:\tlearn: 0.6320472\ttotal: 16.3s\tremaining: 14.8s\n",
            "524:\tlearn: 0.6319798\ttotal: 16.4s\tremaining: 14.8s\n",
            "525:\tlearn: 0.6319270\ttotal: 16.4s\tremaining: 14.8s\n",
            "526:\tlearn: 0.6318795\ttotal: 16.4s\tremaining: 14.8s\n",
            "527:\tlearn: 0.6318025\ttotal: 16.5s\tremaining: 14.7s\n",
            "528:\tlearn: 0.6317415\ttotal: 16.5s\tremaining: 14.7s\n",
            "529:\tlearn: 0.6316898\ttotal: 16.5s\tremaining: 14.7s\n",
            "530:\tlearn: 0.6316071\ttotal: 16.6s\tremaining: 14.6s\n",
            "531:\tlearn: 0.6315653\ttotal: 16.6s\tremaining: 14.6s\n",
            "532:\tlearn: 0.6315231\ttotal: 16.7s\tremaining: 14.6s\n",
            "533:\tlearn: 0.6314861\ttotal: 16.7s\tremaining: 14.6s\n",
            "534:\tlearn: 0.6314334\ttotal: 16.7s\tremaining: 14.5s\n",
            "535:\tlearn: 0.6313664\ttotal: 16.7s\tremaining: 14.5s\n",
            "536:\tlearn: 0.6313189\ttotal: 16.8s\tremaining: 14.5s\n",
            "537:\tlearn: 0.6312373\ttotal: 16.8s\tremaining: 14.4s\n",
            "538:\tlearn: 0.6311937\ttotal: 16.8s\tremaining: 14.4s\n",
            "539:\tlearn: 0.6311375\ttotal: 16.8s\tremaining: 14.3s\n",
            "540:\tlearn: 0.6310849\ttotal: 16.8s\tremaining: 14.3s\n",
            "541:\tlearn: 0.6310099\ttotal: 16.8s\tremaining: 14.2s\n",
            "542:\tlearn: 0.6309709\ttotal: 16.9s\tremaining: 14.2s\n",
            "543:\tlearn: 0.6309159\ttotal: 16.9s\tremaining: 14.1s\n",
            "544:\tlearn: 0.6308173\ttotal: 16.9s\tremaining: 14.1s\n",
            "545:\tlearn: 0.6306946\ttotal: 16.9s\tremaining: 14.1s\n",
            "546:\tlearn: 0.6306469\ttotal: 16.9s\tremaining: 14s\n",
            "547:\tlearn: 0.6306007\ttotal: 16.9s\tremaining: 14s\n",
            "548:\tlearn: 0.6305390\ttotal: 17s\tremaining: 13.9s\n",
            "549:\tlearn: 0.6305036\ttotal: 17s\tremaining: 13.9s\n",
            "550:\tlearn: 0.6304571\ttotal: 17s\tremaining: 13.8s\n",
            "551:\tlearn: 0.6304025\ttotal: 17s\tremaining: 13.8s\n",
            "552:\tlearn: 0.6303521\ttotal: 17s\tremaining: 13.8s\n",
            "553:\tlearn: 0.6302893\ttotal: 17.1s\tremaining: 13.7s\n",
            "554:\tlearn: 0.6302275\ttotal: 17.1s\tremaining: 13.7s\n",
            "555:\tlearn: 0.6301741\ttotal: 17.1s\tremaining: 13.6s\n",
            "556:\tlearn: 0.6300961\ttotal: 17.1s\tremaining: 13.6s\n",
            "557:\tlearn: 0.6300435\ttotal: 17.2s\tremaining: 13.6s\n",
            "558:\tlearn: 0.6300003\ttotal: 17.2s\tremaining: 13.6s\n",
            "559:\tlearn: 0.6299663\ttotal: 17.2s\tremaining: 13.6s\n",
            "560:\tlearn: 0.6299176\ttotal: 17.3s\tremaining: 13.5s\n",
            "561:\tlearn: 0.6298515\ttotal: 17.3s\tremaining: 13.5s\n",
            "562:\tlearn: 0.6297944\ttotal: 17.3s\tremaining: 13.4s\n",
            "563:\tlearn: 0.6297552\ttotal: 17.3s\tremaining: 13.4s\n",
            "564:\tlearn: 0.6296964\ttotal: 17.4s\tremaining: 13.4s\n",
            "565:\tlearn: 0.6296432\ttotal: 17.4s\tremaining: 13.3s\n",
            "566:\tlearn: 0.6295870\ttotal: 17.4s\tremaining: 13.3s\n",
            "567:\tlearn: 0.6294890\ttotal: 17.4s\tremaining: 13.3s\n",
            "568:\tlearn: 0.6294425\ttotal: 17.5s\tremaining: 13.2s\n",
            "569:\tlearn: 0.6293941\ttotal: 17.5s\tremaining: 13.2s\n",
            "570:\tlearn: 0.6293328\ttotal: 17.5s\tremaining: 13.2s\n",
            "571:\tlearn: 0.6292909\ttotal: 17.6s\tremaining: 13.1s\n",
            "572:\tlearn: 0.6292552\ttotal: 17.6s\tremaining: 13.1s\n",
            "573:\tlearn: 0.6292136\ttotal: 17.6s\tremaining: 13.1s\n",
            "574:\tlearn: 0.6291475\ttotal: 17.7s\tremaining: 13s\n",
            "575:\tlearn: 0.6290947\ttotal: 17.7s\tremaining: 13s\n",
            "576:\tlearn: 0.6290543\ttotal: 17.7s\tremaining: 13s\n",
            "577:\tlearn: 0.6289411\ttotal: 17.7s\tremaining: 13s\n",
            "578:\tlearn: 0.6289010\ttotal: 17.8s\tremaining: 12.9s\n",
            "579:\tlearn: 0.6288283\ttotal: 17.8s\tremaining: 12.9s\n",
            "580:\tlearn: 0.6287748\ttotal: 17.8s\tremaining: 12.9s\n",
            "581:\tlearn: 0.6287152\ttotal: 17.9s\tremaining: 12.8s\n",
            "582:\tlearn: 0.6286529\ttotal: 17.9s\tremaining: 12.8s\n",
            "583:\tlearn: 0.6286123\ttotal: 17.9s\tremaining: 12.8s\n",
            "584:\tlearn: 0.6284940\ttotal: 18s\tremaining: 12.8s\n",
            "585:\tlearn: 0.6284327\ttotal: 18s\tremaining: 12.7s\n",
            "586:\tlearn: 0.6283902\ttotal: 18.1s\tremaining: 12.7s\n",
            "587:\tlearn: 0.6283338\ttotal: 18.1s\tremaining: 12.7s\n",
            "588:\tlearn: 0.6282682\ttotal: 18.2s\tremaining: 12.7s\n",
            "589:\tlearn: 0.6282248\ttotal: 18.2s\tremaining: 12.7s\n",
            "590:\tlearn: 0.6281891\ttotal: 18.3s\tremaining: 12.7s\n",
            "591:\tlearn: 0.6281445\ttotal: 18.4s\tremaining: 12.6s\n",
            "592:\tlearn: 0.6280911\ttotal: 18.4s\tremaining: 12.6s\n",
            "593:\tlearn: 0.6280238\ttotal: 18.4s\tremaining: 12.6s\n",
            "594:\tlearn: 0.6279613\ttotal: 18.5s\tremaining: 12.6s\n",
            "595:\tlearn: 0.6279178\ttotal: 18.5s\tremaining: 12.5s\n",
            "596:\tlearn: 0.6278723\ttotal: 18.5s\tremaining: 12.5s\n",
            "597:\tlearn: 0.6277900\ttotal: 18.6s\tremaining: 12.5s\n",
            "598:\tlearn: 0.6277438\ttotal: 18.6s\tremaining: 12.4s\n",
            "599:\tlearn: 0.6276604\ttotal: 18.6s\tremaining: 12.4s\n",
            "600:\tlearn: 0.6276014\ttotal: 18.7s\tremaining: 12.4s\n",
            "601:\tlearn: 0.6275454\ttotal: 18.7s\tremaining: 12.4s\n",
            "602:\tlearn: 0.6274855\ttotal: 18.7s\tremaining: 12.3s\n",
            "603:\tlearn: 0.6274337\ttotal: 18.8s\tremaining: 12.3s\n",
            "604:\tlearn: 0.6273482\ttotal: 18.8s\tremaining: 12.3s\n",
            "605:\tlearn: 0.6272938\ttotal: 18.8s\tremaining: 12.2s\n",
            "606:\tlearn: 0.6272549\ttotal: 18.9s\tremaining: 12.2s\n",
            "607:\tlearn: 0.6272101\ttotal: 18.9s\tremaining: 12.2s\n",
            "608:\tlearn: 0.6271747\ttotal: 18.9s\tremaining: 12.2s\n",
            "609:\tlearn: 0.6271364\ttotal: 18.9s\tremaining: 12.1s\n",
            "610:\tlearn: 0.6270163\ttotal: 19s\tremaining: 12.1s\n",
            "611:\tlearn: 0.6269727\ttotal: 19s\tremaining: 12.1s\n",
            "612:\tlearn: 0.6269014\ttotal: 19.1s\tremaining: 12s\n",
            "613:\tlearn: 0.6268451\ttotal: 19.1s\tremaining: 12s\n",
            "614:\tlearn: 0.6268035\ttotal: 19.1s\tremaining: 12s\n",
            "615:\tlearn: 0.6267677\ttotal: 19.1s\tremaining: 11.9s\n",
            "616:\tlearn: 0.6267261\ttotal: 19.2s\tremaining: 11.9s\n",
            "617:\tlearn: 0.6266635\ttotal: 19.2s\tremaining: 11.9s\n",
            "618:\tlearn: 0.6266246\ttotal: 19.3s\tremaining: 11.9s\n",
            "619:\tlearn: 0.6265439\ttotal: 19.3s\tremaining: 11.8s\n",
            "620:\tlearn: 0.6264761\ttotal: 19.4s\tremaining: 11.8s\n",
            "621:\tlearn: 0.6264213\ttotal: 19.4s\tremaining: 11.8s\n",
            "622:\tlearn: 0.6263742\ttotal: 19.5s\tremaining: 11.8s\n",
            "623:\tlearn: 0.6263254\ttotal: 19.5s\tremaining: 11.8s\n",
            "624:\tlearn: 0.6262548\ttotal: 19.6s\tremaining: 11.7s\n",
            "625:\tlearn: 0.6262037\ttotal: 19.6s\tremaining: 11.7s\n",
            "626:\tlearn: 0.6261563\ttotal: 19.7s\tremaining: 11.7s\n",
            "627:\tlearn: 0.6261148\ttotal: 19.8s\tremaining: 11.7s\n",
            "628:\tlearn: 0.6260715\ttotal: 19.8s\tremaining: 11.7s\n",
            "629:\tlearn: 0.6259827\ttotal: 19.8s\tremaining: 11.7s\n",
            "630:\tlearn: 0.6259193\ttotal: 19.9s\tremaining: 11.6s\n",
            "631:\tlearn: 0.6258822\ttotal: 19.9s\tremaining: 11.6s\n",
            "632:\tlearn: 0.6258282\ttotal: 20s\tremaining: 11.6s\n",
            "633:\tlearn: 0.6257794\ttotal: 20s\tremaining: 11.6s\n",
            "634:\tlearn: 0.6257551\ttotal: 20.1s\tremaining: 11.5s\n",
            "635:\tlearn: 0.6257077\ttotal: 20.1s\tremaining: 11.5s\n",
            "636:\tlearn: 0.6256244\ttotal: 20.1s\tremaining: 11.5s\n",
            "637:\tlearn: 0.6255634\ttotal: 20.2s\tremaining: 11.4s\n",
            "638:\tlearn: 0.6255193\ttotal: 20.2s\tremaining: 11.4s\n",
            "639:\tlearn: 0.6254726\ttotal: 20.2s\tremaining: 11.4s\n",
            "640:\tlearn: 0.6254265\ttotal: 20.3s\tremaining: 11.3s\n",
            "641:\tlearn: 0.6253692\ttotal: 20.3s\tremaining: 11.3s\n",
            "642:\tlearn: 0.6253112\ttotal: 20.3s\tremaining: 11.3s\n",
            "643:\tlearn: 0.6252497\ttotal: 20.3s\tremaining: 11.2s\n",
            "644:\tlearn: 0.6251708\ttotal: 20.3s\tremaining: 11.2s\n",
            "645:\tlearn: 0.6251124\ttotal: 20.4s\tremaining: 11.2s\n",
            "646:\tlearn: 0.6250138\ttotal: 20.4s\tremaining: 11.1s\n",
            "647:\tlearn: 0.6249693\ttotal: 20.4s\tremaining: 11.1s\n",
            "648:\tlearn: 0.6249316\ttotal: 20.5s\tremaining: 11.1s\n",
            "649:\tlearn: 0.6248857\ttotal: 20.5s\tremaining: 11s\n",
            "650:\tlearn: 0.6248336\ttotal: 20.5s\tremaining: 11s\n",
            "651:\tlearn: 0.6247410\ttotal: 20.6s\tremaining: 11s\n",
            "652:\tlearn: 0.6247029\ttotal: 20.6s\tremaining: 11s\n",
            "653:\tlearn: 0.6246415\ttotal: 20.7s\tremaining: 10.9s\n",
            "654:\tlearn: 0.6245669\ttotal: 20.7s\tremaining: 10.9s\n",
            "655:\tlearn: 0.6245323\ttotal: 20.8s\tremaining: 10.9s\n",
            "656:\tlearn: 0.6244805\ttotal: 20.9s\tremaining: 10.9s\n",
            "657:\tlearn: 0.6244324\ttotal: 20.9s\tremaining: 10.9s\n",
            "658:\tlearn: 0.6243994\ttotal: 21s\tremaining: 10.9s\n",
            "659:\tlearn: 0.6243416\ttotal: 21s\tremaining: 10.8s\n",
            "660:\tlearn: 0.6243014\ttotal: 21.1s\tremaining: 10.8s\n",
            "661:\tlearn: 0.6242286\ttotal: 21.1s\tremaining: 10.8s\n",
            "662:\tlearn: 0.6241760\ttotal: 21.2s\tremaining: 10.8s\n",
            "663:\tlearn: 0.6241346\ttotal: 21.2s\tremaining: 10.7s\n",
            "664:\tlearn: 0.6240804\ttotal: 21.3s\tremaining: 10.7s\n",
            "665:\tlearn: 0.6240250\ttotal: 21.3s\tremaining: 10.7s\n",
            "666:\tlearn: 0.6239484\ttotal: 21.4s\tremaining: 10.7s\n",
            "667:\tlearn: 0.6239123\ttotal: 21.4s\tremaining: 10.7s\n",
            "668:\tlearn: 0.6238625\ttotal: 21.5s\tremaining: 10.6s\n",
            "669:\tlearn: 0.6238276\ttotal: 21.6s\tremaining: 10.6s\n",
            "670:\tlearn: 0.6237949\ttotal: 21.6s\tremaining: 10.6s\n",
            "671:\tlearn: 0.6237360\ttotal: 21.6s\tremaining: 10.6s\n",
            "672:\tlearn: 0.6236906\ttotal: 21.7s\tremaining: 10.5s\n",
            "673:\tlearn: 0.6236387\ttotal: 21.8s\tremaining: 10.5s\n",
            "674:\tlearn: 0.6235923\ttotal: 21.8s\tremaining: 10.5s\n",
            "675:\tlearn: 0.6235479\ttotal: 21.8s\tremaining: 10.5s\n",
            "676:\tlearn: 0.6234970\ttotal: 21.9s\tremaining: 10.4s\n",
            "677:\tlearn: 0.6234232\ttotal: 21.9s\tremaining: 10.4s\n",
            "678:\tlearn: 0.6233741\ttotal: 22s\tremaining: 10.4s\n",
            "679:\tlearn: 0.6232885\ttotal: 22.1s\tremaining: 10.4s\n",
            "680:\tlearn: 0.6232237\ttotal: 22.1s\tremaining: 10.4s\n",
            "681:\tlearn: 0.6231504\ttotal: 22.2s\tremaining: 10.3s\n",
            "682:\tlearn: 0.6230942\ttotal: 22.2s\tremaining: 10.3s\n",
            "683:\tlearn: 0.6230315\ttotal: 22.3s\tremaining: 10.3s\n",
            "684:\tlearn: 0.6229927\ttotal: 22.3s\tremaining: 10.3s\n",
            "685:\tlearn: 0.6229468\ttotal: 22.4s\tremaining: 10.3s\n",
            "686:\tlearn: 0.6229049\ttotal: 22.5s\tremaining: 10.2s\n",
            "687:\tlearn: 0.6228551\ttotal: 22.5s\tremaining: 10.2s\n",
            "688:\tlearn: 0.6228171\ttotal: 22.6s\tremaining: 10.2s\n",
            "689:\tlearn: 0.6227534\ttotal: 22.7s\tremaining: 10.2s\n",
            "690:\tlearn: 0.6227053\ttotal: 22.7s\tremaining: 10.2s\n",
            "691:\tlearn: 0.6226763\ttotal: 22.8s\tremaining: 10.1s\n",
            "692:\tlearn: 0.6226236\ttotal: 22.8s\tremaining: 10.1s\n",
            "693:\tlearn: 0.6225376\ttotal: 22.9s\tremaining: 10.1s\n",
            "694:\tlearn: 0.6224586\ttotal: 22.9s\tremaining: 10s\n",
            "695:\tlearn: 0.6224252\ttotal: 22.9s\tremaining: 10s\n",
            "696:\tlearn: 0.6223761\ttotal: 23s\tremaining: 9.99s\n",
            "697:\tlearn: 0.6223483\ttotal: 23s\tremaining: 9.97s\n",
            "698:\tlearn: 0.6222972\ttotal: 23.1s\tremaining: 9.94s\n",
            "699:\tlearn: 0.6222468\ttotal: 23.1s\tremaining: 9.91s\n",
            "700:\tlearn: 0.6222122\ttotal: 23.2s\tremaining: 9.88s\n",
            "701:\tlearn: 0.6221695\ttotal: 23.2s\tremaining: 9.85s\n",
            "702:\tlearn: 0.6221133\ttotal: 23.2s\tremaining: 9.82s\n",
            "703:\tlearn: 0.6220712\ttotal: 23.3s\tremaining: 9.79s\n",
            "704:\tlearn: 0.6220483\ttotal: 23.4s\tremaining: 9.77s\n",
            "705:\tlearn: 0.6220150\ttotal: 23.4s\tremaining: 9.75s\n",
            "706:\tlearn: 0.6219870\ttotal: 23.4s\tremaining: 9.72s\n",
            "707:\tlearn: 0.6219335\ttotal: 23.5s\tremaining: 9.7s\n",
            "708:\tlearn: 0.6218821\ttotal: 23.6s\tremaining: 9.68s\n",
            "709:\tlearn: 0.6217857\ttotal: 23.6s\tremaining: 9.65s\n",
            "710:\tlearn: 0.6217438\ttotal: 23.7s\tremaining: 9.63s\n",
            "711:\tlearn: 0.6217182\ttotal: 23.8s\tremaining: 9.61s\n",
            "712:\tlearn: 0.6216806\ttotal: 23.8s\tremaining: 9.59s\n",
            "713:\tlearn: 0.6216151\ttotal: 23.9s\tremaining: 9.56s\n",
            "714:\tlearn: 0.6215536\ttotal: 23.9s\tremaining: 9.54s\n",
            "715:\tlearn: 0.6214877\ttotal: 24s\tremaining: 9.53s\n",
            "716:\tlearn: 0.6214364\ttotal: 24.1s\tremaining: 9.51s\n",
            "717:\tlearn: 0.6213795\ttotal: 24.1s\tremaining: 9.48s\n",
            "718:\tlearn: 0.6213278\ttotal: 24.2s\tremaining: 9.46s\n",
            "719:\tlearn: 0.6212881\ttotal: 24.2s\tremaining: 9.43s\n",
            "720:\tlearn: 0.6212340\ttotal: 24.3s\tremaining: 9.4s\n",
            "721:\tlearn: 0.6211866\ttotal: 24.3s\tremaining: 9.37s\n",
            "722:\tlearn: 0.6211434\ttotal: 24.4s\tremaining: 9.34s\n",
            "723:\tlearn: 0.6211124\ttotal: 24.4s\tremaining: 9.31s\n",
            "724:\tlearn: 0.6210462\ttotal: 24.5s\tremaining: 9.28s\n",
            "725:\tlearn: 0.6210046\ttotal: 24.5s\tremaining: 9.25s\n",
            "726:\tlearn: 0.6209405\ttotal: 24.5s\tremaining: 9.21s\n",
            "727:\tlearn: 0.6208834\ttotal: 24.6s\tremaining: 9.19s\n",
            "728:\tlearn: 0.6208217\ttotal: 24.6s\tremaining: 9.16s\n",
            "729:\tlearn: 0.6207908\ttotal: 24.7s\tremaining: 9.13s\n",
            "730:\tlearn: 0.6207610\ttotal: 24.7s\tremaining: 9.1s\n",
            "731:\tlearn: 0.6207299\ttotal: 24.8s\tremaining: 9.07s\n",
            "732:\tlearn: 0.6206958\ttotal: 24.8s\tremaining: 9.04s\n",
            "733:\tlearn: 0.6206350\ttotal: 24.9s\tremaining: 9.01s\n",
            "734:\tlearn: 0.6205892\ttotal: 24.9s\tremaining: 8.97s\n",
            "735:\tlearn: 0.6205574\ttotal: 24.9s\tremaining: 8.94s\n",
            "736:\tlearn: 0.6205020\ttotal: 25s\tremaining: 8.91s\n",
            "737:\tlearn: 0.6204636\ttotal: 25s\tremaining: 8.89s\n",
            "738:\tlearn: 0.6204344\ttotal: 25.1s\tremaining: 8.87s\n",
            "739:\tlearn: 0.6203825\ttotal: 25.1s\tremaining: 8.83s\n",
            "740:\tlearn: 0.6203456\ttotal: 25.2s\tremaining: 8.8s\n",
            "741:\tlearn: 0.6202987\ttotal: 25.2s\tremaining: 8.78s\n",
            "742:\tlearn: 0.6202213\ttotal: 25.3s\tremaining: 8.75s\n",
            "743:\tlearn: 0.6201789\ttotal: 25.3s\tremaining: 8.71s\n",
            "744:\tlearn: 0.6201342\ttotal: 25.4s\tremaining: 8.69s\n",
            "745:\tlearn: 0.6200932\ttotal: 25.4s\tremaining: 8.66s\n",
            "746:\tlearn: 0.6200342\ttotal: 25.5s\tremaining: 8.62s\n",
            "747:\tlearn: 0.6200026\ttotal: 25.5s\tremaining: 8.59s\n",
            "748:\tlearn: 0.6198929\ttotal: 25.6s\tremaining: 8.57s\n",
            "749:\tlearn: 0.6198315\ttotal: 25.6s\tremaining: 8.54s\n",
            "750:\tlearn: 0.6197774\ttotal: 25.7s\tremaining: 8.52s\n",
            "751:\tlearn: 0.6197165\ttotal: 25.7s\tremaining: 8.49s\n",
            "752:\tlearn: 0.6196606\ttotal: 25.8s\tremaining: 8.46s\n",
            "753:\tlearn: 0.6195469\ttotal: 25.9s\tremaining: 8.44s\n",
            "754:\tlearn: 0.6194822\ttotal: 25.9s\tremaining: 8.42s\n",
            "755:\tlearn: 0.6193968\ttotal: 26s\tremaining: 8.39s\n",
            "756:\tlearn: 0.6193389\ttotal: 26.1s\tremaining: 8.37s\n",
            "757:\tlearn: 0.6193080\ttotal: 26.1s\tremaining: 8.34s\n",
            "758:\tlearn: 0.6192633\ttotal: 26.2s\tremaining: 8.32s\n",
            "759:\tlearn: 0.6192299\ttotal: 26.3s\tremaining: 8.29s\n",
            "760:\tlearn: 0.6191730\ttotal: 26.3s\tremaining: 8.27s\n",
            "761:\tlearn: 0.6191189\ttotal: 26.4s\tremaining: 8.25s\n",
            "762:\tlearn: 0.6190752\ttotal: 26.5s\tremaining: 8.22s\n",
            "763:\tlearn: 0.6190340\ttotal: 26.5s\tremaining: 8.19s\n",
            "764:\tlearn: 0.6189883\ttotal: 26.6s\tremaining: 8.16s\n",
            "765:\tlearn: 0.6189492\ttotal: 26.6s\tremaining: 8.14s\n",
            "766:\tlearn: 0.6188802\ttotal: 26.7s\tremaining: 8.11s\n",
            "767:\tlearn: 0.6188461\ttotal: 26.8s\tremaining: 8.08s\n",
            "768:\tlearn: 0.6187776\ttotal: 26.8s\tremaining: 8.05s\n",
            "769:\tlearn: 0.6187300\ttotal: 26.8s\tremaining: 8.02s\n",
            "770:\tlearn: 0.6186730\ttotal: 26.9s\tremaining: 7.99s\n",
            "771:\tlearn: 0.6186275\ttotal: 27s\tremaining: 7.96s\n",
            "772:\tlearn: 0.6185641\ttotal: 27.1s\tremaining: 7.95s\n",
            "773:\tlearn: 0.6184974\ttotal: 27.1s\tremaining: 7.91s\n",
            "774:\tlearn: 0.6184144\ttotal: 27.1s\tremaining: 7.88s\n",
            "775:\tlearn: 0.6183588\ttotal: 27.1s\tremaining: 7.83s\n",
            "776:\tlearn: 0.6183150\ttotal: 27.2s\tremaining: 7.79s\n",
            "777:\tlearn: 0.6182799\ttotal: 27.2s\tremaining: 7.75s\n",
            "778:\tlearn: 0.6182479\ttotal: 27.2s\tremaining: 7.72s\n",
            "779:\tlearn: 0.6181985\ttotal: 27.2s\tremaining: 7.68s\n",
            "780:\tlearn: 0.6181467\ttotal: 27.3s\tremaining: 7.64s\n",
            "781:\tlearn: 0.6181070\ttotal: 27.3s\tremaining: 7.6s\n",
            "782:\tlearn: 0.6180809\ttotal: 27.3s\tremaining: 7.57s\n",
            "783:\tlearn: 0.6180525\ttotal: 27.3s\tremaining: 7.52s\n",
            "784:\tlearn: 0.6180205\ttotal: 27.3s\tremaining: 7.48s\n",
            "785:\tlearn: 0.6179576\ttotal: 27.3s\tremaining: 7.44s\n",
            "786:\tlearn: 0.6179258\ttotal: 27.4s\tremaining: 7.41s\n",
            "787:\tlearn: 0.6178583\ttotal: 27.4s\tremaining: 7.37s\n",
            "788:\tlearn: 0.6178185\ttotal: 27.4s\tremaining: 7.34s\n",
            "789:\tlearn: 0.6177775\ttotal: 27.5s\tremaining: 7.3s\n",
            "790:\tlearn: 0.6177479\ttotal: 27.5s\tremaining: 7.26s\n",
            "791:\tlearn: 0.6176629\ttotal: 27.5s\tremaining: 7.23s\n",
            "792:\tlearn: 0.6176363\ttotal: 27.6s\tremaining: 7.19s\n",
            "793:\tlearn: 0.6175795\ttotal: 27.6s\tremaining: 7.16s\n",
            "794:\tlearn: 0.6175365\ttotal: 27.6s\tremaining: 7.12s\n",
            "795:\tlearn: 0.6175053\ttotal: 27.7s\tremaining: 7.09s\n",
            "796:\tlearn: 0.6174487\ttotal: 27.7s\tremaining: 7.05s\n",
            "797:\tlearn: 0.6173969\ttotal: 27.7s\tremaining: 7.02s\n",
            "798:\tlearn: 0.6173489\ttotal: 27.8s\tremaining: 6.98s\n",
            "799:\tlearn: 0.6173031\ttotal: 27.8s\tremaining: 6.95s\n",
            "800:\tlearn: 0.6172598\ttotal: 27.8s\tremaining: 6.91s\n",
            "801:\tlearn: 0.6172125\ttotal: 27.9s\tremaining: 6.88s\n",
            "802:\tlearn: 0.6171554\ttotal: 27.9s\tremaining: 6.85s\n",
            "803:\tlearn: 0.6171176\ttotal: 28s\tremaining: 6.82s\n",
            "804:\tlearn: 0.6170624\ttotal: 28s\tremaining: 6.79s\n",
            "805:\tlearn: 0.6170184\ttotal: 28.1s\tremaining: 6.75s\n",
            "806:\tlearn: 0.6169547\ttotal: 28.1s\tremaining: 6.72s\n",
            "807:\tlearn: 0.6168454\ttotal: 28.1s\tremaining: 6.68s\n",
            "808:\tlearn: 0.6168089\ttotal: 28.1s\tremaining: 6.64s\n",
            "809:\tlearn: 0.6167613\ttotal: 28.2s\tremaining: 6.61s\n",
            "810:\tlearn: 0.6166977\ttotal: 28.2s\tremaining: 6.57s\n",
            "811:\tlearn: 0.6165995\ttotal: 28.2s\tremaining: 6.53s\n",
            "812:\tlearn: 0.6165563\ttotal: 28.3s\tremaining: 6.5s\n",
            "813:\tlearn: 0.6165157\ttotal: 28.3s\tremaining: 6.46s\n",
            "814:\tlearn: 0.6164636\ttotal: 28.3s\tremaining: 6.43s\n",
            "815:\tlearn: 0.6164360\ttotal: 28.3s\tremaining: 6.39s\n",
            "816:\tlearn: 0.6164040\ttotal: 28.4s\tremaining: 6.35s\n",
            "817:\tlearn: 0.6163687\ttotal: 28.4s\tremaining: 6.32s\n",
            "818:\tlearn: 0.6163298\ttotal: 28.4s\tremaining: 6.29s\n",
            "819:\tlearn: 0.6163036\ttotal: 28.5s\tremaining: 6.25s\n",
            "820:\tlearn: 0.6162557\ttotal: 28.5s\tremaining: 6.21s\n",
            "821:\tlearn: 0.6162021\ttotal: 28.5s\tremaining: 6.18s\n",
            "822:\tlearn: 0.6161452\ttotal: 28.6s\tremaining: 6.14s\n",
            "823:\tlearn: 0.6161000\ttotal: 28.6s\tremaining: 6.11s\n",
            "824:\tlearn: 0.6160559\ttotal: 28.6s\tremaining: 6.07s\n",
            "825:\tlearn: 0.6160192\ttotal: 28.7s\tremaining: 6.04s\n",
            "826:\tlearn: 0.6159786\ttotal: 28.7s\tremaining: 6s\n",
            "827:\tlearn: 0.6159483\ttotal: 28.7s\tremaining: 5.96s\n",
            "828:\tlearn: 0.6159050\ttotal: 28.7s\tremaining: 5.92s\n",
            "829:\tlearn: 0.6158649\ttotal: 28.7s\tremaining: 5.88s\n",
            "830:\tlearn: 0.6157986\ttotal: 28.7s\tremaining: 5.84s\n",
            "831:\tlearn: 0.6157695\ttotal: 28.7s\tremaining: 5.8s\n",
            "832:\tlearn: 0.6157393\ttotal: 28.7s\tremaining: 5.76s\n",
            "833:\tlearn: 0.6156991\ttotal: 28.8s\tremaining: 5.72s\n",
            "834:\tlearn: 0.6156079\ttotal: 28.8s\tremaining: 5.69s\n",
            "835:\tlearn: 0.6155813\ttotal: 28.8s\tremaining: 5.65s\n",
            "836:\tlearn: 0.6155486\ttotal: 28.8s\tremaining: 5.61s\n",
            "837:\tlearn: 0.6154942\ttotal: 28.8s\tremaining: 5.57s\n",
            "838:\tlearn: 0.6154500\ttotal: 28.8s\tremaining: 5.53s\n",
            "839:\tlearn: 0.6153984\ttotal: 28.9s\tremaining: 5.5s\n",
            "840:\tlearn: 0.6153472\ttotal: 28.9s\tremaining: 5.46s\n",
            "841:\tlearn: 0.6153162\ttotal: 28.9s\tremaining: 5.42s\n",
            "842:\tlearn: 0.6152712\ttotal: 28.9s\tremaining: 5.38s\n",
            "843:\tlearn: 0.6152404\ttotal: 28.9s\tremaining: 5.34s\n",
            "844:\tlearn: 0.6151885\ttotal: 28.9s\tremaining: 5.31s\n",
            "845:\tlearn: 0.6151486\ttotal: 29s\tremaining: 5.27s\n",
            "846:\tlearn: 0.6151015\ttotal: 29s\tremaining: 5.23s\n",
            "847:\tlearn: 0.6150509\ttotal: 29s\tremaining: 5.19s\n",
            "848:\tlearn: 0.6150112\ttotal: 29s\tremaining: 5.16s\n",
            "849:\tlearn: 0.6149721\ttotal: 29s\tremaining: 5.12s\n",
            "850:\tlearn: 0.6149552\ttotal: 29s\tremaining: 5.08s\n",
            "851:\tlearn: 0.6149065\ttotal: 29s\tremaining: 5.04s\n",
            "852:\tlearn: 0.6148727\ttotal: 29.1s\tremaining: 5.01s\n",
            "853:\tlearn: 0.6148385\ttotal: 29.1s\tremaining: 4.97s\n",
            "854:\tlearn: 0.6147849\ttotal: 29.1s\tremaining: 4.93s\n",
            "855:\tlearn: 0.6147439\ttotal: 29.1s\tremaining: 4.9s\n",
            "856:\tlearn: 0.6147058\ttotal: 29.2s\tremaining: 4.87s\n",
            "857:\tlearn: 0.6146637\ttotal: 29.3s\tremaining: 4.84s\n",
            "858:\tlearn: 0.6146098\ttotal: 29.3s\tremaining: 4.81s\n",
            "859:\tlearn: 0.6145564\ttotal: 29.4s\tremaining: 4.78s\n",
            "860:\tlearn: 0.6145144\ttotal: 29.4s\tremaining: 4.74s\n",
            "861:\tlearn: 0.6144736\ttotal: 29.4s\tremaining: 4.71s\n",
            "862:\tlearn: 0.6144353\ttotal: 29.5s\tremaining: 4.68s\n",
            "863:\tlearn: 0.6143847\ttotal: 29.5s\tremaining: 4.65s\n",
            "864:\tlearn: 0.6143173\ttotal: 29.6s\tremaining: 4.62s\n",
            "865:\tlearn: 0.6142760\ttotal: 29.6s\tremaining: 4.58s\n",
            "866:\tlearn: 0.6142356\ttotal: 29.7s\tremaining: 4.55s\n",
            "867:\tlearn: 0.6141532\ttotal: 29.7s\tremaining: 4.52s\n",
            "868:\tlearn: 0.6140977\ttotal: 29.7s\tremaining: 4.48s\n",
            "869:\tlearn: 0.6140659\ttotal: 29.7s\tremaining: 4.44s\n",
            "870:\tlearn: 0.6139721\ttotal: 29.7s\tremaining: 4.41s\n",
            "871:\tlearn: 0.6139412\ttotal: 29.8s\tremaining: 4.37s\n",
            "872:\tlearn: 0.6139015\ttotal: 29.8s\tremaining: 4.34s\n",
            "873:\tlearn: 0.6138519\ttotal: 29.8s\tremaining: 4.3s\n",
            "874:\tlearn: 0.6138046\ttotal: 29.8s\tremaining: 4.26s\n",
            "875:\tlearn: 0.6137738\ttotal: 29.8s\tremaining: 4.22s\n",
            "876:\tlearn: 0.6137205\ttotal: 29.9s\tremaining: 4.19s\n",
            "877:\tlearn: 0.6136723\ttotal: 29.9s\tremaining: 4.16s\n",
            "878:\tlearn: 0.6136390\ttotal: 29.9s\tremaining: 4.12s\n",
            "879:\tlearn: 0.6135919\ttotal: 30s\tremaining: 4.09s\n",
            "880:\tlearn: 0.6135559\ttotal: 30s\tremaining: 4.05s\n",
            "881:\tlearn: 0.6135325\ttotal: 30.1s\tremaining: 4.02s\n",
            "882:\tlearn: 0.6134823\ttotal: 30.1s\tremaining: 3.99s\n",
            "883:\tlearn: 0.6134318\ttotal: 30.1s\tremaining: 3.95s\n",
            "884:\tlearn: 0.6133936\ttotal: 30.1s\tremaining: 3.92s\n",
            "885:\tlearn: 0.6132807\ttotal: 30.2s\tremaining: 3.88s\n",
            "886:\tlearn: 0.6132252\ttotal: 30.2s\tremaining: 3.85s\n",
            "887:\tlearn: 0.6131751\ttotal: 30.2s\tremaining: 3.81s\n",
            "888:\tlearn: 0.6131355\ttotal: 30.3s\tremaining: 3.78s\n",
            "889:\tlearn: 0.6131061\ttotal: 30.4s\tremaining: 3.75s\n",
            "890:\tlearn: 0.6130219\ttotal: 30.4s\tremaining: 3.72s\n",
            "891:\tlearn: 0.6129898\ttotal: 30.4s\tremaining: 3.69s\n",
            "892:\tlearn: 0.6128926\ttotal: 30.5s\tremaining: 3.65s\n",
            "893:\tlearn: 0.6128642\ttotal: 30.5s\tremaining: 3.62s\n",
            "894:\tlearn: 0.6128228\ttotal: 30.5s\tremaining: 3.58s\n",
            "895:\tlearn: 0.6127445\ttotal: 30.6s\tremaining: 3.55s\n",
            "896:\tlearn: 0.6127048\ttotal: 30.6s\tremaining: 3.52s\n",
            "897:\tlearn: 0.6126387\ttotal: 30.7s\tremaining: 3.48s\n",
            "898:\tlearn: 0.6125996\ttotal: 30.7s\tremaining: 3.45s\n",
            "899:\tlearn: 0.6125670\ttotal: 30.7s\tremaining: 3.41s\n",
            "900:\tlearn: 0.6125197\ttotal: 30.7s\tremaining: 3.38s\n",
            "901:\tlearn: 0.6124814\ttotal: 30.7s\tremaining: 3.34s\n",
            "902:\tlearn: 0.6124423\ttotal: 30.8s\tremaining: 3.31s\n",
            "903:\tlearn: 0.6123783\ttotal: 30.8s\tremaining: 3.27s\n",
            "904:\tlearn: 0.6123435\ttotal: 30.9s\tremaining: 3.24s\n",
            "905:\tlearn: 0.6122992\ttotal: 30.9s\tremaining: 3.21s\n",
            "906:\tlearn: 0.6122383\ttotal: 31s\tremaining: 3.17s\n",
            "907:\tlearn: 0.6121843\ttotal: 31s\tremaining: 3.14s\n",
            "908:\tlearn: 0.6121290\ttotal: 31s\tremaining: 3.1s\n",
            "909:\tlearn: 0.6120908\ttotal: 31s\tremaining: 3.07s\n",
            "910:\tlearn: 0.6120432\ttotal: 31.1s\tremaining: 3.04s\n",
            "911:\tlearn: 0.6120010\ttotal: 31.1s\tremaining: 3s\n",
            "912:\tlearn: 0.6119369\ttotal: 31.2s\tremaining: 2.97s\n",
            "913:\tlearn: 0.6118990\ttotal: 31.2s\tremaining: 2.94s\n",
            "914:\tlearn: 0.6118438\ttotal: 31.2s\tremaining: 2.9s\n",
            "915:\tlearn: 0.6117978\ttotal: 31.3s\tremaining: 2.87s\n",
            "916:\tlearn: 0.6117643\ttotal: 31.3s\tremaining: 2.83s\n",
            "917:\tlearn: 0.6117184\ttotal: 31.4s\tremaining: 2.8s\n",
            "918:\tlearn: 0.6116962\ttotal: 31.4s\tremaining: 2.77s\n",
            "919:\tlearn: 0.6116460\ttotal: 31.5s\tremaining: 2.74s\n",
            "920:\tlearn: 0.6115860\ttotal: 31.5s\tremaining: 2.7s\n",
            "921:\tlearn: 0.6115381\ttotal: 31.5s\tremaining: 2.67s\n",
            "922:\tlearn: 0.6114517\ttotal: 31.6s\tremaining: 2.64s\n",
            "923:\tlearn: 0.6114077\ttotal: 31.6s\tremaining: 2.6s\n",
            "924:\tlearn: 0.6113537\ttotal: 31.7s\tremaining: 2.57s\n",
            "925:\tlearn: 0.6113163\ttotal: 31.7s\tremaining: 2.53s\n",
            "926:\tlearn: 0.6112714\ttotal: 31.7s\tremaining: 2.5s\n",
            "927:\tlearn: 0.6112406\ttotal: 31.7s\tremaining: 2.46s\n",
            "928:\tlearn: 0.6112021\ttotal: 31.7s\tremaining: 2.42s\n",
            "929:\tlearn: 0.6111436\ttotal: 31.7s\tremaining: 2.39s\n",
            "930:\tlearn: 0.6111090\ttotal: 31.8s\tremaining: 2.35s\n",
            "931:\tlearn: 0.6110501\ttotal: 31.8s\tremaining: 2.32s\n",
            "932:\tlearn: 0.6110014\ttotal: 31.8s\tremaining: 2.28s\n",
            "933:\tlearn: 0.6109650\ttotal: 31.8s\tremaining: 2.25s\n",
            "934:\tlearn: 0.6108696\ttotal: 31.8s\tremaining: 2.21s\n",
            "935:\tlearn: 0.6108330\ttotal: 31.8s\tremaining: 2.17s\n",
            "936:\tlearn: 0.6107835\ttotal: 31.8s\tremaining: 2.14s\n",
            "937:\tlearn: 0.6107354\ttotal: 31.8s\tremaining: 2.1s\n",
            "938:\tlearn: 0.6106726\ttotal: 31.8s\tremaining: 2.07s\n",
            "939:\tlearn: 0.6106457\ttotal: 31.9s\tremaining: 2.03s\n",
            "940:\tlearn: 0.6105854\ttotal: 31.9s\tremaining: 2s\n",
            "941:\tlearn: 0.6105507\ttotal: 31.9s\tremaining: 1.96s\n",
            "942:\tlearn: 0.6104531\ttotal: 31.9s\tremaining: 1.93s\n",
            "943:\tlearn: 0.6104069\ttotal: 31.9s\tremaining: 1.89s\n",
            "944:\tlearn: 0.6103721\ttotal: 31.9s\tremaining: 1.86s\n",
            "945:\tlearn: 0.6103357\ttotal: 31.9s\tremaining: 1.82s\n",
            "946:\tlearn: 0.6103051\ttotal: 31.9s\tremaining: 1.79s\n",
            "947:\tlearn: 0.6102572\ttotal: 32s\tremaining: 1.75s\n",
            "948:\tlearn: 0.6102399\ttotal: 32s\tremaining: 1.72s\n",
            "949:\tlearn: 0.6101974\ttotal: 32s\tremaining: 1.68s\n",
            "950:\tlearn: 0.6101618\ttotal: 32s\tremaining: 1.65s\n",
            "951:\tlearn: 0.6101174\ttotal: 32s\tremaining: 1.61s\n",
            "952:\tlearn: 0.6100678\ttotal: 32s\tremaining: 1.58s\n",
            "953:\tlearn: 0.6100276\ttotal: 32s\tremaining: 1.54s\n",
            "954:\tlearn: 0.6100067\ttotal: 32s\tremaining: 1.51s\n",
            "955:\tlearn: 0.6099955\ttotal: 32.1s\tremaining: 1.48s\n",
            "956:\tlearn: 0.6099322\ttotal: 32.1s\tremaining: 1.44s\n",
            "957:\tlearn: 0.6098988\ttotal: 32.1s\tremaining: 1.41s\n",
            "958:\tlearn: 0.6098654\ttotal: 32.1s\tremaining: 1.37s\n",
            "959:\tlearn: 0.6098069\ttotal: 32.1s\tremaining: 1.34s\n",
            "960:\tlearn: 0.6097254\ttotal: 32.1s\tremaining: 1.3s\n",
            "961:\tlearn: 0.6097084\ttotal: 32.1s\tremaining: 1.27s\n",
            "962:\tlearn: 0.6096246\ttotal: 32.1s\tremaining: 1.23s\n",
            "963:\tlearn: 0.6095927\ttotal: 32.1s\tremaining: 1.2s\n",
            "964:\tlearn: 0.6095550\ttotal: 32.2s\tremaining: 1.17s\n",
            "965:\tlearn: 0.6095183\ttotal: 32.2s\tremaining: 1.13s\n",
            "966:\tlearn: 0.6094794\ttotal: 32.2s\tremaining: 1.1s\n",
            "967:\tlearn: 0.6094434\ttotal: 32.2s\tremaining: 1.06s\n",
            "968:\tlearn: 0.6093943\ttotal: 32.2s\tremaining: 1.03s\n",
            "969:\tlearn: 0.6093591\ttotal: 32.2s\tremaining: 996ms\n",
            "970:\tlearn: 0.6093297\ttotal: 32.2s\tremaining: 962ms\n",
            "971:\tlearn: 0.6092835\ttotal: 32.2s\tremaining: 929ms\n",
            "972:\tlearn: 0.6092487\ttotal: 32.2s\tremaining: 895ms\n",
            "973:\tlearn: 0.6092267\ttotal: 32.3s\tremaining: 861ms\n",
            "974:\tlearn: 0.6091786\ttotal: 32.3s\tremaining: 828ms\n",
            "975:\tlearn: 0.6091316\ttotal: 32.3s\tremaining: 794ms\n",
            "976:\tlearn: 0.6090874\ttotal: 32.3s\tremaining: 760ms\n",
            "977:\tlearn: 0.6090534\ttotal: 32.3s\tremaining: 727ms\n",
            "978:\tlearn: 0.6090106\ttotal: 32.3s\tremaining: 693ms\n",
            "979:\tlearn: 0.6089385\ttotal: 32.3s\tremaining: 660ms\n",
            "980:\tlearn: 0.6088826\ttotal: 32.4s\tremaining: 627ms\n",
            "981:\tlearn: 0.6088471\ttotal: 32.4s\tremaining: 593ms\n",
            "982:\tlearn: 0.6087967\ttotal: 32.4s\tremaining: 560ms\n",
            "983:\tlearn: 0.6087637\ttotal: 32.4s\tremaining: 527ms\n",
            "984:\tlearn: 0.6087233\ttotal: 32.4s\tremaining: 493ms\n",
            "985:\tlearn: 0.6086501\ttotal: 32.4s\tremaining: 460ms\n",
            "986:\tlearn: 0.6085942\ttotal: 32.4s\tremaining: 427ms\n",
            "987:\tlearn: 0.6085408\ttotal: 32.4s\tremaining: 394ms\n",
            "988:\tlearn: 0.6085046\ttotal: 32.4s\tremaining: 361ms\n",
            "989:\tlearn: 0.6084557\ttotal: 32.4s\tremaining: 328ms\n",
            "990:\tlearn: 0.6084215\ttotal: 32.5s\tremaining: 295ms\n",
            "991:\tlearn: 0.6083800\ttotal: 32.5s\tremaining: 262ms\n",
            "992:\tlearn: 0.6083409\ttotal: 32.5s\tremaining: 229ms\n",
            "993:\tlearn: 0.6082984\ttotal: 32.5s\tremaining: 196ms\n",
            "994:\tlearn: 0.6082664\ttotal: 32.5s\tremaining: 163ms\n",
            "995:\tlearn: 0.6082286\ttotal: 32.5s\tremaining: 131ms\n",
            "996:\tlearn: 0.6081956\ttotal: 32.5s\tremaining: 97.9ms\n",
            "997:\tlearn: 0.6081569\ttotal: 32.5s\tremaining: 65.2ms\n",
            "998:\tlearn: 0.6081146\ttotal: 32.6s\tremaining: 32.6ms\n",
            "999:\tlearn: 0.6080896\ttotal: 32.6s\tremaining: 0us\n"
          ]
        },
        {
          "output_type": "execute_result",
          "data": {
            "text/plain": [
              "<catboost.core.CatBoostClassifier at 0x7dddd010d480>"
            ]
          },
          "metadata": {},
          "execution_count": 122
        }
      ],
      "source": [
        "cb = CatBoostClassifier()\n",
        "\n",
        "# Обучение модели\n",
        "cb.fit(X_train, y_train)"
      ]
    },
    {
      "cell_type": "code",
      "execution_count": 123,
      "metadata": {
        "id": "FLSTkTCuPQ4M"
      },
      "outputs": [],
      "source": [
        "pred = cb.predict(X_test)"
      ]
    },
    {
      "cell_type": "code",
      "execution_count": 124,
      "metadata": {
        "colab": {
          "base_uri": "https://localhost:8080/"
        },
        "id": "E4Z2PaytPULq",
        "outputId": "ba663d3f-e932-497f-e19a-1ebb8517274a"
      },
      "outputs": [
        {
          "output_type": "stream",
          "name": "stdout",
          "text": [
            "precision_score =  0.0122\n",
            "recall_score =  0.5248\n",
            "f1_score =  0.0233\n",
            "accuracy =  0.6671\n"
          ]
        }
      ],
      "source": [
        "\n",
        "print('precision_score = {:7.4f}'.format(metrics.precision_score(y_test, pred)))\n",
        "print('recall_score = {:7.4f}'.format(metrics.recall_score(y_test, pred)))\n",
        "print('f1_score = {:7.4f}'.format(metrics.f1_score(y_test, preds)))\n",
        "print('accuracy = {:7.4f}'.format(metrics.accuracy_score(y_test, pred)))"
      ]
    },
    {
      "cell_type": "markdown",
      "metadata": {
        "id": "7qJGRn8izTwl"
      },
      "source": [
        "precision_score =  0.0117\n",
        "\n",
        "recall_score =  0.4314\n",
        "\n",
        "f1_score =  0.0228\n",
        "\n",
        "accuracy =  0.6941"
      ]
    },
    {
      "cell_type": "markdown",
      "metadata": {
        "id": "lm852Fa2EVve"
      },
      "source": [
        "# Коллаборативная фильтрация"
      ]
    },
    {
      "cell_type": "markdown",
      "metadata": {
        "id": "ieWi4tEVEVve"
      },
      "source": [
        "###  список всех идентификаторов клиентов."
      ]
    },
    {
      "cell_type": "code",
      "execution_count": 125,
      "metadata": {
        "colab": {
          "base_uri": "https://localhost:8080/"
        },
        "id": "jqcanluHEVve",
        "outputId": "21f8a0cd-7c59-48a8-db23-49cafd64d3c7"
      },
      "outputs": [
        {
          "output_type": "execute_result",
          "data": {
            "text/plain": [
              "1407580"
            ]
          },
          "metadata": {},
          "execution_count": 125
        }
      ],
      "source": [
        "all_visitors = data.visitorid.sort_values().unique()\n",
        "all_visitors.size"
      ]
    },
    {
      "cell_type": "markdown",
      "metadata": {
        "id": "wUfEeuugEVve"
      },
      "source": [
        "###  список клиентов, которые что-то купили."
      ]
    },
    {
      "cell_type": "code",
      "execution_count": 126,
      "metadata": {
        "colab": {
          "base_uri": "https://localhost:8080/"
        },
        "id": "TxJmgdxoEVve",
        "outputId": "23ac20af-71c0-4de6-a101-9b85ed8ea25b"
      },
      "outputs": [
        {
          "output_type": "execute_result",
          "data": {
            "text/plain": [
              "11719"
            ]
          },
          "metadata": {},
          "execution_count": 126
        }
      ],
      "source": [
        "buy_visitors = data[data.event == 'transaction'].visitorid.sort_values().unique()\n",
        "buy_visitors.size"
      ]
    },
    {
      "cell_type": "code",
      "execution_count": 127,
      "metadata": {
        "id": "ZjYGwshVEVve"
      },
      "outputs": [],
      "source": [
        "view_visitors = list([x for x in all_visitors if x not in buy_visitors])"
      ]
    },
    {
      "cell_type": "code",
      "execution_count": 128,
      "metadata": {
        "id": "hxdAI342EVve"
      },
      "outputs": [],
      "source": [
        "buy_visitors_df = create_dataframe(buy_visitors)"
      ]
    },
    {
      "cell_type": "code",
      "execution_count": 129,
      "metadata": {
        "colab": {
          "base_uri": "https://localhost:8080/",
          "height": 143
        },
        "id": "2UJFM3VwEVve",
        "outputId": "0eb723b1-c134-470c-e12f-1ea8e7158976"
      },
      "outputs": [
        {
          "output_type": "execute_result",
          "data": {
            "text/plain": [
              "   visitorid  num_uniq_items_viewed  num_views_total  bought_count  purchased\n",
              "0        172                     22               33             2          1\n",
              "1        186                      1                2             1          1\n",
              "2        264                      2                3             2          1"
            ],
            "text/html": [
              "\n",
              "  <div id=\"df-4ca49285-5af3-4cbe-b415-4c7aa9080c54\" class=\"colab-df-container\">\n",
              "    <div>\n",
              "<style scoped>\n",
              "    .dataframe tbody tr th:only-of-type {\n",
              "        vertical-align: middle;\n",
              "    }\n",
              "\n",
              "    .dataframe tbody tr th {\n",
              "        vertical-align: top;\n",
              "    }\n",
              "\n",
              "    .dataframe thead th {\n",
              "        text-align: right;\n",
              "    }\n",
              "</style>\n",
              "<table border=\"1\" class=\"dataframe\">\n",
              "  <thead>\n",
              "    <tr style=\"text-align: right;\">\n",
              "      <th></th>\n",
              "      <th>visitorid</th>\n",
              "      <th>num_uniq_items_viewed</th>\n",
              "      <th>num_views_total</th>\n",
              "      <th>bought_count</th>\n",
              "      <th>purchased</th>\n",
              "    </tr>\n",
              "  </thead>\n",
              "  <tbody>\n",
              "    <tr>\n",
              "      <th>0</th>\n",
              "      <td>172</td>\n",
              "      <td>22</td>\n",
              "      <td>33</td>\n",
              "      <td>2</td>\n",
              "      <td>1</td>\n",
              "    </tr>\n",
              "    <tr>\n",
              "      <th>1</th>\n",
              "      <td>186</td>\n",
              "      <td>1</td>\n",
              "      <td>2</td>\n",
              "      <td>1</td>\n",
              "      <td>1</td>\n",
              "    </tr>\n",
              "    <tr>\n",
              "      <th>2</th>\n",
              "      <td>264</td>\n",
              "      <td>2</td>\n",
              "      <td>3</td>\n",
              "      <td>2</td>\n",
              "      <td>1</td>\n",
              "    </tr>\n",
              "  </tbody>\n",
              "</table>\n",
              "</div>\n",
              "    <div class=\"colab-df-buttons\">\n",
              "\n",
              "  <div class=\"colab-df-container\">\n",
              "    <button class=\"colab-df-convert\" onclick=\"convertToInteractive('df-4ca49285-5af3-4cbe-b415-4c7aa9080c54')\"\n",
              "            title=\"Convert this dataframe to an interactive table.\"\n",
              "            style=\"display:none;\">\n",
              "\n",
              "  <svg xmlns=\"http://www.w3.org/2000/svg\" height=\"24px\" viewBox=\"0 -960 960 960\">\n",
              "    <path d=\"M120-120v-720h720v720H120Zm60-500h600v-160H180v160Zm220 220h160v-160H400v160Zm0 220h160v-160H400v160ZM180-400h160v-160H180v160Zm440 0h160v-160H620v160ZM180-180h160v-160H180v160Zm440 0h160v-160H620v160Z\"/>\n",
              "  </svg>\n",
              "    </button>\n",
              "\n",
              "  <style>\n",
              "    .colab-df-container {\n",
              "      display:flex;\n",
              "      gap: 12px;\n",
              "    }\n",
              "\n",
              "    .colab-df-convert {\n",
              "      background-color: #E8F0FE;\n",
              "      border: none;\n",
              "      border-radius: 50%;\n",
              "      cursor: pointer;\n",
              "      display: none;\n",
              "      fill: #1967D2;\n",
              "      height: 32px;\n",
              "      padding: 0 0 0 0;\n",
              "      width: 32px;\n",
              "    }\n",
              "\n",
              "    .colab-df-convert:hover {\n",
              "      background-color: #E2EBFA;\n",
              "      box-shadow: 0px 1px 2px rgba(60, 64, 67, 0.3), 0px 1px 3px 1px rgba(60, 64, 67, 0.15);\n",
              "      fill: #174EA6;\n",
              "    }\n",
              "\n",
              "    .colab-df-buttons div {\n",
              "      margin-bottom: 4px;\n",
              "    }\n",
              "\n",
              "    [theme=dark] .colab-df-convert {\n",
              "      background-color: #3B4455;\n",
              "      fill: #D2E3FC;\n",
              "    }\n",
              "\n",
              "    [theme=dark] .colab-df-convert:hover {\n",
              "      background-color: #434B5C;\n",
              "      box-shadow: 0px 1px 3px 1px rgba(0, 0, 0, 0.15);\n",
              "      filter: drop-shadow(0px 1px 2px rgba(0, 0, 0, 0.3));\n",
              "      fill: #FFFFFF;\n",
              "    }\n",
              "  </style>\n",
              "\n",
              "    <script>\n",
              "      const buttonEl =\n",
              "        document.querySelector('#df-4ca49285-5af3-4cbe-b415-4c7aa9080c54 button.colab-df-convert');\n",
              "      buttonEl.style.display =\n",
              "        google.colab.kernel.accessAllowed ? 'block' : 'none';\n",
              "\n",
              "      async function convertToInteractive(key) {\n",
              "        const element = document.querySelector('#df-4ca49285-5af3-4cbe-b415-4c7aa9080c54');\n",
              "        const dataTable =\n",
              "          await google.colab.kernel.invokeFunction('convertToInteractive',\n",
              "                                                    [key], {});\n",
              "        if (!dataTable) return;\n",
              "\n",
              "        const docLinkHtml = 'Like what you see? Visit the ' +\n",
              "          '<a target=\"_blank\" href=https://colab.research.google.com/notebooks/data_table.ipynb>data table notebook</a>'\n",
              "          + ' to learn more about interactive tables.';\n",
              "        element.innerHTML = '';\n",
              "        dataTable['output_type'] = 'display_data';\n",
              "        await google.colab.output.renderOutput(dataTable, element);\n",
              "        const docLink = document.createElement('div');\n",
              "        docLink.innerHTML = docLinkHtml;\n",
              "        element.appendChild(docLink);\n",
              "      }\n",
              "    </script>\n",
              "  </div>\n",
              "\n",
              "\n",
              "<div id=\"df-ae4930f1-e8e3-4c6b-a1ca-14fb9a936eba\">\n",
              "  <button class=\"colab-df-quickchart\" onclick=\"quickchart('df-ae4930f1-e8e3-4c6b-a1ca-14fb9a936eba')\"\n",
              "            title=\"Suggest charts\"\n",
              "            style=\"display:none;\">\n",
              "\n",
              "<svg xmlns=\"http://www.w3.org/2000/svg\" height=\"24px\"viewBox=\"0 0 24 24\"\n",
              "     width=\"24px\">\n",
              "    <g>\n",
              "        <path d=\"M19 3H5c-1.1 0-2 .9-2 2v14c0 1.1.9 2 2 2h14c1.1 0 2-.9 2-2V5c0-1.1-.9-2-2-2zM9 17H7v-7h2v7zm4 0h-2V7h2v10zm4 0h-2v-4h2v4z\"/>\n",
              "    </g>\n",
              "</svg>\n",
              "  </button>\n",
              "\n",
              "<style>\n",
              "  .colab-df-quickchart {\n",
              "      --bg-color: #E8F0FE;\n",
              "      --fill-color: #1967D2;\n",
              "      --hover-bg-color: #E2EBFA;\n",
              "      --hover-fill-color: #174EA6;\n",
              "      --disabled-fill-color: #AAA;\n",
              "      --disabled-bg-color: #DDD;\n",
              "  }\n",
              "\n",
              "  [theme=dark] .colab-df-quickchart {\n",
              "      --bg-color: #3B4455;\n",
              "      --fill-color: #D2E3FC;\n",
              "      --hover-bg-color: #434B5C;\n",
              "      --hover-fill-color: #FFFFFF;\n",
              "      --disabled-bg-color: #3B4455;\n",
              "      --disabled-fill-color: #666;\n",
              "  }\n",
              "\n",
              "  .colab-df-quickchart {\n",
              "    background-color: var(--bg-color);\n",
              "    border: none;\n",
              "    border-radius: 50%;\n",
              "    cursor: pointer;\n",
              "    display: none;\n",
              "    fill: var(--fill-color);\n",
              "    height: 32px;\n",
              "    padding: 0;\n",
              "    width: 32px;\n",
              "  }\n",
              "\n",
              "  .colab-df-quickchart:hover {\n",
              "    background-color: var(--hover-bg-color);\n",
              "    box-shadow: 0 1px 2px rgba(60, 64, 67, 0.3), 0 1px 3px 1px rgba(60, 64, 67, 0.15);\n",
              "    fill: var(--button-hover-fill-color);\n",
              "  }\n",
              "\n",
              "  .colab-df-quickchart-complete:disabled,\n",
              "  .colab-df-quickchart-complete:disabled:hover {\n",
              "    background-color: var(--disabled-bg-color);\n",
              "    fill: var(--disabled-fill-color);\n",
              "    box-shadow: none;\n",
              "  }\n",
              "\n",
              "  .colab-df-spinner {\n",
              "    border: 2px solid var(--fill-color);\n",
              "    border-color: transparent;\n",
              "    border-bottom-color: var(--fill-color);\n",
              "    animation:\n",
              "      spin 1s steps(1) infinite;\n",
              "  }\n",
              "\n",
              "  @keyframes spin {\n",
              "    0% {\n",
              "      border-color: transparent;\n",
              "      border-bottom-color: var(--fill-color);\n",
              "      border-left-color: var(--fill-color);\n",
              "    }\n",
              "    20% {\n",
              "      border-color: transparent;\n",
              "      border-left-color: var(--fill-color);\n",
              "      border-top-color: var(--fill-color);\n",
              "    }\n",
              "    30% {\n",
              "      border-color: transparent;\n",
              "      border-left-color: var(--fill-color);\n",
              "      border-top-color: var(--fill-color);\n",
              "      border-right-color: var(--fill-color);\n",
              "    }\n",
              "    40% {\n",
              "      border-color: transparent;\n",
              "      border-right-color: var(--fill-color);\n",
              "      border-top-color: var(--fill-color);\n",
              "    }\n",
              "    60% {\n",
              "      border-color: transparent;\n",
              "      border-right-color: var(--fill-color);\n",
              "    }\n",
              "    80% {\n",
              "      border-color: transparent;\n",
              "      border-right-color: var(--fill-color);\n",
              "      border-bottom-color: var(--fill-color);\n",
              "    }\n",
              "    90% {\n",
              "      border-color: transparent;\n",
              "      border-bottom-color: var(--fill-color);\n",
              "    }\n",
              "  }\n",
              "</style>\n",
              "\n",
              "  <script>\n",
              "    async function quickchart(key) {\n",
              "      const quickchartButtonEl =\n",
              "        document.querySelector('#' + key + ' button');\n",
              "      quickchartButtonEl.disabled = true;  // To prevent multiple clicks.\n",
              "      quickchartButtonEl.classList.add('colab-df-spinner');\n",
              "      try {\n",
              "        const charts = await google.colab.kernel.invokeFunction(\n",
              "            'suggestCharts', [key], {});\n",
              "      } catch (error) {\n",
              "        console.error('Error during call to suggestCharts:', error);\n",
              "      }\n",
              "      quickchartButtonEl.classList.remove('colab-df-spinner');\n",
              "      quickchartButtonEl.classList.add('colab-df-quickchart-complete');\n",
              "    }\n",
              "    (() => {\n",
              "      let quickchartButtonEl =\n",
              "        document.querySelector('#df-ae4930f1-e8e3-4c6b-a1ca-14fb9a936eba button');\n",
              "      quickchartButtonEl.style.display =\n",
              "        google.colab.kernel.accessAllowed ? 'block' : 'none';\n",
              "    })();\n",
              "  </script>\n",
              "</div>\n",
              "    </div>\n",
              "  </div>\n"
            ],
            "application/vnd.google.colaboratory.intrinsic+json": {
              "type": "dataframe",
              "variable_name": "buy_visitors_df",
              "summary": "{\n  \"name\": \"buy_visitors_df\",\n  \"rows\": 11719,\n  \"fields\": [\n    {\n      \"column\": \"visitorid\",\n      \"properties\": {\n        \"dtype\": \"number\",\n        \"std\": 405828,\n        \"min\": 172,\n        \"max\": 1407398,\n        \"num_unique_values\": 11719,\n        \"samples\": [\n          12046,\n          644422,\n          630705\n        ],\n        \"semantic_type\": \"\",\n        \"description\": \"\"\n      }\n    },\n    {\n      \"column\": \"num_uniq_items_viewed\",\n      \"properties\": {\n        \"dtype\": \"number\",\n        \"std\": 68,\n        \"min\": 0,\n        \"max\": 3809,\n        \"num_unique_values\": 203,\n        \"samples\": [\n          18,\n          0,\n          693\n        ],\n        \"semantic_type\": \"\",\n        \"description\": \"\"\n      }\n    },\n    {\n      \"column\": \"num_views_total\",\n      \"properties\": {\n        \"dtype\": \"number\",\n        \"std\": 107,\n        \"min\": 0,\n        \"max\": 6479,\n        \"num_unique_values\": 249,\n        \"samples\": [\n          78,\n          1,\n          59\n        ],\n        \"semantic_type\": \"\",\n        \"description\": \"\"\n      }\n    },\n    {\n      \"column\": \"bought_count\",\n      \"properties\": {\n        \"dtype\": \"number\",\n        \"std\": 8,\n        \"min\": 1,\n        \"max\": 559,\n        \"num_unique_values\": 76,\n        \"samples\": [\n          7,\n          47,\n          64\n        ],\n        \"semantic_type\": \"\",\n        \"description\": \"\"\n      }\n    },\n    {\n      \"column\": \"purchased\",\n      \"properties\": {\n        \"dtype\": \"number\",\n        \"std\": 0,\n        \"min\": 1,\n        \"max\": 1,\n        \"num_unique_values\": 1,\n        \"samples\": [\n          1\n        ],\n        \"semantic_type\": \"\",\n        \"description\": \"\"\n      }\n    }\n  ]\n}"
            }
          },
          "metadata": {},
          "execution_count": 129
        }
      ],
      "source": [
        "buy_visitors_df.head(3)"
      ]
    },
    {
      "cell_type": "code",
      "execution_count": 130,
      "metadata": {
        "id": "LrNwb0WAEVve"
      },
      "outputs": [],
      "source": [
        "trainCF = data[pd.to_datetime(data['data'], unit='ms') < pd.Timestamp('2015-08-15 00:00:00.000000')]\n",
        "testCF = data[pd.to_datetime(data['data'], unit='ms') >= pd.Timestamp('2015-08-15 00:00:00.000000')]"
      ]
    },
    {
      "cell_type": "markdown",
      "metadata": {
        "id": "XeQp3LlQEVve"
      },
      "source": [
        "### список, который содержит заказы клиентов и элементы внутри них."
      ]
    },
    {
      "cell_type": "code",
      "execution_count": 131,
      "metadata": {
        "id": "Gu1uaM7aEVve"
      },
      "outputs": [],
      "source": [
        "purchased_items = []\n",
        "\n",
        "for customer in buy_visitors:\n",
        "    purchased_items.append(list(data.loc[(data.visitorid == customer) & (data.transactionid.notnull())].itemid.values))"
      ]
    },
    {
      "cell_type": "markdown",
      "metadata": {
        "id": "ea_QrMqkEVve"
      },
      "source": [
        " ### функция, которая выдавала бы список товаров, которые были куплены вместе с указанным товаром."
      ]
    },
    {
      "cell_type": "code",
      "execution_count": 132,
      "metadata": {
        "id": "s8uNPcIlEVvf"
      },
      "outputs": [],
      "source": [
        "def recommender_bought_bought(item_id, purchased_items):\n",
        "\n",
        "    # Perhaps implement a binary search for that item id in the list of arrays\n",
        "    # Then put the arrays containing that item id in a new list\n",
        "    # Then merge all items in that list and get rid of duplicates\n",
        "    recommender_list = []\n",
        "    for x in purchased_items:\n",
        "        if item_id in x:\n",
        "            recommender_list += x\n",
        "\n",
        "    #Then merge recommender list and remove the item id\n",
        "    recommender_list = list(set(recommender_list) - set([item_id]))\n",
        "\n",
        "    return recommender_list"
      ]
    },
    {
      "cell_type": "markdown",
      "metadata": {
        "id": "NMdY7SizEVvf"
      },
      "source": [
        "###  функцию расчета метрики."
      ]
    },
    {
      "cell_type": "code",
      "execution_count": 133,
      "metadata": {
        "id": "n8rGhFegEVvf"
      },
      "outputs": [],
      "source": [
        "def metrik_p3(df):\n",
        "  res = len(set(top3) & set(df))\n",
        "  p_3= round((res/3),2)\n",
        "  return p_3"
      ]
    },
    {
      "cell_type": "markdown",
      "metadata": {
        "id": "RpxvmDN9EVvf"
      },
      "source": [
        " ###  введем идентификатор элемента, получим список элементов, которые появились в заказах с указанным элементом."
      ]
    },
    {
      "cell_type": "code",
      "execution_count": 134,
      "metadata": {
        "colab": {
          "base_uri": "https://localhost:8080/"
        },
        "id": "rPV-bfsTEVvf",
        "outputId": "288ad75b-e905-4ddd-bd67-e9ee2b3091d0"
      },
      "outputs": [
        {
          "output_type": "execute_result",
          "data": {
            "text/plain": [
              "[105792, 200793, 12836]"
            ]
          },
          "metadata": {},
          "execution_count": 134
        }
      ],
      "source": [
        "recommender_bought_bought(302422, purchased_items)[:3]"
      ]
    },
    {
      "cell_type": "markdown",
      "metadata": {
        "id": "w7JLbqNVEVvf"
      },
      "source": [
        " список ТОП-3 товаров."
      ]
    },
    {
      "cell_type": "code",
      "execution_count": 135,
      "metadata": {
        "colab": {
          "base_uri": "https://localhost:8080/"
        },
        "id": "oK_6-yRuEVvf",
        "outputId": "5041d1cb-3aef-4688-b914-1490b04c2f24"
      },
      "outputs": [
        {
          "output_type": "execute_result",
          "data": {
            "text/plain": [
              "[461686, 119736, 213834]"
            ]
          },
          "metadata": {},
          "execution_count": 135
        }
      ],
      "source": [
        "top3 = list(train.itemid.value_counts()[:3].index)\n",
        "top3"
      ]
    },
    {
      "cell_type": "markdown",
      "metadata": {
        "id": "8r_kPB-4EVvf"
      },
      "source": [
        " ## метрика на 30 произвольных записи из тестовой части."
      ]
    },
    {
      "cell_type": "code",
      "execution_count": 136,
      "metadata": {
        "id": "uLSCjuJPEVvg"
      },
      "outputs": [],
      "source": [
        "test_sample = testCF[testCF['event']=='transaction'].sample(n=30)"
      ]
    },
    {
      "cell_type": "code",
      "execution_count": 137,
      "metadata": {
        "colab": {
          "base_uri": "https://localhost:8080/",
          "height": 143
        },
        "id": "wV1XIhT1EVvg",
        "outputId": "e1e9c935-3665-44ae-aaa3-9a9e675a0b10"
      },
      "outputs": [
        {
          "output_type": "execute_result",
          "data": {
            "text/plain": [
              "         visitorid        event  itemid  transactionid  \\\n",
              "1182880     560891  transaction  417156        16304.0   \n",
              "1288233    1200257  transaction  210525          390.0   \n",
              "1136974    1104771  transaction  419712        16616.0   \n",
              "\n",
              "                           data  hour  month  day_of_week  is_weekend  \\\n",
              "1182880 2015-09-02 14:50:52.981    14      9            2           0   \n",
              "1288233 2015-09-08 07:29:53.100     7      9            1           0   \n",
              "1136974 2015-08-31 03:13:19.517     3      8            0           0   \n",
              "\n",
              "         is_holiday time_of_day property value  categoryid  parentid  \n",
              "1182880           0   Afternoon      NaN   NaN         NaN       NaN  \n",
              "1288233           0     Morning      NaN   NaN         NaN       NaN  \n",
              "1136974           0       Night      NaN   NaN         NaN       NaN  "
            ],
            "text/html": [
              "\n",
              "  <div id=\"df-8e078f70-45e9-40fd-a706-f3b6e0e8e619\" class=\"colab-df-container\">\n",
              "    <div>\n",
              "<style scoped>\n",
              "    .dataframe tbody tr th:only-of-type {\n",
              "        vertical-align: middle;\n",
              "    }\n",
              "\n",
              "    .dataframe tbody tr th {\n",
              "        vertical-align: top;\n",
              "    }\n",
              "\n",
              "    .dataframe thead th {\n",
              "        text-align: right;\n",
              "    }\n",
              "</style>\n",
              "<table border=\"1\" class=\"dataframe\">\n",
              "  <thead>\n",
              "    <tr style=\"text-align: right;\">\n",
              "      <th></th>\n",
              "      <th>visitorid</th>\n",
              "      <th>event</th>\n",
              "      <th>itemid</th>\n",
              "      <th>transactionid</th>\n",
              "      <th>data</th>\n",
              "      <th>hour</th>\n",
              "      <th>month</th>\n",
              "      <th>day_of_week</th>\n",
              "      <th>is_weekend</th>\n",
              "      <th>is_holiday</th>\n",
              "      <th>time_of_day</th>\n",
              "      <th>property</th>\n",
              "      <th>value</th>\n",
              "      <th>categoryid</th>\n",
              "      <th>parentid</th>\n",
              "    </tr>\n",
              "  </thead>\n",
              "  <tbody>\n",
              "    <tr>\n",
              "      <th>1182880</th>\n",
              "      <td>560891</td>\n",
              "      <td>transaction</td>\n",
              "      <td>417156</td>\n",
              "      <td>16304.0</td>\n",
              "      <td>2015-09-02 14:50:52.981</td>\n",
              "      <td>14</td>\n",
              "      <td>9</td>\n",
              "      <td>2</td>\n",
              "      <td>0</td>\n",
              "      <td>0</td>\n",
              "      <td>Afternoon</td>\n",
              "      <td>NaN</td>\n",
              "      <td>NaN</td>\n",
              "      <td>NaN</td>\n",
              "      <td>NaN</td>\n",
              "    </tr>\n",
              "    <tr>\n",
              "      <th>1288233</th>\n",
              "      <td>1200257</td>\n",
              "      <td>transaction</td>\n",
              "      <td>210525</td>\n",
              "      <td>390.0</td>\n",
              "      <td>2015-09-08 07:29:53.100</td>\n",
              "      <td>7</td>\n",
              "      <td>9</td>\n",
              "      <td>1</td>\n",
              "      <td>0</td>\n",
              "      <td>0</td>\n",
              "      <td>Morning</td>\n",
              "      <td>NaN</td>\n",
              "      <td>NaN</td>\n",
              "      <td>NaN</td>\n",
              "      <td>NaN</td>\n",
              "    </tr>\n",
              "    <tr>\n",
              "      <th>1136974</th>\n",
              "      <td>1104771</td>\n",
              "      <td>transaction</td>\n",
              "      <td>419712</td>\n",
              "      <td>16616.0</td>\n",
              "      <td>2015-08-31 03:13:19.517</td>\n",
              "      <td>3</td>\n",
              "      <td>8</td>\n",
              "      <td>0</td>\n",
              "      <td>0</td>\n",
              "      <td>0</td>\n",
              "      <td>Night</td>\n",
              "      <td>NaN</td>\n",
              "      <td>NaN</td>\n",
              "      <td>NaN</td>\n",
              "      <td>NaN</td>\n",
              "    </tr>\n",
              "  </tbody>\n",
              "</table>\n",
              "</div>\n",
              "    <div class=\"colab-df-buttons\">\n",
              "\n",
              "  <div class=\"colab-df-container\">\n",
              "    <button class=\"colab-df-convert\" onclick=\"convertToInteractive('df-8e078f70-45e9-40fd-a706-f3b6e0e8e619')\"\n",
              "            title=\"Convert this dataframe to an interactive table.\"\n",
              "            style=\"display:none;\">\n",
              "\n",
              "  <svg xmlns=\"http://www.w3.org/2000/svg\" height=\"24px\" viewBox=\"0 -960 960 960\">\n",
              "    <path d=\"M120-120v-720h720v720H120Zm60-500h600v-160H180v160Zm220 220h160v-160H400v160Zm0 220h160v-160H400v160ZM180-400h160v-160H180v160Zm440 0h160v-160H620v160ZM180-180h160v-160H180v160Zm440 0h160v-160H620v160Z\"/>\n",
              "  </svg>\n",
              "    </button>\n",
              "\n",
              "  <style>\n",
              "    .colab-df-container {\n",
              "      display:flex;\n",
              "      gap: 12px;\n",
              "    }\n",
              "\n",
              "    .colab-df-convert {\n",
              "      background-color: #E8F0FE;\n",
              "      border: none;\n",
              "      border-radius: 50%;\n",
              "      cursor: pointer;\n",
              "      display: none;\n",
              "      fill: #1967D2;\n",
              "      height: 32px;\n",
              "      padding: 0 0 0 0;\n",
              "      width: 32px;\n",
              "    }\n",
              "\n",
              "    .colab-df-convert:hover {\n",
              "      background-color: #E2EBFA;\n",
              "      box-shadow: 0px 1px 2px rgba(60, 64, 67, 0.3), 0px 1px 3px 1px rgba(60, 64, 67, 0.15);\n",
              "      fill: #174EA6;\n",
              "    }\n",
              "\n",
              "    .colab-df-buttons div {\n",
              "      margin-bottom: 4px;\n",
              "    }\n",
              "\n",
              "    [theme=dark] .colab-df-convert {\n",
              "      background-color: #3B4455;\n",
              "      fill: #D2E3FC;\n",
              "    }\n",
              "\n",
              "    [theme=dark] .colab-df-convert:hover {\n",
              "      background-color: #434B5C;\n",
              "      box-shadow: 0px 1px 3px 1px rgba(0, 0, 0, 0.15);\n",
              "      filter: drop-shadow(0px 1px 2px rgba(0, 0, 0, 0.3));\n",
              "      fill: #FFFFFF;\n",
              "    }\n",
              "  </style>\n",
              "\n",
              "    <script>\n",
              "      const buttonEl =\n",
              "        document.querySelector('#df-8e078f70-45e9-40fd-a706-f3b6e0e8e619 button.colab-df-convert');\n",
              "      buttonEl.style.display =\n",
              "        google.colab.kernel.accessAllowed ? 'block' : 'none';\n",
              "\n",
              "      async function convertToInteractive(key) {\n",
              "        const element = document.querySelector('#df-8e078f70-45e9-40fd-a706-f3b6e0e8e619');\n",
              "        const dataTable =\n",
              "          await google.colab.kernel.invokeFunction('convertToInteractive',\n",
              "                                                    [key], {});\n",
              "        if (!dataTable) return;\n",
              "\n",
              "        const docLinkHtml = 'Like what you see? Visit the ' +\n",
              "          '<a target=\"_blank\" href=https://colab.research.google.com/notebooks/data_table.ipynb>data table notebook</a>'\n",
              "          + ' to learn more about interactive tables.';\n",
              "        element.innerHTML = '';\n",
              "        dataTable['output_type'] = 'display_data';\n",
              "        await google.colab.output.renderOutput(dataTable, element);\n",
              "        const docLink = document.createElement('div');\n",
              "        docLink.innerHTML = docLinkHtml;\n",
              "        element.appendChild(docLink);\n",
              "      }\n",
              "    </script>\n",
              "  </div>\n",
              "\n",
              "\n",
              "<div id=\"df-7286c35d-3dcc-4749-993f-ed5760103e73\">\n",
              "  <button class=\"colab-df-quickchart\" onclick=\"quickchart('df-7286c35d-3dcc-4749-993f-ed5760103e73')\"\n",
              "            title=\"Suggest charts\"\n",
              "            style=\"display:none;\">\n",
              "\n",
              "<svg xmlns=\"http://www.w3.org/2000/svg\" height=\"24px\"viewBox=\"0 0 24 24\"\n",
              "     width=\"24px\">\n",
              "    <g>\n",
              "        <path d=\"M19 3H5c-1.1 0-2 .9-2 2v14c0 1.1.9 2 2 2h14c1.1 0 2-.9 2-2V5c0-1.1-.9-2-2-2zM9 17H7v-7h2v7zm4 0h-2V7h2v10zm4 0h-2v-4h2v4z\"/>\n",
              "    </g>\n",
              "</svg>\n",
              "  </button>\n",
              "\n",
              "<style>\n",
              "  .colab-df-quickchart {\n",
              "      --bg-color: #E8F0FE;\n",
              "      --fill-color: #1967D2;\n",
              "      --hover-bg-color: #E2EBFA;\n",
              "      --hover-fill-color: #174EA6;\n",
              "      --disabled-fill-color: #AAA;\n",
              "      --disabled-bg-color: #DDD;\n",
              "  }\n",
              "\n",
              "  [theme=dark] .colab-df-quickchart {\n",
              "      --bg-color: #3B4455;\n",
              "      --fill-color: #D2E3FC;\n",
              "      --hover-bg-color: #434B5C;\n",
              "      --hover-fill-color: #FFFFFF;\n",
              "      --disabled-bg-color: #3B4455;\n",
              "      --disabled-fill-color: #666;\n",
              "  }\n",
              "\n",
              "  .colab-df-quickchart {\n",
              "    background-color: var(--bg-color);\n",
              "    border: none;\n",
              "    border-radius: 50%;\n",
              "    cursor: pointer;\n",
              "    display: none;\n",
              "    fill: var(--fill-color);\n",
              "    height: 32px;\n",
              "    padding: 0;\n",
              "    width: 32px;\n",
              "  }\n",
              "\n",
              "  .colab-df-quickchart:hover {\n",
              "    background-color: var(--hover-bg-color);\n",
              "    box-shadow: 0 1px 2px rgba(60, 64, 67, 0.3), 0 1px 3px 1px rgba(60, 64, 67, 0.15);\n",
              "    fill: var(--button-hover-fill-color);\n",
              "  }\n",
              "\n",
              "  .colab-df-quickchart-complete:disabled,\n",
              "  .colab-df-quickchart-complete:disabled:hover {\n",
              "    background-color: var(--disabled-bg-color);\n",
              "    fill: var(--disabled-fill-color);\n",
              "    box-shadow: none;\n",
              "  }\n",
              "\n",
              "  .colab-df-spinner {\n",
              "    border: 2px solid var(--fill-color);\n",
              "    border-color: transparent;\n",
              "    border-bottom-color: var(--fill-color);\n",
              "    animation:\n",
              "      spin 1s steps(1) infinite;\n",
              "  }\n",
              "\n",
              "  @keyframes spin {\n",
              "    0% {\n",
              "      border-color: transparent;\n",
              "      border-bottom-color: var(--fill-color);\n",
              "      border-left-color: var(--fill-color);\n",
              "    }\n",
              "    20% {\n",
              "      border-color: transparent;\n",
              "      border-left-color: var(--fill-color);\n",
              "      border-top-color: var(--fill-color);\n",
              "    }\n",
              "    30% {\n",
              "      border-color: transparent;\n",
              "      border-left-color: var(--fill-color);\n",
              "      border-top-color: var(--fill-color);\n",
              "      border-right-color: var(--fill-color);\n",
              "    }\n",
              "    40% {\n",
              "      border-color: transparent;\n",
              "      border-right-color: var(--fill-color);\n",
              "      border-top-color: var(--fill-color);\n",
              "    }\n",
              "    60% {\n",
              "      border-color: transparent;\n",
              "      border-right-color: var(--fill-color);\n",
              "    }\n",
              "    80% {\n",
              "      border-color: transparent;\n",
              "      border-right-color: var(--fill-color);\n",
              "      border-bottom-color: var(--fill-color);\n",
              "    }\n",
              "    90% {\n",
              "      border-color: transparent;\n",
              "      border-bottom-color: var(--fill-color);\n",
              "    }\n",
              "  }\n",
              "</style>\n",
              "\n",
              "  <script>\n",
              "    async function quickchart(key) {\n",
              "      const quickchartButtonEl =\n",
              "        document.querySelector('#' + key + ' button');\n",
              "      quickchartButtonEl.disabled = true;  // To prevent multiple clicks.\n",
              "      quickchartButtonEl.classList.add('colab-df-spinner');\n",
              "      try {\n",
              "        const charts = await google.colab.kernel.invokeFunction(\n",
              "            'suggestCharts', [key], {});\n",
              "      } catch (error) {\n",
              "        console.error('Error during call to suggestCharts:', error);\n",
              "      }\n",
              "      quickchartButtonEl.classList.remove('colab-df-spinner');\n",
              "      quickchartButtonEl.classList.add('colab-df-quickchart-complete');\n",
              "    }\n",
              "    (() => {\n",
              "      let quickchartButtonEl =\n",
              "        document.querySelector('#df-7286c35d-3dcc-4749-993f-ed5760103e73 button');\n",
              "      quickchartButtonEl.style.display =\n",
              "        google.colab.kernel.accessAllowed ? 'block' : 'none';\n",
              "    })();\n",
              "  </script>\n",
              "</div>\n",
              "    </div>\n",
              "  </div>\n"
            ],
            "application/vnd.google.colaboratory.intrinsic+json": {
              "type": "dataframe",
              "variable_name": "test_sample",
              "repr_error": "0"
            }
          },
          "metadata": {},
          "execution_count": 137
        }
      ],
      "source": [
        "test_sample.head(3)"
      ]
    },
    {
      "cell_type": "code",
      "execution_count": 138,
      "metadata": {
        "id": "IfTZXErIEVvg"
      },
      "outputs": [],
      "source": [
        "test_sample['1'] = test_sample['itemid'].apply(lambda row: recommender_bought_bought(row, purchased_items)[0:1])\n",
        "test_sample['2'] = test_sample['itemid'].apply(lambda row: recommender_bought_bought(row, purchased_items)[1:2])\n",
        "test_sample['3'] =test_sample['itemid'].apply(lambda row: recommender_bought_bought(row, purchased_items)[2:3])"
      ]
    },
    {
      "cell_type": "code",
      "execution_count": 139,
      "metadata": {
        "id": "xShqBJLUEVvg"
      },
      "outputs": [],
      "source": [
        "def replace_col(df):\n",
        "  df =  df.apply(lambda x: str(x).replace('[', ''))\n",
        "  df =  df.apply(lambda x: str(x).replace(']', ''))\n",
        "  return df"
      ]
    },
    {
      "cell_type": "code",
      "execution_count": 140,
      "metadata": {
        "id": "9z0YqwlSEVvg"
      },
      "outputs": [],
      "source": [
        "test_sample['1'] =  replace_col(test_sample['1'])\n",
        "test_sample['2'] =  replace_col(test_sample['2'])\n",
        "test_sample['3'] =  replace_col(test_sample['3'])\n",
        "test_sample['1'] = test_sample['1'].apply(lambda x: top3[0] if x=='' else x)\n",
        "test_sample['2'] = test_sample['2'].apply(lambda x: top3[1] if x=='' else x)\n",
        "test_sample['3'] = test_sample['3'].apply(lambda x: top3[2] if x=='' else x)"
      ]
    },
    {
      "cell_type": "code",
      "execution_count": 141,
      "metadata": {
        "id": "xSi2LLomEVvg"
      },
      "outputs": [],
      "source": [
        "test_sample['pred'] = test_sample[['1', '2', '3']].values.tolist()"
      ]
    },
    {
      "cell_type": "code",
      "execution_count": 142,
      "metadata": {
        "id": "DJcAm6iqEVvg"
      },
      "outputs": [],
      "source": [
        "test_sample['p@3'] = 0"
      ]
    },
    {
      "cell_type": "code",
      "execution_count": 143,
      "metadata": {
        "id": "TQ_zbU8qEVvg"
      },
      "outputs": [],
      "source": [
        "index = test_sample.pred.index\n",
        "for i in index:\n",
        "  test_sample['p@3'][i] = metrik_p3(test_sample['pred'][i])"
      ]
    },
    {
      "cell_type": "code",
      "execution_count": 144,
      "metadata": {
        "colab": {
          "base_uri": "https://localhost:8080/",
          "height": 196
        },
        "id": "Wy4jbS4jEVvg",
        "outputId": "117a481e-a17b-4087-e98f-99bc821add10"
      },
      "outputs": [
        {
          "output_type": "execute_result",
          "data": {
            "text/plain": [
              "         visitorid        event  itemid  transactionid  \\\n",
              "1182880     560891  transaction  417156        16304.0   \n",
              "1288233    1200257  transaction  210525          390.0   \n",
              "1136974    1104771  transaction  419712        16616.0   \n",
              "\n",
              "                           data  hour  month  day_of_week  is_weekend  \\\n",
              "1182880 2015-09-02 14:50:52.981    14      9            2           0   \n",
              "1288233 2015-09-08 07:29:53.100     7      9            1           0   \n",
              "1136974 2015-08-31 03:13:19.517     3      8            0           0   \n",
              "\n",
              "         is_holiday time_of_day property value  categoryid  parentid       1  \\\n",
              "1182880           0   Afternoon      NaN   NaN         NaN       NaN  461686   \n",
              "1288233           0     Morning      NaN   NaN         NaN       NaN  461686   \n",
              "1136974           0       Night      NaN   NaN         NaN       NaN  218881   \n",
              "\n",
              "              2       3                      pred  p@3  \n",
              "1182880  119736  213834  [461686, 119736, 213834]  1.0  \n",
              "1288233  119736  213834  [461686, 119736, 213834]  1.0  \n",
              "1136974  296795  173313  [218881, 296795, 173313]  0.0  "
            ],
            "text/html": [
              "\n",
              "  <div id=\"df-9c135dc7-f9fb-4035-b1b4-81b0b7f2dc86\" class=\"colab-df-container\">\n",
              "    <div>\n",
              "<style scoped>\n",
              "    .dataframe tbody tr th:only-of-type {\n",
              "        vertical-align: middle;\n",
              "    }\n",
              "\n",
              "    .dataframe tbody tr th {\n",
              "        vertical-align: top;\n",
              "    }\n",
              "\n",
              "    .dataframe thead th {\n",
              "        text-align: right;\n",
              "    }\n",
              "</style>\n",
              "<table border=\"1\" class=\"dataframe\">\n",
              "  <thead>\n",
              "    <tr style=\"text-align: right;\">\n",
              "      <th></th>\n",
              "      <th>visitorid</th>\n",
              "      <th>event</th>\n",
              "      <th>itemid</th>\n",
              "      <th>transactionid</th>\n",
              "      <th>data</th>\n",
              "      <th>hour</th>\n",
              "      <th>month</th>\n",
              "      <th>day_of_week</th>\n",
              "      <th>is_weekend</th>\n",
              "      <th>is_holiday</th>\n",
              "      <th>time_of_day</th>\n",
              "      <th>property</th>\n",
              "      <th>value</th>\n",
              "      <th>categoryid</th>\n",
              "      <th>parentid</th>\n",
              "      <th>1</th>\n",
              "      <th>2</th>\n",
              "      <th>3</th>\n",
              "      <th>pred</th>\n",
              "      <th>p@3</th>\n",
              "    </tr>\n",
              "  </thead>\n",
              "  <tbody>\n",
              "    <tr>\n",
              "      <th>1182880</th>\n",
              "      <td>560891</td>\n",
              "      <td>transaction</td>\n",
              "      <td>417156</td>\n",
              "      <td>16304.0</td>\n",
              "      <td>2015-09-02 14:50:52.981</td>\n",
              "      <td>14</td>\n",
              "      <td>9</td>\n",
              "      <td>2</td>\n",
              "      <td>0</td>\n",
              "      <td>0</td>\n",
              "      <td>Afternoon</td>\n",
              "      <td>NaN</td>\n",
              "      <td>NaN</td>\n",
              "      <td>NaN</td>\n",
              "      <td>NaN</td>\n",
              "      <td>461686</td>\n",
              "      <td>119736</td>\n",
              "      <td>213834</td>\n",
              "      <td>[461686, 119736, 213834]</td>\n",
              "      <td>1.0</td>\n",
              "    </tr>\n",
              "    <tr>\n",
              "      <th>1288233</th>\n",
              "      <td>1200257</td>\n",
              "      <td>transaction</td>\n",
              "      <td>210525</td>\n",
              "      <td>390.0</td>\n",
              "      <td>2015-09-08 07:29:53.100</td>\n",
              "      <td>7</td>\n",
              "      <td>9</td>\n",
              "      <td>1</td>\n",
              "      <td>0</td>\n",
              "      <td>0</td>\n",
              "      <td>Morning</td>\n",
              "      <td>NaN</td>\n",
              "      <td>NaN</td>\n",
              "      <td>NaN</td>\n",
              "      <td>NaN</td>\n",
              "      <td>461686</td>\n",
              "      <td>119736</td>\n",
              "      <td>213834</td>\n",
              "      <td>[461686, 119736, 213834]</td>\n",
              "      <td>1.0</td>\n",
              "    </tr>\n",
              "    <tr>\n",
              "      <th>1136974</th>\n",
              "      <td>1104771</td>\n",
              "      <td>transaction</td>\n",
              "      <td>419712</td>\n",
              "      <td>16616.0</td>\n",
              "      <td>2015-08-31 03:13:19.517</td>\n",
              "      <td>3</td>\n",
              "      <td>8</td>\n",
              "      <td>0</td>\n",
              "      <td>0</td>\n",
              "      <td>0</td>\n",
              "      <td>Night</td>\n",
              "      <td>NaN</td>\n",
              "      <td>NaN</td>\n",
              "      <td>NaN</td>\n",
              "      <td>NaN</td>\n",
              "      <td>218881</td>\n",
              "      <td>296795</td>\n",
              "      <td>173313</td>\n",
              "      <td>[218881, 296795, 173313]</td>\n",
              "      <td>0.0</td>\n",
              "    </tr>\n",
              "  </tbody>\n",
              "</table>\n",
              "</div>\n",
              "    <div class=\"colab-df-buttons\">\n",
              "\n",
              "  <div class=\"colab-df-container\">\n",
              "    <button class=\"colab-df-convert\" onclick=\"convertToInteractive('df-9c135dc7-f9fb-4035-b1b4-81b0b7f2dc86')\"\n",
              "            title=\"Convert this dataframe to an interactive table.\"\n",
              "            style=\"display:none;\">\n",
              "\n",
              "  <svg xmlns=\"http://www.w3.org/2000/svg\" height=\"24px\" viewBox=\"0 -960 960 960\">\n",
              "    <path d=\"M120-120v-720h720v720H120Zm60-500h600v-160H180v160Zm220 220h160v-160H400v160Zm0 220h160v-160H400v160ZM180-400h160v-160H180v160Zm440 0h160v-160H620v160ZM180-180h160v-160H180v160Zm440 0h160v-160H620v160Z\"/>\n",
              "  </svg>\n",
              "    </button>\n",
              "\n",
              "  <style>\n",
              "    .colab-df-container {\n",
              "      display:flex;\n",
              "      gap: 12px;\n",
              "    }\n",
              "\n",
              "    .colab-df-convert {\n",
              "      background-color: #E8F0FE;\n",
              "      border: none;\n",
              "      border-radius: 50%;\n",
              "      cursor: pointer;\n",
              "      display: none;\n",
              "      fill: #1967D2;\n",
              "      height: 32px;\n",
              "      padding: 0 0 0 0;\n",
              "      width: 32px;\n",
              "    }\n",
              "\n",
              "    .colab-df-convert:hover {\n",
              "      background-color: #E2EBFA;\n",
              "      box-shadow: 0px 1px 2px rgba(60, 64, 67, 0.3), 0px 1px 3px 1px rgba(60, 64, 67, 0.15);\n",
              "      fill: #174EA6;\n",
              "    }\n",
              "\n",
              "    .colab-df-buttons div {\n",
              "      margin-bottom: 4px;\n",
              "    }\n",
              "\n",
              "    [theme=dark] .colab-df-convert {\n",
              "      background-color: #3B4455;\n",
              "      fill: #D2E3FC;\n",
              "    }\n",
              "\n",
              "    [theme=dark] .colab-df-convert:hover {\n",
              "      background-color: #434B5C;\n",
              "      box-shadow: 0px 1px 3px 1px rgba(0, 0, 0, 0.15);\n",
              "      filter: drop-shadow(0px 1px 2px rgba(0, 0, 0, 0.3));\n",
              "      fill: #FFFFFF;\n",
              "    }\n",
              "  </style>\n",
              "\n",
              "    <script>\n",
              "      const buttonEl =\n",
              "        document.querySelector('#df-9c135dc7-f9fb-4035-b1b4-81b0b7f2dc86 button.colab-df-convert');\n",
              "      buttonEl.style.display =\n",
              "        google.colab.kernel.accessAllowed ? 'block' : 'none';\n",
              "\n",
              "      async function convertToInteractive(key) {\n",
              "        const element = document.querySelector('#df-9c135dc7-f9fb-4035-b1b4-81b0b7f2dc86');\n",
              "        const dataTable =\n",
              "          await google.colab.kernel.invokeFunction('convertToInteractive',\n",
              "                                                    [key], {});\n",
              "        if (!dataTable) return;\n",
              "\n",
              "        const docLinkHtml = 'Like what you see? Visit the ' +\n",
              "          '<a target=\"_blank\" href=https://colab.research.google.com/notebooks/data_table.ipynb>data table notebook</a>'\n",
              "          + ' to learn more about interactive tables.';\n",
              "        element.innerHTML = '';\n",
              "        dataTable['output_type'] = 'display_data';\n",
              "        await google.colab.output.renderOutput(dataTable, element);\n",
              "        const docLink = document.createElement('div');\n",
              "        docLink.innerHTML = docLinkHtml;\n",
              "        element.appendChild(docLink);\n",
              "      }\n",
              "    </script>\n",
              "  </div>\n",
              "\n",
              "\n",
              "<div id=\"df-026814fd-1807-4e2e-8c67-cfe65191917a\">\n",
              "  <button class=\"colab-df-quickchart\" onclick=\"quickchart('df-026814fd-1807-4e2e-8c67-cfe65191917a')\"\n",
              "            title=\"Suggest charts\"\n",
              "            style=\"display:none;\">\n",
              "\n",
              "<svg xmlns=\"http://www.w3.org/2000/svg\" height=\"24px\"viewBox=\"0 0 24 24\"\n",
              "     width=\"24px\">\n",
              "    <g>\n",
              "        <path d=\"M19 3H5c-1.1 0-2 .9-2 2v14c0 1.1.9 2 2 2h14c1.1 0 2-.9 2-2V5c0-1.1-.9-2-2-2zM9 17H7v-7h2v7zm4 0h-2V7h2v10zm4 0h-2v-4h2v4z\"/>\n",
              "    </g>\n",
              "</svg>\n",
              "  </button>\n",
              "\n",
              "<style>\n",
              "  .colab-df-quickchart {\n",
              "      --bg-color: #E8F0FE;\n",
              "      --fill-color: #1967D2;\n",
              "      --hover-bg-color: #E2EBFA;\n",
              "      --hover-fill-color: #174EA6;\n",
              "      --disabled-fill-color: #AAA;\n",
              "      --disabled-bg-color: #DDD;\n",
              "  }\n",
              "\n",
              "  [theme=dark] .colab-df-quickchart {\n",
              "      --bg-color: #3B4455;\n",
              "      --fill-color: #D2E3FC;\n",
              "      --hover-bg-color: #434B5C;\n",
              "      --hover-fill-color: #FFFFFF;\n",
              "      --disabled-bg-color: #3B4455;\n",
              "      --disabled-fill-color: #666;\n",
              "  }\n",
              "\n",
              "  .colab-df-quickchart {\n",
              "    background-color: var(--bg-color);\n",
              "    border: none;\n",
              "    border-radius: 50%;\n",
              "    cursor: pointer;\n",
              "    display: none;\n",
              "    fill: var(--fill-color);\n",
              "    height: 32px;\n",
              "    padding: 0;\n",
              "    width: 32px;\n",
              "  }\n",
              "\n",
              "  .colab-df-quickchart:hover {\n",
              "    background-color: var(--hover-bg-color);\n",
              "    box-shadow: 0 1px 2px rgba(60, 64, 67, 0.3), 0 1px 3px 1px rgba(60, 64, 67, 0.15);\n",
              "    fill: var(--button-hover-fill-color);\n",
              "  }\n",
              "\n",
              "  .colab-df-quickchart-complete:disabled,\n",
              "  .colab-df-quickchart-complete:disabled:hover {\n",
              "    background-color: var(--disabled-bg-color);\n",
              "    fill: var(--disabled-fill-color);\n",
              "    box-shadow: none;\n",
              "  }\n",
              "\n",
              "  .colab-df-spinner {\n",
              "    border: 2px solid var(--fill-color);\n",
              "    border-color: transparent;\n",
              "    border-bottom-color: var(--fill-color);\n",
              "    animation:\n",
              "      spin 1s steps(1) infinite;\n",
              "  }\n",
              "\n",
              "  @keyframes spin {\n",
              "    0% {\n",
              "      border-color: transparent;\n",
              "      border-bottom-color: var(--fill-color);\n",
              "      border-left-color: var(--fill-color);\n",
              "    }\n",
              "    20% {\n",
              "      border-color: transparent;\n",
              "      border-left-color: var(--fill-color);\n",
              "      border-top-color: var(--fill-color);\n",
              "    }\n",
              "    30% {\n",
              "      border-color: transparent;\n",
              "      border-left-color: var(--fill-color);\n",
              "      border-top-color: var(--fill-color);\n",
              "      border-right-color: var(--fill-color);\n",
              "    }\n",
              "    40% {\n",
              "      border-color: transparent;\n",
              "      border-right-color: var(--fill-color);\n",
              "      border-top-color: var(--fill-color);\n",
              "    }\n",
              "    60% {\n",
              "      border-color: transparent;\n",
              "      border-right-color: var(--fill-color);\n",
              "    }\n",
              "    80% {\n",
              "      border-color: transparent;\n",
              "      border-right-color: var(--fill-color);\n",
              "      border-bottom-color: var(--fill-color);\n",
              "    }\n",
              "    90% {\n",
              "      border-color: transparent;\n",
              "      border-bottom-color: var(--fill-color);\n",
              "    }\n",
              "  }\n",
              "</style>\n",
              "\n",
              "  <script>\n",
              "    async function quickchart(key) {\n",
              "      const quickchartButtonEl =\n",
              "        document.querySelector('#' + key + ' button');\n",
              "      quickchartButtonEl.disabled = true;  // To prevent multiple clicks.\n",
              "      quickchartButtonEl.classList.add('colab-df-spinner');\n",
              "      try {\n",
              "        const charts = await google.colab.kernel.invokeFunction(\n",
              "            'suggestCharts', [key], {});\n",
              "      } catch (error) {\n",
              "        console.error('Error during call to suggestCharts:', error);\n",
              "      }\n",
              "      quickchartButtonEl.classList.remove('colab-df-spinner');\n",
              "      quickchartButtonEl.classList.add('colab-df-quickchart-complete');\n",
              "    }\n",
              "    (() => {\n",
              "      let quickchartButtonEl =\n",
              "        document.querySelector('#df-026814fd-1807-4e2e-8c67-cfe65191917a button');\n",
              "      quickchartButtonEl.style.display =\n",
              "        google.colab.kernel.accessAllowed ? 'block' : 'none';\n",
              "    })();\n",
              "  </script>\n",
              "</div>\n",
              "    </div>\n",
              "  </div>\n"
            ],
            "application/vnd.google.colaboratory.intrinsic+json": {
              "type": "dataframe",
              "variable_name": "test_sample",
              "repr_error": "0"
            }
          },
          "metadata": {},
          "execution_count": 144
        }
      ],
      "source": [
        "test_sample.head(3)"
      ]
    },
    {
      "cell_type": "code",
      "execution_count": 145,
      "metadata": {
        "colab": {
          "base_uri": "https://localhost:8080/"
        },
        "id": "ZZC-3BmjEVvg",
        "outputId": "408269e9-b68e-4913-a089-e82fc2b7f5fc"
      },
      "outputs": [
        {
          "output_type": "stream",
          "name": "stdout",
          "text": [
            "Mean Average Precision at 3: 0.47\n"
          ]
        }
      ],
      "source": [
        "# Precision@3\n",
        "metric = round(test_sample['p@3'].mean(),2)\n",
        "print('Mean Average Precision at 3: {:.2}'.format(metric))"
      ]
    },
    {
      "cell_type": "markdown",
      "metadata": {
        "id": "W_fkKptfEVvh"
      },
      "source": [
        "# ALS"
      ]
    },
    {
      "cell_type": "code",
      "execution_count": 146,
      "metadata": {
        "id": "5R5dPq8XEVvh"
      },
      "outputs": [],
      "source": [
        "dfALS = data.copy()"
      ]
    },
    {
      "cell_type": "code",
      "execution_count": 147,
      "metadata": {
        "id": "lkDUekd-EVvh"
      },
      "outputs": [],
      "source": [
        "dfALS['event_scores'] = dfALS['event'].apply(\n",
        "    lambda x: 1 if x == 'view' else 5 if x == 'addtocart' else 25 if x == 'transaction' else 0\n",
        ")"
      ]
    },
    {
      "cell_type": "code",
      "execution_count": 148,
      "metadata": {
        "colab": {
          "base_uri": "https://localhost:8080/",
          "height": 143
        },
        "id": "oFdOeFWlEVvh",
        "outputId": "2b13bae1-f865-4940-d8ad-918cb8c1e75f"
      },
      "outputs": [
        {
          "output_type": "execute_result",
          "data": {
            "text/plain": [
              "   visitorid event  itemid  transactionid                    data  hour  \\\n",
              "0     257597  view  355908            NaN 2015-06-02 05:02:12.117     5   \n",
              "1     992329  view  248676            NaN 2015-06-02 05:50:14.164     5   \n",
              "2     111016  view  318965            NaN 2015-06-02 05:13:19.827     5   \n",
              "\n",
              "   month  day_of_week  is_weekend  is_holiday time_of_day property value  \\\n",
              "0      6            1           0           0       Night      NaN   NaN   \n",
              "1      6            1           0           0       Night      NaN   NaN   \n",
              "2      6            1           0           0       Night      NaN   NaN   \n",
              "\n",
              "   categoryid  parentid  event_scores  \n",
              "0         NaN       NaN             1  \n",
              "1         NaN       NaN             1  \n",
              "2         NaN       NaN             1  "
            ],
            "text/html": [
              "\n",
              "  <div id=\"df-1b30320d-e5e3-4703-92f5-e28dba7848ab\" class=\"colab-df-container\">\n",
              "    <div>\n",
              "<style scoped>\n",
              "    .dataframe tbody tr th:only-of-type {\n",
              "        vertical-align: middle;\n",
              "    }\n",
              "\n",
              "    .dataframe tbody tr th {\n",
              "        vertical-align: top;\n",
              "    }\n",
              "\n",
              "    .dataframe thead th {\n",
              "        text-align: right;\n",
              "    }\n",
              "</style>\n",
              "<table border=\"1\" class=\"dataframe\">\n",
              "  <thead>\n",
              "    <tr style=\"text-align: right;\">\n",
              "      <th></th>\n",
              "      <th>visitorid</th>\n",
              "      <th>event</th>\n",
              "      <th>itemid</th>\n",
              "      <th>transactionid</th>\n",
              "      <th>data</th>\n",
              "      <th>hour</th>\n",
              "      <th>month</th>\n",
              "      <th>day_of_week</th>\n",
              "      <th>is_weekend</th>\n",
              "      <th>is_holiday</th>\n",
              "      <th>time_of_day</th>\n",
              "      <th>property</th>\n",
              "      <th>value</th>\n",
              "      <th>categoryid</th>\n",
              "      <th>parentid</th>\n",
              "      <th>event_scores</th>\n",
              "    </tr>\n",
              "  </thead>\n",
              "  <tbody>\n",
              "    <tr>\n",
              "      <th>0</th>\n",
              "      <td>257597</td>\n",
              "      <td>view</td>\n",
              "      <td>355908</td>\n",
              "      <td>NaN</td>\n",
              "      <td>2015-06-02 05:02:12.117</td>\n",
              "      <td>5</td>\n",
              "      <td>6</td>\n",
              "      <td>1</td>\n",
              "      <td>0</td>\n",
              "      <td>0</td>\n",
              "      <td>Night</td>\n",
              "      <td>NaN</td>\n",
              "      <td>NaN</td>\n",
              "      <td>NaN</td>\n",
              "      <td>NaN</td>\n",
              "      <td>1</td>\n",
              "    </tr>\n",
              "    <tr>\n",
              "      <th>1</th>\n",
              "      <td>992329</td>\n",
              "      <td>view</td>\n",
              "      <td>248676</td>\n",
              "      <td>NaN</td>\n",
              "      <td>2015-06-02 05:50:14.164</td>\n",
              "      <td>5</td>\n",
              "      <td>6</td>\n",
              "      <td>1</td>\n",
              "      <td>0</td>\n",
              "      <td>0</td>\n",
              "      <td>Night</td>\n",
              "      <td>NaN</td>\n",
              "      <td>NaN</td>\n",
              "      <td>NaN</td>\n",
              "      <td>NaN</td>\n",
              "      <td>1</td>\n",
              "    </tr>\n",
              "    <tr>\n",
              "      <th>2</th>\n",
              "      <td>111016</td>\n",
              "      <td>view</td>\n",
              "      <td>318965</td>\n",
              "      <td>NaN</td>\n",
              "      <td>2015-06-02 05:13:19.827</td>\n",
              "      <td>5</td>\n",
              "      <td>6</td>\n",
              "      <td>1</td>\n",
              "      <td>0</td>\n",
              "      <td>0</td>\n",
              "      <td>Night</td>\n",
              "      <td>NaN</td>\n",
              "      <td>NaN</td>\n",
              "      <td>NaN</td>\n",
              "      <td>NaN</td>\n",
              "      <td>1</td>\n",
              "    </tr>\n",
              "  </tbody>\n",
              "</table>\n",
              "</div>\n",
              "    <div class=\"colab-df-buttons\">\n",
              "\n",
              "  <div class=\"colab-df-container\">\n",
              "    <button class=\"colab-df-convert\" onclick=\"convertToInteractive('df-1b30320d-e5e3-4703-92f5-e28dba7848ab')\"\n",
              "            title=\"Convert this dataframe to an interactive table.\"\n",
              "            style=\"display:none;\">\n",
              "\n",
              "  <svg xmlns=\"http://www.w3.org/2000/svg\" height=\"24px\" viewBox=\"0 -960 960 960\">\n",
              "    <path d=\"M120-120v-720h720v720H120Zm60-500h600v-160H180v160Zm220 220h160v-160H400v160Zm0 220h160v-160H400v160ZM180-400h160v-160H180v160Zm440 0h160v-160H620v160ZM180-180h160v-160H180v160Zm440 0h160v-160H620v160Z\"/>\n",
              "  </svg>\n",
              "    </button>\n",
              "\n",
              "  <style>\n",
              "    .colab-df-container {\n",
              "      display:flex;\n",
              "      gap: 12px;\n",
              "    }\n",
              "\n",
              "    .colab-df-convert {\n",
              "      background-color: #E8F0FE;\n",
              "      border: none;\n",
              "      border-radius: 50%;\n",
              "      cursor: pointer;\n",
              "      display: none;\n",
              "      fill: #1967D2;\n",
              "      height: 32px;\n",
              "      padding: 0 0 0 0;\n",
              "      width: 32px;\n",
              "    }\n",
              "\n",
              "    .colab-df-convert:hover {\n",
              "      background-color: #E2EBFA;\n",
              "      box-shadow: 0px 1px 2px rgba(60, 64, 67, 0.3), 0px 1px 3px 1px rgba(60, 64, 67, 0.15);\n",
              "      fill: #174EA6;\n",
              "    }\n",
              "\n",
              "    .colab-df-buttons div {\n",
              "      margin-bottom: 4px;\n",
              "    }\n",
              "\n",
              "    [theme=dark] .colab-df-convert {\n",
              "      background-color: #3B4455;\n",
              "      fill: #D2E3FC;\n",
              "    }\n",
              "\n",
              "    [theme=dark] .colab-df-convert:hover {\n",
              "      background-color: #434B5C;\n",
              "      box-shadow: 0px 1px 3px 1px rgba(0, 0, 0, 0.15);\n",
              "      filter: drop-shadow(0px 1px 2px rgba(0, 0, 0, 0.3));\n",
              "      fill: #FFFFFF;\n",
              "    }\n",
              "  </style>\n",
              "\n",
              "    <script>\n",
              "      const buttonEl =\n",
              "        document.querySelector('#df-1b30320d-e5e3-4703-92f5-e28dba7848ab button.colab-df-convert');\n",
              "      buttonEl.style.display =\n",
              "        google.colab.kernel.accessAllowed ? 'block' : 'none';\n",
              "\n",
              "      async function convertToInteractive(key) {\n",
              "        const element = document.querySelector('#df-1b30320d-e5e3-4703-92f5-e28dba7848ab');\n",
              "        const dataTable =\n",
              "          await google.colab.kernel.invokeFunction('convertToInteractive',\n",
              "                                                    [key], {});\n",
              "        if (!dataTable) return;\n",
              "\n",
              "        const docLinkHtml = 'Like what you see? Visit the ' +\n",
              "          '<a target=\"_blank\" href=https://colab.research.google.com/notebooks/data_table.ipynb>data table notebook</a>'\n",
              "          + ' to learn more about interactive tables.';\n",
              "        element.innerHTML = '';\n",
              "        dataTable['output_type'] = 'display_data';\n",
              "        await google.colab.output.renderOutput(dataTable, element);\n",
              "        const docLink = document.createElement('div');\n",
              "        docLink.innerHTML = docLinkHtml;\n",
              "        element.appendChild(docLink);\n",
              "      }\n",
              "    </script>\n",
              "  </div>\n",
              "\n",
              "\n",
              "<div id=\"df-0e8f90dc-75f3-4d27-8ab5-f3942e8da507\">\n",
              "  <button class=\"colab-df-quickchart\" onclick=\"quickchart('df-0e8f90dc-75f3-4d27-8ab5-f3942e8da507')\"\n",
              "            title=\"Suggest charts\"\n",
              "            style=\"display:none;\">\n",
              "\n",
              "<svg xmlns=\"http://www.w3.org/2000/svg\" height=\"24px\"viewBox=\"0 0 24 24\"\n",
              "     width=\"24px\">\n",
              "    <g>\n",
              "        <path d=\"M19 3H5c-1.1 0-2 .9-2 2v14c0 1.1.9 2 2 2h14c1.1 0 2-.9 2-2V5c0-1.1-.9-2-2-2zM9 17H7v-7h2v7zm4 0h-2V7h2v10zm4 0h-2v-4h2v4z\"/>\n",
              "    </g>\n",
              "</svg>\n",
              "  </button>\n",
              "\n",
              "<style>\n",
              "  .colab-df-quickchart {\n",
              "      --bg-color: #E8F0FE;\n",
              "      --fill-color: #1967D2;\n",
              "      --hover-bg-color: #E2EBFA;\n",
              "      --hover-fill-color: #174EA6;\n",
              "      --disabled-fill-color: #AAA;\n",
              "      --disabled-bg-color: #DDD;\n",
              "  }\n",
              "\n",
              "  [theme=dark] .colab-df-quickchart {\n",
              "      --bg-color: #3B4455;\n",
              "      --fill-color: #D2E3FC;\n",
              "      --hover-bg-color: #434B5C;\n",
              "      --hover-fill-color: #FFFFFF;\n",
              "      --disabled-bg-color: #3B4455;\n",
              "      --disabled-fill-color: #666;\n",
              "  }\n",
              "\n",
              "  .colab-df-quickchart {\n",
              "    background-color: var(--bg-color);\n",
              "    border: none;\n",
              "    border-radius: 50%;\n",
              "    cursor: pointer;\n",
              "    display: none;\n",
              "    fill: var(--fill-color);\n",
              "    height: 32px;\n",
              "    padding: 0;\n",
              "    width: 32px;\n",
              "  }\n",
              "\n",
              "  .colab-df-quickchart:hover {\n",
              "    background-color: var(--hover-bg-color);\n",
              "    box-shadow: 0 1px 2px rgba(60, 64, 67, 0.3), 0 1px 3px 1px rgba(60, 64, 67, 0.15);\n",
              "    fill: var(--button-hover-fill-color);\n",
              "  }\n",
              "\n",
              "  .colab-df-quickchart-complete:disabled,\n",
              "  .colab-df-quickchart-complete:disabled:hover {\n",
              "    background-color: var(--disabled-bg-color);\n",
              "    fill: var(--disabled-fill-color);\n",
              "    box-shadow: none;\n",
              "  }\n",
              "\n",
              "  .colab-df-spinner {\n",
              "    border: 2px solid var(--fill-color);\n",
              "    border-color: transparent;\n",
              "    border-bottom-color: var(--fill-color);\n",
              "    animation:\n",
              "      spin 1s steps(1) infinite;\n",
              "  }\n",
              "\n",
              "  @keyframes spin {\n",
              "    0% {\n",
              "      border-color: transparent;\n",
              "      border-bottom-color: var(--fill-color);\n",
              "      border-left-color: var(--fill-color);\n",
              "    }\n",
              "    20% {\n",
              "      border-color: transparent;\n",
              "      border-left-color: var(--fill-color);\n",
              "      border-top-color: var(--fill-color);\n",
              "    }\n",
              "    30% {\n",
              "      border-color: transparent;\n",
              "      border-left-color: var(--fill-color);\n",
              "      border-top-color: var(--fill-color);\n",
              "      border-right-color: var(--fill-color);\n",
              "    }\n",
              "    40% {\n",
              "      border-color: transparent;\n",
              "      border-right-color: var(--fill-color);\n",
              "      border-top-color: var(--fill-color);\n",
              "    }\n",
              "    60% {\n",
              "      border-color: transparent;\n",
              "      border-right-color: var(--fill-color);\n",
              "    }\n",
              "    80% {\n",
              "      border-color: transparent;\n",
              "      border-right-color: var(--fill-color);\n",
              "      border-bottom-color: var(--fill-color);\n",
              "    }\n",
              "    90% {\n",
              "      border-color: transparent;\n",
              "      border-bottom-color: var(--fill-color);\n",
              "    }\n",
              "  }\n",
              "</style>\n",
              "\n",
              "  <script>\n",
              "    async function quickchart(key) {\n",
              "      const quickchartButtonEl =\n",
              "        document.querySelector('#' + key + ' button');\n",
              "      quickchartButtonEl.disabled = true;  // To prevent multiple clicks.\n",
              "      quickchartButtonEl.classList.add('colab-df-spinner');\n",
              "      try {\n",
              "        const charts = await google.colab.kernel.invokeFunction(\n",
              "            'suggestCharts', [key], {});\n",
              "      } catch (error) {\n",
              "        console.error('Error during call to suggestCharts:', error);\n",
              "      }\n",
              "      quickchartButtonEl.classList.remove('colab-df-spinner');\n",
              "      quickchartButtonEl.classList.add('colab-df-quickchart-complete');\n",
              "    }\n",
              "    (() => {\n",
              "      let quickchartButtonEl =\n",
              "        document.querySelector('#df-0e8f90dc-75f3-4d27-8ab5-f3942e8da507 button');\n",
              "      quickchartButtonEl.style.display =\n",
              "        google.colab.kernel.accessAllowed ? 'block' : 'none';\n",
              "    })();\n",
              "  </script>\n",
              "</div>\n",
              "    </div>\n",
              "  </div>\n"
            ],
            "application/vnd.google.colaboratory.intrinsic+json": {
              "type": "dataframe",
              "variable_name": "dfALS"
            }
          },
          "metadata": {},
          "execution_count": 148
        }
      ],
      "source": [
        "dfALS.head(3)"
      ]
    },
    {
      "cell_type": "markdown",
      "metadata": {
        "id": "OygYT4tQEVvh"
      },
      "source": [
        " ###  преобразуем стобцы их в разреженную матрицу для экономии места и чтобы наша модель была способна вычислять все возможные взаимодействия в наборе данных. По  модулю scipy.sparse."
      ]
    },
    {
      "cell_type": "code",
      "execution_count": 149,
      "metadata": {
        "id": "QvohgGBJEVvh"
      },
      "outputs": [],
      "source": [
        "dfALS['visitorid'] = dfALS['visitorid'].astype(\"category\").cat.as_ordered()\n",
        "dfALS['itemid'] = dfALS['itemid'].astype(\"category\").cat.as_ordered()\n",
        "\n",
        "sparse_item_user = sparse.csr_matrix((dfALS['event_scores'].astype(float), (dfALS['itemid'], dfALS['visitorid'])))\n",
        "sparse_user_item = sparse.csr_matrix((dfALS['event_scores'].astype(float), (dfALS['visitorid'], dfALS['itemid'])))"
      ]
    },
    {
      "cell_type": "code",
      "execution_count": 150,
      "metadata": {
        "id": "knhYun1REVvh"
      },
      "outputs": [],
      "source": [
        "trainALS = dfALS[pd.to_datetime(dfALS['data'], unit='ms') < pd.Timestamp('2015-08-15 00:00:00.000000')]\n",
        "testALS = dfALS[pd.to_datetime(dfALS['data'], unit='ms') >= pd.Timestamp('2015-08-15 00:00:00.000000')]"
      ]
    },
    {
      "cell_type": "code",
      "execution_count": 151,
      "metadata": {
        "id": "ouseSx64EVvh"
      },
      "outputs": [],
      "source": [
        "trainALS['visitorid'] = trainALS['visitorid'].astype(\"category\").cat.as_ordered()\n",
        "trainALS['itemid'] = trainALS['itemid'].astype(\"category\").cat.as_ordered()\n",
        "\n",
        "testALS['visitorid'] = testALS['visitorid'].astype(\"category\").cat.as_ordered()\n",
        "testALS['itemid'] = testALS['itemid'].astype(\"category\").cat.as_ordered()"
      ]
    },
    {
      "cell_type": "code",
      "execution_count": 152,
      "metadata": {
        "id": "0sStk8gHEVvh"
      },
      "outputs": [],
      "source": [
        "sparse_train_item_user = sparse.csr_matrix((trainALS['event_scores'].astype(float), (trainALS['itemid'], trainALS['visitorid'])))\n",
        "sparse_train_user_item = sparse.csr_matrix((trainALS['event_scores'].astype(float), (trainALS['visitorid'], trainALS['itemid'])))"
      ]
    },
    {
      "cell_type": "code",
      "execution_count": 153,
      "metadata": {
        "id": "b8TJFlrMEVvh"
      },
      "outputs": [],
      "source": [
        "sparse_test_item_user = sparse.csr_matrix((testALS['event_scores'].astype(float), (testALS['itemid'], testALS['visitorid'])))\n",
        "sparse_test_user_item = sparse.csr_matrix((testALS['event_scores'].astype(float), (testALS['visitorid'], testALS['itemid'])))"
      ]
    },
    {
      "cell_type": "markdown",
      "metadata": {
        "id": "7gcKbL6tEVvh"
      },
      "source": [
        " ### матрицы готовы, мы можем параметризовать и подогнать нашу модель.\n",
        "\n",
        "#### Используемые параметры являются довольно стандартными: латентные_факторы и n_iter параметры, которые изменяются чаще, поскольку их увеличение увеличило бы прогностическую силу нашей модели за счет более высоких вычислений, использования памяти и вероятности переобучения для нашей оценки."
      ]
    },
    {
      "cell_type": "code",
      "execution_count": 154,
      "metadata": {
        "colab": {
          "base_uri": "https://localhost:8080/",
          "height": 49,
          "referenced_widgets": [
            "88f83c15aa124ce39327654330ff8b07",
            "e4f0e1994e934d6585eea42499374782",
            "e9dcd908837c42138ddd9f64baab5220",
            "167b4e49cca84212b72477d7a7ca3b94",
            "40cc2d596c384526bdb571686989910f",
            "57ab9b845bd24881bdcbfd16e7d700e9",
            "1b5f72efbac94907aea6671039876848",
            "d2c5ead6779f4f7093df61a3ccdfb85a",
            "d63b24e248504fbeb41f82886a8f0e90",
            "a1121130c72e46fa98a38fabf6ea6c5a",
            "6aa9fc42b0354c33b06f18ed003fd3cb"
          ]
        },
        "id": "OanpGEJMEVvi",
        "outputId": "f86c87dd-f654-4f34-980d-66ba5c139b9d"
      },
      "outputs": [
        {
          "output_type": "display_data",
          "data": {
            "text/plain": [
              "  0%|          | 0/20 [00:00<?, ?it/s]"
            ],
            "application/vnd.jupyter.widget-view+json": {
              "version_major": 2,
              "version_minor": 0,
              "model_id": "88f83c15aa124ce39327654330ff8b07"
            }
          },
          "metadata": {}
        }
      ],
      "source": [
        "latent_factors = 20\n",
        "regularization = 0.1\n",
        "n_iter = 20\n",
        "alpha = 40\n",
        "\n",
        "conf_matrix = (sparse_train_item_user * alpha).astype('double')\n",
        "\n",
        "model = AlternatingLeastSquares(\n",
        "    factors=latent_factors,\n",
        "    regularization=regularization,\n",
        "    iterations=n_iter\n",
        ")\n",
        "\n",
        "model.fit(conf_matrix)"
      ]
    },
    {
      "cell_type": "code",
      "execution_count": 155,
      "metadata": {
        "colab": {
          "base_uri": "https://localhost:8080/",
          "height": 66,
          "referenced_widgets": [
            "89de99c5d712452f89aec1ca1fbbb2fd",
            "636bd21259e648bc99ebde2dce16b6c4",
            "14e7539ca36a470ca9657b1559140187",
            "88a866240dc040dbbcc6291d344fcc94",
            "2a51bff258064de696505a334fc83217",
            "61b49edd61bd41eaa27ddee3d1f495f7",
            "112a374d00df4718999ef8ad2325ebba",
            "a105459a2eb24e35b137959b590d5c59",
            "ddcff152997b43859e2399e124341b5d",
            "42874add31a044b3a3c0ad229329ede3",
            "f439ec7162aa47549f163b71c87bd49b"
          ]
        },
        "id": "kOIk5dh0EVvi",
        "outputId": "70fe2e72-2fdb-461a-9dbb-1e8f52761c8b"
      },
      "outputs": [
        {
          "data": {
            "application/vnd.jupyter.widget-view+json": {
              "model_id": "89de99c5d712452f89aec1ca1fbbb2fd",
              "version_major": 2,
              "version_minor": 0
            },
            "text/plain": [
              "  0%|          | 0/119873 [00:00<?, ?it/s]"
            ]
          },
          "metadata": {},
          "output_type": "display_data"
        },
        {
          "output_type": "stream",
          "name": "stdout",
          "text": [
            "Mean Average Precision at 3: 0.13%\n"
          ]
        }
      ],
      "source": [
        "p_at3_als = mean_average_precision_at_k(model, sparse_train_item_user, sparse_test_item_user, K=3)\n",
        "print('Mean Average Precision at 3: {:.2%}'.format(p_at3_als))"
      ]
    },
    {
      "cell_type": "code",
      "execution_count": 156,
      "metadata": {
        "id": "8_EFgu8o-J2_"
      },
      "outputs": [],
      "source": [
        "def recommend_item_to_user(model, visitorid, sparse_test_item_user, n=3):\n",
        "    recommended = model.recommend(visitorid, sparse_test_item_user[visitorid], n)\n",
        "    return recommended\n",
        "\n",
        "\n",
        "def similar_items_to_item(model, itemid, n=3):\n",
        "    similar = model.similar_items(itemid, n)\n",
        "    return similar"
      ]
    },
    {
      "cell_type": "code",
      "execution_count": 157,
      "metadata": {
        "colab": {
          "base_uri": "https://localhost:8080/"
        },
        "id": "g7LrvLAMEVvi",
        "outputId": "9ad2cb8f-0296-4c4b-bbc3-ec65258940be"
      },
      "outputs": [
        {
          "output_type": "stream",
          "name": "stdout",
          "text": [
            "Recommended items for user 12453:\n",
            "[389532 748040 138131]\n"
          ]
        }
      ],
      "source": [
        "userid = 12453\n",
        "recommended_items = recommend_item_to_user(model, userid, sparse_test_item_user)\n",
        "print(f\"Recommended items for user {userid}:\\n{recommended_items[0]}\")"
      ]
    },
    {
      "cell_type": "code",
      "execution_count": 158,
      "metadata": {
        "colab": {
          "base_uri": "https://localhost:8080/"
        },
        "id": "orwbeIu6EVvi",
        "outputId": "97b3cb19-80cc-4199-d412-80839e927065"
      },
      "outputs": [
        {
          "output_type": "stream",
          "name": "stdout",
          "text": [
            "Similar items to 4560:\n",
            "[   4560 1347367  550853]\n"
          ]
        }
      ],
      "source": [
        "itemid =4560\n",
        "similar_items = similar_items_to_item(model, itemid)\n",
        "print(f\"Similar items to {itemid}:\\n{similar_items[0]}\")"
      ]
    },
    {
      "cell_type": "markdown",
      "metadata": {
        "id": "9St96SCe_5cZ"
      },
      "source": [
        "# LightFM\n",
        "## LightFM — это реализация на Python ряда популярных алгоритмов рекомендаций как для неявной, так и для явной обратной связи."
      ]
    },
    {
      "cell_type": "code",
      "execution_count": 159,
      "metadata": {
        "id": "t6TcHyXyEVvi"
      },
      "outputs": [],
      "source": [
        "from lightfm.evaluation import precision_at_k\n",
        "from lightfm.data import Dataset"
      ]
    },
    {
      "cell_type": "code",
      "execution_count": 160,
      "metadata": {
        "id": "PIEwhBT5n236"
      },
      "outputs": [],
      "source": [
        "\n",
        "from lightfm.evaluation import precision_at_k\n",
        "from lightfm.data import Dataset\n",
        "\n",
        "\n",
        "trainLFM = data[pd.to_datetime(data['data'], unit='ms') < pd.Timestamp('2015-08-15 00:00:00.000000')]\n",
        "testLFM = data[pd.to_datetime(data['data'], unit='ms') >= pd.Timestamp('2015-08-15 00:00:00.000000')]"
      ]
    },
    {
      "cell_type": "code",
      "source": [
        "validation_period = data['data'].max() - pd.DateOffset(days=7)\n",
        "\n",
        "# Разделим данные на тренировочный и валидационный датасеты\n",
        "train     = data[data['data'] < validation_period]\n",
        "test = data[data['data'] >= validation_period]"
      ],
      "metadata": {
        "id": "vK8bEAVjqCNF"
      },
      "execution_count": 161,
      "outputs": []
    },
    {
      "cell_type": "code",
      "execution_count": 162,
      "metadata": {
        "id": "pGxcB6XVodPb"
      },
      "outputs": [],
      "source": [
        "\n",
        "all_visitorids = data.visitorid.unique()\n",
        "all_itemids = data.itemid.unique()\n"
      ]
    },
    {
      "cell_type": "code",
      "execution_count": 163,
      "metadata": {
        "id": "vudqSCZpog6i"
      },
      "outputs": [],
      "source": [
        "\n",
        "dataset = Dataset()"
      ]
    },
    {
      "cell_type": "code",
      "execution_count": 164,
      "metadata": {
        "id": "lp2F62Droj5k"
      },
      "outputs": [],
      "source": [
        "dataset.fit(users=all_visitorids, items=all_itemids)"
      ]
    },
    {
      "cell_type": "code",
      "execution_count": 165,
      "metadata": {
        "id": "42SsmAsYooFC"
      },
      "outputs": [],
      "source": [
        "\n",
        "train_coo = dataset.build_interactions(trainLFM.query('event ==\"transaction\"')[['visitorid', 'itemid']].values)"
      ]
    },
    {
      "cell_type": "code",
      "execution_count": 166,
      "metadata": {
        "id": "oYgVYvgWosWB"
      },
      "outputs": [],
      "source": [
        "\n",
        "test_coo = dataset.build_interactions(testLFM.query('event ==\"transaction\"')[['visitorid', 'itemid']].values)"
      ]
    },
    {
      "cell_type": "code",
      "execution_count": 167,
      "metadata": {
        "colab": {
          "base_uri": "https://localhost:8080/"
        },
        "id": "5vjhYCLNEVvi",
        "outputId": "59ad0714-6ae7-436b-9627-b30b5533e7db"
      },
      "outputs": [
        {
          "output_type": "execute_result",
          "data": {
            "text/plain": [
              "<lightfm.lightfm.LightFM at 0x7ddd074282e0>"
            ]
          },
          "metadata": {},
          "execution_count": 167
        }
      ],
      "source": [
        "modelLFM = LightFM(loss='warp', no_components=50, random_state=42)\n",
        "modelLFM.fit(train_coo[0], epochs=20)"
      ]
    },
    {
      "cell_type": "code",
      "execution_count": 168,
      "metadata": {
        "colab": {
          "base_uri": "https://localhost:8080/"
        },
        "id": "xEBCLehXEVvj",
        "outputId": "c551dcf7-da06-41dd-e9b8-37a99b9c3c51"
      },
      "outputs": [
        {
          "output_type": "stream",
          "name": "stdout",
          "text": [
            "Mean Average Precision at 3: 0.76%\n"
          ]
        }
      ],
      "source": [
        "p_at3 = precision_at_k(modelLFM, test_coo[0], k=3).mean()\n",
        "print('Mean Average Precision at 3: {:.2%}'.format(p_at3))"
      ]
    },
    {
      "cell_type": "code",
      "execution_count": 169,
      "metadata": {
        "id": "tgJFlxMtEVvj"
      },
      "outputs": [],
      "source": [
        "import numpy as np\n",
        "scores = modelLFM.predict(1, np.arange(len(all_itemids)))\n",
        "top = np.argsort(-scores)[:3]\n",
        "item_lagels = {v:k for k, v in dataset.mapping()[2].items()}"
      ]
    },
    {
      "cell_type": "code",
      "execution_count": 170,
      "metadata": {
        "colab": {
          "base_uri": "https://localhost:8080/"
        },
        "id": "dvyU9CWPEVvj",
        "outputId": "cb46e1e9-deef-4f9c-9603-d7167a02bd79"
      },
      "outputs": [
        {
          "output_type": "execute_result",
          "data": {
            "text/plain": [
              "[461686, 7943, 416017]"
            ]
          },
          "metadata": {},
          "execution_count": 170
        }
      ],
      "source": [
        "[item_lagels[k] for k in top]"
      ]
    },
    {
      "cell_type": "code",
      "execution_count": 171,
      "metadata": {
        "id": "hVzxu6ZDEVvj"
      },
      "outputs": [],
      "source": [
        "#количество пользователей и товаров в обучающих данных\n",
        "df = data[['itemid']]\n",
        "items = df.to_numpy()\n",
        "\n",
        "def sample_recommendation(model, data, user_ids):\n",
        "\n",
        "    n_users, n_items = data.shape\n",
        "\n",
        "    #generate recommendations for each user we input\n",
        "    for user_id in user_ids:\n",
        "\n",
        "        #movies our model predicts they will like\n",
        "        scores = model.predict(user_id, np.arange(n_items))\n",
        "\n",
        "        #rank them in order of most liked to least\n",
        "        top_items = items[np.argsort(-scores)][:3]\n",
        "\n",
        "        print(top_items)"
      ]
    },
    {
      "cell_type": "code",
      "execution_count": 172,
      "metadata": {
        "colab": {
          "base_uri": "https://localhost:8080/"
        },
        "id": "dAV3X_trEVvj",
        "outputId": "c92eaf86-0eef-4461-e756-2774a9540398"
      },
      "outputs": [
        {
          "output_type": "stream",
          "name": "stdout",
          "text": [
            "[[286057]\n",
            " [224900]\n",
            " [369638]]\n"
          ]
        }
      ],
      "source": [
        "sample_recommendation(modelLFM, test_coo[0], [7])"
      ]
    },
    {
      "cell_type": "code",
      "execution_count": 173,
      "metadata": {
        "colab": {
          "base_uri": "https://localhost:8080/"
        },
        "id": "dqyaOve338Kv",
        "outputId": "c0c88367-a71c-4d17-b443-5f203f1f89a5"
      },
      "outputs": [
        {
          "output_type": "stream",
          "name": "stdout",
          "text": [
            "[[286057]\n",
            " [224900]\n",
            " [369638]]\n"
          ]
        }
      ],
      "source": [
        "n_users, n_items = test_coo[0].shape\n",
        "\n",
        "for user_id in [1]:\n",
        "    scores = modelLFM.predict(user_id, np.arange(n_items))\n",
        "    top_items = items[np.argsort(-scores)][:3]\n",
        "    print(top_items)"
      ]
    },
    {
      "cell_type": "code",
      "execution_count": 174,
      "metadata": {
        "colab": {
          "base_uri": "https://localhost:8080/"
        },
        "id": "P3I37kxZ4ogv",
        "outputId": "c5c7d04b-0872-4b3e-e24b-790e16292e4c"
      },
      "outputs": [
        {
          "output_type": "stream",
          "name": "stdout",
          "text": [
            "[[286057]\n",
            " [224900]\n",
            " [369638]]\n"
          ]
        }
      ],
      "source": [
        "sample_recommendation(modelLFM, test_coo[1], [6])"
      ]
    },
    {
      "cell_type": "code",
      "execution_count": 175,
      "metadata": {
        "id": "3lao1LxiBKUW"
      },
      "outputs": [],
      "source": [
        "def get_recommendations(model, data, user_id, num_recs=3):\n",
        "    n_items = data['itemid'].nunique()\n",
        "    user_ids = np.array([user_id] * n_items)\n",
        "    item_ids = np.arange(n_items)\n",
        "\n",
        "    scores = model.predict(user_ids, item_ids)\n",
        "    top_item_indices = np.argsort(-scores)[:num_recs]\n",
        "    top_items = data['itemid'].values[top_item_indices]\n",
        "\n",
        "    return top_items"
      ]
    },
    {
      "cell_type": "code",
      "execution_count": 176,
      "metadata": {
        "colab": {
          "base_uri": "https://localhost:8080/"
        },
        "id": "XdhYlNxlBOc2",
        "outputId": "8db463eb-8220-4d78-f4df-2826bcafe2e4"
      },
      "outputs": [
        {
          "output_type": "stream",
          "name": "stdout",
          "text": [
            "Рекомендуемые товары для пользователя 46666: [286057 224900 453219]\n"
          ]
        }
      ],
      "source": [
        "user_id = 46666\n",
        "top_recommendations = get_recommendations(modelLFM, data, user_id)\n",
        "print(f\"Рекомендуемые товары для пользователя {user_id}: {top_recommendations}\")"
      ]
    },
    {
      "cell_type": "markdown",
      "metadata": {
        "id": "5MxAceOqEVvj"
      },
      "source": [
        "# Сохранение"
      ]
    },
    {
      "cell_type": "code",
      "execution_count": null,
      "metadata": {
        "id": "3Pe4mSRIDgRe"
      },
      "outputs": [],
      "source": [
        "# Подключение Google Drive\n",
        "from google.colab import drive\n",
        "drive.mount('/content/drive')\n",
        "\n",
        "# Сохранение модели LightFM в корневой директории Google Drive\n",
        "import pickle\n",
        "\n",
        "with open('/content/drive/MyDrive/diploma/lightfm_model.pickle', 'wb') as f:\n",
        "    pickle.dump(modelLFM, f, protocol=pickle.HIGHEST_PROTOCOL)\n",
        "\n",
        "print('Модель успешно сохранена в Google Drive')"
      ]
    },
    {
      "cell_type": "code",
      "source": [
        "# Подключение Google Drive\n",
        "from google.colab import drive\n",
        "drive.mount('/content/drive')\n",
        "\n",
        "# Сохранение модели LightFM в корневой директории Google Drive\n",
        "import pickle\n",
        "\n",
        "with open('/content/drive/MyDrive/diploma/lightfm_data_mapping.pickle', 'wb') as f:\n",
        "    pickle.dump(modelLFM, f, protocol=pickle.HIGHEST_PROTOCOL)\n",
        "\n",
        "print('Модель успешно сохранена в Google Drive')"
      ],
      "metadata": {
        "id": "WSxPqSDenQc-"
      },
      "execution_count": null,
      "outputs": []
    },
    {
      "cell_type": "markdown",
      "metadata": {
        "id": "owKWF0IZi8AG"
      },
      "source": [
        "Чтобы сохранить файл lightfm_model.pickle на локальный диск вашего компьютера, вы можете использовать следующий код:"
      ]
    },
    {
      "cell_type": "code",
      "execution_count": null,
      "metadata": {
        "id": "eY0IKWhY5P4_"
      },
      "outputs": [],
      "source": [
        "with open('lightfm_model.pickle', 'wb') as f:\n",
        "    pickle.dump(modelLFM, f, protocol=pickle.HIGHEST_PROTOCOL)"
      ]
    },
    {
      "cell_type": "code",
      "execution_count": null,
      "metadata": {
        "id": "Ut0gozrHobom"
      },
      "outputs": [],
      "source": [
        "visitors_items_mapping = dataset.mapping()"
      ]
    },
    {
      "cell_type": "code",
      "execution_count": null,
      "metadata": {
        "id": "zkv6aEWk5lM-"
      },
      "outputs": [],
      "source": [
        "with open('lightfm_data_mapping.pickle', 'wb') as f:\n",
        "    pickle.dump(visitors_items_mapping , f, protocol=pickle.HIGHEST_PROTOCOL)"
      ]
    },
    {
      "cell_type": "markdown",
      "metadata": {
        "id": "bXK9Y7pv50PE"
      },
      "source": [
        "# чтение"
      ]
    },
    {
      "cell_type": "code",
      "execution_count": null,
      "metadata": {
        "id": "KeCLPeq-53wb"
      },
      "outputs": [],
      "source": [
        "with open('lightfm_data_mapping.pickle', 'rb') as f:\n",
        "    loaded_model1 = pickle.load(f)"
      ]
    },
    {
      "cell_type": "code",
      "execution_count": null,
      "metadata": {
        "id": "ociiNm8P5zrD"
      },
      "outputs": [],
      "source": [
        "loaded_model1"
      ]
    },
    {
      "cell_type": "code",
      "execution_count": null,
      "metadata": {
        "id": "jlrjjkcM6HxE"
      },
      "outputs": [],
      "source": [
        "with open('lightfm_model.pickle', 'rb') as f:\n",
        "    loaded_model = pickle.load(f)"
      ]
    },
    {
      "cell_type": "code",
      "execution_count": null,
      "metadata": {
        "id": "maRHm3Tr6Lrc"
      },
      "outputs": [],
      "source": [
        "loaded_model"
      ]
    },
    {
      "cell_type": "code",
      "execution_count": null,
      "metadata": {
        "id": "BkcuA_ENICt-"
      },
      "outputs": [],
      "source": [
        "import numpy as np\n",
        "\n",
        "# Получаем размеры взаимодействий пользователей с элементами\n",
        "n_users, n_items = test_coo[0].shape\n",
        "\n",
        "# Укажите user_id, для которого нужно получить рекомендации\n",
        "user_id = 44 # Замените на нужный user_id\n",
        "\n",
        "# Получаем рекомендации для указанного user_id\n",
        "scores = modelLFM.predict(user_id, np.arange(n_items))\n",
        "top_items = items[np.argsort(-scores)][:3]\n",
        "print(f\"Рекомендации для user_id {user_id}:\")\n",
        "print(top_items)"
      ]
    }
  ],
  "metadata": {
    "colab": {
      "provenance": [],
      "include_colab_link": true
    },
    "kernelspec": {
      "display_name": "Python 3",
      "name": "python3"
    },
    "language_info": {
      "codemirror_mode": {
        "name": "ipython",
        "version": 3
      },
      "file_extension": ".py",
      "mimetype": "text/x-python",
      "name": "python",
      "nbconvert_exporter": "python",
      "pygments_lexer": "ipython3",
      "version": "3.9.10"
    },
    "widgets": {
      "application/vnd.jupyter.widget-state+json": {
        "88f83c15aa124ce39327654330ff8b07": {
          "model_module": "@jupyter-widgets/controls",
          "model_name": "HBoxModel",
          "model_module_version": "1.5.0",
          "state": {
            "_dom_classes": [],
            "_model_module": "@jupyter-widgets/controls",
            "_model_module_version": "1.5.0",
            "_model_name": "HBoxModel",
            "_view_count": null,
            "_view_module": "@jupyter-widgets/controls",
            "_view_module_version": "1.5.0",
            "_view_name": "HBoxView",
            "box_style": "",
            "children": [
              "IPY_MODEL_e4f0e1994e934d6585eea42499374782",
              "IPY_MODEL_e9dcd908837c42138ddd9f64baab5220",
              "IPY_MODEL_167b4e49cca84212b72477d7a7ca3b94"
            ],
            "layout": "IPY_MODEL_40cc2d596c384526bdb571686989910f"
          }
        },
        "e4f0e1994e934d6585eea42499374782": {
          "model_module": "@jupyter-widgets/controls",
          "model_name": "HTMLModel",
          "model_module_version": "1.5.0",
          "state": {
            "_dom_classes": [],
            "_model_module": "@jupyter-widgets/controls",
            "_model_module_version": "1.5.0",
            "_model_name": "HTMLModel",
            "_view_count": null,
            "_view_module": "@jupyter-widgets/controls",
            "_view_module_version": "1.5.0",
            "_view_name": "HTMLView",
            "description": "",
            "description_tooltip": null,
            "layout": "IPY_MODEL_57ab9b845bd24881bdcbfd16e7d700e9",
            "placeholder": "​",
            "style": "IPY_MODEL_1b5f72efbac94907aea6671039876848",
            "value": "100%"
          }
        },
        "e9dcd908837c42138ddd9f64baab5220": {
          "model_module": "@jupyter-widgets/controls",
          "model_name": "FloatProgressModel",
          "model_module_version": "1.5.0",
          "state": {
            "_dom_classes": [],
            "_model_module": "@jupyter-widgets/controls",
            "_model_module_version": "1.5.0",
            "_model_name": "FloatProgressModel",
            "_view_count": null,
            "_view_module": "@jupyter-widgets/controls",
            "_view_module_version": "1.5.0",
            "_view_name": "ProgressView",
            "bar_style": "success",
            "description": "",
            "description_tooltip": null,
            "layout": "IPY_MODEL_d2c5ead6779f4f7093df61a3ccdfb85a",
            "max": 20,
            "min": 0,
            "orientation": "horizontal",
            "style": "IPY_MODEL_d63b24e248504fbeb41f82886a8f0e90",
            "value": 20
          }
        },
        "167b4e49cca84212b72477d7a7ca3b94": {
          "model_module": "@jupyter-widgets/controls",
          "model_name": "HTMLModel",
          "model_module_version": "1.5.0",
          "state": {
            "_dom_classes": [],
            "_model_module": "@jupyter-widgets/controls",
            "_model_module_version": "1.5.0",
            "_model_name": "HTMLModel",
            "_view_count": null,
            "_view_module": "@jupyter-widgets/controls",
            "_view_module_version": "1.5.0",
            "_view_name": "HTMLView",
            "description": "",
            "description_tooltip": null,
            "layout": "IPY_MODEL_a1121130c72e46fa98a38fabf6ea6c5a",
            "placeholder": "​",
            "style": "IPY_MODEL_6aa9fc42b0354c33b06f18ed003fd3cb",
            "value": " 20/20 [16:30&lt;00:00, 47.60s/it]"
          }
        },
        "40cc2d596c384526bdb571686989910f": {
          "model_module": "@jupyter-widgets/base",
          "model_name": "LayoutModel",
          "model_module_version": "1.2.0",
          "state": {
            "_model_module": "@jupyter-widgets/base",
            "_model_module_version": "1.2.0",
            "_model_name": "LayoutModel",
            "_view_count": null,
            "_view_module": "@jupyter-widgets/base",
            "_view_module_version": "1.2.0",
            "_view_name": "LayoutView",
            "align_content": null,
            "align_items": null,
            "align_self": null,
            "border": null,
            "bottom": null,
            "display": null,
            "flex": null,
            "flex_flow": null,
            "grid_area": null,
            "grid_auto_columns": null,
            "grid_auto_flow": null,
            "grid_auto_rows": null,
            "grid_column": null,
            "grid_gap": null,
            "grid_row": null,
            "grid_template_areas": null,
            "grid_template_columns": null,
            "grid_template_rows": null,
            "height": null,
            "justify_content": null,
            "justify_items": null,
            "left": null,
            "margin": null,
            "max_height": null,
            "max_width": null,
            "min_height": null,
            "min_width": null,
            "object_fit": null,
            "object_position": null,
            "order": null,
            "overflow": null,
            "overflow_x": null,
            "overflow_y": null,
            "padding": null,
            "right": null,
            "top": null,
            "visibility": null,
            "width": null
          }
        },
        "57ab9b845bd24881bdcbfd16e7d700e9": {
          "model_module": "@jupyter-widgets/base",
          "model_name": "LayoutModel",
          "model_module_version": "1.2.0",
          "state": {
            "_model_module": "@jupyter-widgets/base",
            "_model_module_version": "1.2.0",
            "_model_name": "LayoutModel",
            "_view_count": null,
            "_view_module": "@jupyter-widgets/base",
            "_view_module_version": "1.2.0",
            "_view_name": "LayoutView",
            "align_content": null,
            "align_items": null,
            "align_self": null,
            "border": null,
            "bottom": null,
            "display": null,
            "flex": null,
            "flex_flow": null,
            "grid_area": null,
            "grid_auto_columns": null,
            "grid_auto_flow": null,
            "grid_auto_rows": null,
            "grid_column": null,
            "grid_gap": null,
            "grid_row": null,
            "grid_template_areas": null,
            "grid_template_columns": null,
            "grid_template_rows": null,
            "height": null,
            "justify_content": null,
            "justify_items": null,
            "left": null,
            "margin": null,
            "max_height": null,
            "max_width": null,
            "min_height": null,
            "min_width": null,
            "object_fit": null,
            "object_position": null,
            "order": null,
            "overflow": null,
            "overflow_x": null,
            "overflow_y": null,
            "padding": null,
            "right": null,
            "top": null,
            "visibility": null,
            "width": null
          }
        },
        "1b5f72efbac94907aea6671039876848": {
          "model_module": "@jupyter-widgets/controls",
          "model_name": "DescriptionStyleModel",
          "model_module_version": "1.5.0",
          "state": {
            "_model_module": "@jupyter-widgets/controls",
            "_model_module_version": "1.5.0",
            "_model_name": "DescriptionStyleModel",
            "_view_count": null,
            "_view_module": "@jupyter-widgets/base",
            "_view_module_version": "1.2.0",
            "_view_name": "StyleView",
            "description_width": ""
          }
        },
        "d2c5ead6779f4f7093df61a3ccdfb85a": {
          "model_module": "@jupyter-widgets/base",
          "model_name": "LayoutModel",
          "model_module_version": "1.2.0",
          "state": {
            "_model_module": "@jupyter-widgets/base",
            "_model_module_version": "1.2.0",
            "_model_name": "LayoutModel",
            "_view_count": null,
            "_view_module": "@jupyter-widgets/base",
            "_view_module_version": "1.2.0",
            "_view_name": "LayoutView",
            "align_content": null,
            "align_items": null,
            "align_self": null,
            "border": null,
            "bottom": null,
            "display": null,
            "flex": null,
            "flex_flow": null,
            "grid_area": null,
            "grid_auto_columns": null,
            "grid_auto_flow": null,
            "grid_auto_rows": null,
            "grid_column": null,
            "grid_gap": null,
            "grid_row": null,
            "grid_template_areas": null,
            "grid_template_columns": null,
            "grid_template_rows": null,
            "height": null,
            "justify_content": null,
            "justify_items": null,
            "left": null,
            "margin": null,
            "max_height": null,
            "max_width": null,
            "min_height": null,
            "min_width": null,
            "object_fit": null,
            "object_position": null,
            "order": null,
            "overflow": null,
            "overflow_x": null,
            "overflow_y": null,
            "padding": null,
            "right": null,
            "top": null,
            "visibility": null,
            "width": null
          }
        },
        "d63b24e248504fbeb41f82886a8f0e90": {
          "model_module": "@jupyter-widgets/controls",
          "model_name": "ProgressStyleModel",
          "model_module_version": "1.5.0",
          "state": {
            "_model_module": "@jupyter-widgets/controls",
            "_model_module_version": "1.5.0",
            "_model_name": "ProgressStyleModel",
            "_view_count": null,
            "_view_module": "@jupyter-widgets/base",
            "_view_module_version": "1.2.0",
            "_view_name": "StyleView",
            "bar_color": null,
            "description_width": ""
          }
        },
        "a1121130c72e46fa98a38fabf6ea6c5a": {
          "model_module": "@jupyter-widgets/base",
          "model_name": "LayoutModel",
          "model_module_version": "1.2.0",
          "state": {
            "_model_module": "@jupyter-widgets/base",
            "_model_module_version": "1.2.0",
            "_model_name": "LayoutModel",
            "_view_count": null,
            "_view_module": "@jupyter-widgets/base",
            "_view_module_version": "1.2.0",
            "_view_name": "LayoutView",
            "align_content": null,
            "align_items": null,
            "align_self": null,
            "border": null,
            "bottom": null,
            "display": null,
            "flex": null,
            "flex_flow": null,
            "grid_area": null,
            "grid_auto_columns": null,
            "grid_auto_flow": null,
            "grid_auto_rows": null,
            "grid_column": null,
            "grid_gap": null,
            "grid_row": null,
            "grid_template_areas": null,
            "grid_template_columns": null,
            "grid_template_rows": null,
            "height": null,
            "justify_content": null,
            "justify_items": null,
            "left": null,
            "margin": null,
            "max_height": null,
            "max_width": null,
            "min_height": null,
            "min_width": null,
            "object_fit": null,
            "object_position": null,
            "order": null,
            "overflow": null,
            "overflow_x": null,
            "overflow_y": null,
            "padding": null,
            "right": null,
            "top": null,
            "visibility": null,
            "width": null
          }
        },
        "6aa9fc42b0354c33b06f18ed003fd3cb": {
          "model_module": "@jupyter-widgets/controls",
          "model_name": "DescriptionStyleModel",
          "model_module_version": "1.5.0",
          "state": {
            "_model_module": "@jupyter-widgets/controls",
            "_model_module_version": "1.5.0",
            "_model_name": "DescriptionStyleModel",
            "_view_count": null,
            "_view_module": "@jupyter-widgets/base",
            "_view_module_version": "1.2.0",
            "_view_name": "StyleView",
            "description_width": ""
          }
        },
        "89de99c5d712452f89aec1ca1fbbb2fd": {
          "model_module": "@jupyter-widgets/controls",
          "model_name": "HBoxModel",
          "model_module_version": "1.5.0",
          "state": {
            "_dom_classes": [],
            "_model_module": "@jupyter-widgets/controls",
            "_model_module_version": "1.5.0",
            "_model_name": "HBoxModel",
            "_view_count": null,
            "_view_module": "@jupyter-widgets/controls",
            "_view_module_version": "1.5.0",
            "_view_name": "HBoxView",
            "box_style": "",
            "children": [
              "IPY_MODEL_636bd21259e648bc99ebde2dce16b6c4",
              "IPY_MODEL_14e7539ca36a470ca9657b1559140187",
              "IPY_MODEL_88a866240dc040dbbcc6291d344fcc94"
            ],
            "layout": "IPY_MODEL_2a51bff258064de696505a334fc83217"
          }
        },
        "636bd21259e648bc99ebde2dce16b6c4": {
          "model_module": "@jupyter-widgets/controls",
          "model_name": "HTMLModel",
          "model_module_version": "1.5.0",
          "state": {
            "_dom_classes": [],
            "_model_module": "@jupyter-widgets/controls",
            "_model_module_version": "1.5.0",
            "_model_name": "HTMLModel",
            "_view_count": null,
            "_view_module": "@jupyter-widgets/controls",
            "_view_module_version": "1.5.0",
            "_view_name": "HTMLView",
            "description": "",
            "description_tooltip": null,
            "layout": "IPY_MODEL_61b49edd61bd41eaa27ddee3d1f495f7",
            "placeholder": "​",
            "style": "IPY_MODEL_112a374d00df4718999ef8ad2325ebba",
            "value": "100%"
          }
        },
        "14e7539ca36a470ca9657b1559140187": {
          "model_module": "@jupyter-widgets/controls",
          "model_name": "FloatProgressModel",
          "model_module_version": "1.5.0",
          "state": {
            "_dom_classes": [],
            "_model_module": "@jupyter-widgets/controls",
            "_model_module_version": "1.5.0",
            "_model_name": "FloatProgressModel",
            "_view_count": null,
            "_view_module": "@jupyter-widgets/controls",
            "_view_module_version": "1.5.0",
            "_view_name": "ProgressView",
            "bar_style": "success",
            "description": "",
            "description_tooltip": null,
            "layout": "IPY_MODEL_a105459a2eb24e35b137959b590d5c59",
            "max": 119873,
            "min": 0,
            "orientation": "horizontal",
            "style": "IPY_MODEL_ddcff152997b43859e2399e124341b5d",
            "value": 119873
          }
        },
        "88a866240dc040dbbcc6291d344fcc94": {
          "model_module": "@jupyter-widgets/controls",
          "model_name": "HTMLModel",
          "model_module_version": "1.5.0",
          "state": {
            "_dom_classes": [],
            "_model_module": "@jupyter-widgets/controls",
            "_model_module_version": "1.5.0",
            "_model_name": "HTMLModel",
            "_view_count": null,
            "_view_module": "@jupyter-widgets/controls",
            "_view_module_version": "1.5.0",
            "_view_name": "HTMLView",
            "description": "",
            "description_tooltip": null,
            "layout": "IPY_MODEL_42874add31a044b3a3c0ad229329ede3",
            "placeholder": "​",
            "style": "IPY_MODEL_f439ec7162aa47549f163b71c87bd49b",
            "value": " 119873/119873 [12:12&lt;00:00, 166.97it/s]"
          }
        },
        "2a51bff258064de696505a334fc83217": {
          "model_module": "@jupyter-widgets/base",
          "model_name": "LayoutModel",
          "model_module_version": "1.2.0",
          "state": {
            "_model_module": "@jupyter-widgets/base",
            "_model_module_version": "1.2.0",
            "_model_name": "LayoutModel",
            "_view_count": null,
            "_view_module": "@jupyter-widgets/base",
            "_view_module_version": "1.2.0",
            "_view_name": "LayoutView",
            "align_content": null,
            "align_items": null,
            "align_self": null,
            "border": null,
            "bottom": null,
            "display": null,
            "flex": null,
            "flex_flow": null,
            "grid_area": null,
            "grid_auto_columns": null,
            "grid_auto_flow": null,
            "grid_auto_rows": null,
            "grid_column": null,
            "grid_gap": null,
            "grid_row": null,
            "grid_template_areas": null,
            "grid_template_columns": null,
            "grid_template_rows": null,
            "height": null,
            "justify_content": null,
            "justify_items": null,
            "left": null,
            "margin": null,
            "max_height": null,
            "max_width": null,
            "min_height": null,
            "min_width": null,
            "object_fit": null,
            "object_position": null,
            "order": null,
            "overflow": null,
            "overflow_x": null,
            "overflow_y": null,
            "padding": null,
            "right": null,
            "top": null,
            "visibility": null,
            "width": null
          }
        },
        "61b49edd61bd41eaa27ddee3d1f495f7": {
          "model_module": "@jupyter-widgets/base",
          "model_name": "LayoutModel",
          "model_module_version": "1.2.0",
          "state": {
            "_model_module": "@jupyter-widgets/base",
            "_model_module_version": "1.2.0",
            "_model_name": "LayoutModel",
            "_view_count": null,
            "_view_module": "@jupyter-widgets/base",
            "_view_module_version": "1.2.0",
            "_view_name": "LayoutView",
            "align_content": null,
            "align_items": null,
            "align_self": null,
            "border": null,
            "bottom": null,
            "display": null,
            "flex": null,
            "flex_flow": null,
            "grid_area": null,
            "grid_auto_columns": null,
            "grid_auto_flow": null,
            "grid_auto_rows": null,
            "grid_column": null,
            "grid_gap": null,
            "grid_row": null,
            "grid_template_areas": null,
            "grid_template_columns": null,
            "grid_template_rows": null,
            "height": null,
            "justify_content": null,
            "justify_items": null,
            "left": null,
            "margin": null,
            "max_height": null,
            "max_width": null,
            "min_height": null,
            "min_width": null,
            "object_fit": null,
            "object_position": null,
            "order": null,
            "overflow": null,
            "overflow_x": null,
            "overflow_y": null,
            "padding": null,
            "right": null,
            "top": null,
            "visibility": null,
            "width": null
          }
        },
        "112a374d00df4718999ef8ad2325ebba": {
          "model_module": "@jupyter-widgets/controls",
          "model_name": "DescriptionStyleModel",
          "model_module_version": "1.5.0",
          "state": {
            "_model_module": "@jupyter-widgets/controls",
            "_model_module_version": "1.5.0",
            "_model_name": "DescriptionStyleModel",
            "_view_count": null,
            "_view_module": "@jupyter-widgets/base",
            "_view_module_version": "1.2.0",
            "_view_name": "StyleView",
            "description_width": ""
          }
        },
        "a105459a2eb24e35b137959b590d5c59": {
          "model_module": "@jupyter-widgets/base",
          "model_name": "LayoutModel",
          "model_module_version": "1.2.0",
          "state": {
            "_model_module": "@jupyter-widgets/base",
            "_model_module_version": "1.2.0",
            "_model_name": "LayoutModel",
            "_view_count": null,
            "_view_module": "@jupyter-widgets/base",
            "_view_module_version": "1.2.0",
            "_view_name": "LayoutView",
            "align_content": null,
            "align_items": null,
            "align_self": null,
            "border": null,
            "bottom": null,
            "display": null,
            "flex": null,
            "flex_flow": null,
            "grid_area": null,
            "grid_auto_columns": null,
            "grid_auto_flow": null,
            "grid_auto_rows": null,
            "grid_column": null,
            "grid_gap": null,
            "grid_row": null,
            "grid_template_areas": null,
            "grid_template_columns": null,
            "grid_template_rows": null,
            "height": null,
            "justify_content": null,
            "justify_items": null,
            "left": null,
            "margin": null,
            "max_height": null,
            "max_width": null,
            "min_height": null,
            "min_width": null,
            "object_fit": null,
            "object_position": null,
            "order": null,
            "overflow": null,
            "overflow_x": null,
            "overflow_y": null,
            "padding": null,
            "right": null,
            "top": null,
            "visibility": null,
            "width": null
          }
        },
        "ddcff152997b43859e2399e124341b5d": {
          "model_module": "@jupyter-widgets/controls",
          "model_name": "ProgressStyleModel",
          "model_module_version": "1.5.0",
          "state": {
            "_model_module": "@jupyter-widgets/controls",
            "_model_module_version": "1.5.0",
            "_model_name": "ProgressStyleModel",
            "_view_count": null,
            "_view_module": "@jupyter-widgets/base",
            "_view_module_version": "1.2.0",
            "_view_name": "StyleView",
            "bar_color": null,
            "description_width": ""
          }
        },
        "42874add31a044b3a3c0ad229329ede3": {
          "model_module": "@jupyter-widgets/base",
          "model_name": "LayoutModel",
          "model_module_version": "1.2.0",
          "state": {
            "_model_module": "@jupyter-widgets/base",
            "_model_module_version": "1.2.0",
            "_model_name": "LayoutModel",
            "_view_count": null,
            "_view_module": "@jupyter-widgets/base",
            "_view_module_version": "1.2.0",
            "_view_name": "LayoutView",
            "align_content": null,
            "align_items": null,
            "align_self": null,
            "border": null,
            "bottom": null,
            "display": null,
            "flex": null,
            "flex_flow": null,
            "grid_area": null,
            "grid_auto_columns": null,
            "grid_auto_flow": null,
            "grid_auto_rows": null,
            "grid_column": null,
            "grid_gap": null,
            "grid_row": null,
            "grid_template_areas": null,
            "grid_template_columns": null,
            "grid_template_rows": null,
            "height": null,
            "justify_content": null,
            "justify_items": null,
            "left": null,
            "margin": null,
            "max_height": null,
            "max_width": null,
            "min_height": null,
            "min_width": null,
            "object_fit": null,
            "object_position": null,
            "order": null,
            "overflow": null,
            "overflow_x": null,
            "overflow_y": null,
            "padding": null,
            "right": null,
            "top": null,
            "visibility": null,
            "width": null
          }
        },
        "f439ec7162aa47549f163b71c87bd49b": {
          "model_module": "@jupyter-widgets/controls",
          "model_name": "DescriptionStyleModel",
          "model_module_version": "1.5.0",
          "state": {
            "_model_module": "@jupyter-widgets/controls",
            "_model_module_version": "1.5.0",
            "_model_name": "DescriptionStyleModel",
            "_view_count": null,
            "_view_module": "@jupyter-widgets/base",
            "_view_module_version": "1.2.0",
            "_view_name": "StyleView",
            "description_width": ""
          }
        }
      }
    }
  },
  "nbformat": 4,
  "nbformat_minor": 0
}